{
  "cells": [
    {
      "cell_type": "markdown",
      "metadata": {
        "id": "kccmnggsiFQl"
      },
      "source": [
        "#Basic Imports"
      ]
    },
    {
      "cell_type": "code",
      "execution_count": null,
      "metadata": {
        "id": "HUQ6yiu6iG-i"
      },
      "outputs": [],
      "source": [
        "#Import numpy for performing the statistical and mathematical operations on the data set\n",
        "import numpy as np"
      ]
    },
    {
      "cell_type": "code",
      "source": [
        "from sklearn import preprocessing"
      ],
      "metadata": {
        "id": "HsahHdNg8YBN"
      },
      "execution_count": null,
      "outputs": []
    },
    {
      "cell_type": "code",
      "execution_count": null,
      "metadata": {
        "id": "feaNYfIoiZiB"
      },
      "outputs": [],
      "source": [
        "#Import pandas to read files and create dataframe such as panel data\n",
        "import pandas as pd"
      ]
    },
    {
      "cell_type": "code",
      "execution_count": null,
      "metadata": {
        "id": "cpT8VxGwikSA"
      },
      "outputs": [],
      "source": [
        "#Visualization imports\n",
        "\n",
        "#Import Metplot for providing a way to visualize data\n",
        "import matplotlib.pyplot as plt\n",
        "\n",
        "#Import seaborn for attractive and information centric statistical graphical representation\n",
        "import seaborn as sns\n",
        "\n"
      ]
    },
    {
      "cell_type": "code",
      "execution_count": null,
      "metadata": {
        "colab": {
          "base_uri": "https://localhost:8080/",
          "height": 71
        },
        "id": "zTtuTitFirmW",
        "outputId": "483f26dc-2eb4-43a3-b478-8b1f07af73a1"
      },
      "outputs": [
        {
          "output_type": "display_data",
          "data": {
            "text/plain": [
              "<IPython.core.display.HTML object>"
            ],
            "text/html": [
              "\n",
              "     <input type=\"file\" id=\"files-2c1ced67-fec0-4a2c-8d51-016d7c596874\" name=\"files[]\" multiple disabled\n",
              "        style=\"border:none\" />\n",
              "     <output id=\"result-2c1ced67-fec0-4a2c-8d51-016d7c596874\">\n",
              "      Upload widget is only available when the cell has been executed in the\n",
              "      current browser session. Please rerun this cell to enable.\n",
              "      </output>\n",
              "      <script>// Copyright 2017 Google LLC\n",
              "//\n",
              "// Licensed under the Apache License, Version 2.0 (the \"License\");\n",
              "// you may not use this file except in compliance with the License.\n",
              "// You may obtain a copy of the License at\n",
              "//\n",
              "//      http://www.apache.org/licenses/LICENSE-2.0\n",
              "//\n",
              "// Unless required by applicable law or agreed to in writing, software\n",
              "// distributed under the License is distributed on an \"AS IS\" BASIS,\n",
              "// WITHOUT WARRANTIES OR CONDITIONS OF ANY KIND, either express or implied.\n",
              "// See the License for the specific language governing permissions and\n",
              "// limitations under the License.\n",
              "\n",
              "/**\n",
              " * @fileoverview Helpers for google.colab Python module.\n",
              " */\n",
              "(function(scope) {\n",
              "function span(text, styleAttributes = {}) {\n",
              "  const element = document.createElement('span');\n",
              "  element.textContent = text;\n",
              "  for (const key of Object.keys(styleAttributes)) {\n",
              "    element.style[key] = styleAttributes[key];\n",
              "  }\n",
              "  return element;\n",
              "}\n",
              "\n",
              "// Max number of bytes which will be uploaded at a time.\n",
              "const MAX_PAYLOAD_SIZE = 100 * 1024;\n",
              "\n",
              "function _uploadFiles(inputId, outputId) {\n",
              "  const steps = uploadFilesStep(inputId, outputId);\n",
              "  const outputElement = document.getElementById(outputId);\n",
              "  // Cache steps on the outputElement to make it available for the next call\n",
              "  // to uploadFilesContinue from Python.\n",
              "  outputElement.steps = steps;\n",
              "\n",
              "  return _uploadFilesContinue(outputId);\n",
              "}\n",
              "\n",
              "// This is roughly an async generator (not supported in the browser yet),\n",
              "// where there are multiple asynchronous steps and the Python side is going\n",
              "// to poll for completion of each step.\n",
              "// This uses a Promise to block the python side on completion of each step,\n",
              "// then passes the result of the previous step as the input to the next step.\n",
              "function _uploadFilesContinue(outputId) {\n",
              "  const outputElement = document.getElementById(outputId);\n",
              "  const steps = outputElement.steps;\n",
              "\n",
              "  const next = steps.next(outputElement.lastPromiseValue);\n",
              "  return Promise.resolve(next.value.promise).then((value) => {\n",
              "    // Cache the last promise value to make it available to the next\n",
              "    // step of the generator.\n",
              "    outputElement.lastPromiseValue = value;\n",
              "    return next.value.response;\n",
              "  });\n",
              "}\n",
              "\n",
              "/**\n",
              " * Generator function which is called between each async step of the upload\n",
              " * process.\n",
              " * @param {string} inputId Element ID of the input file picker element.\n",
              " * @param {string} outputId Element ID of the output display.\n",
              " * @return {!Iterable<!Object>} Iterable of next steps.\n",
              " */\n",
              "function* uploadFilesStep(inputId, outputId) {\n",
              "  const inputElement = document.getElementById(inputId);\n",
              "  inputElement.disabled = false;\n",
              "\n",
              "  const outputElement = document.getElementById(outputId);\n",
              "  outputElement.innerHTML = '';\n",
              "\n",
              "  const pickedPromise = new Promise((resolve) => {\n",
              "    inputElement.addEventListener('change', (e) => {\n",
              "      resolve(e.target.files);\n",
              "    });\n",
              "  });\n",
              "\n",
              "  const cancel = document.createElement('button');\n",
              "  inputElement.parentElement.appendChild(cancel);\n",
              "  cancel.textContent = 'Cancel upload';\n",
              "  const cancelPromise = new Promise((resolve) => {\n",
              "    cancel.onclick = () => {\n",
              "      resolve(null);\n",
              "    };\n",
              "  });\n",
              "\n",
              "  // Wait for the user to pick the files.\n",
              "  const files = yield {\n",
              "    promise: Promise.race([pickedPromise, cancelPromise]),\n",
              "    response: {\n",
              "      action: 'starting',\n",
              "    }\n",
              "  };\n",
              "\n",
              "  cancel.remove();\n",
              "\n",
              "  // Disable the input element since further picks are not allowed.\n",
              "  inputElement.disabled = true;\n",
              "\n",
              "  if (!files) {\n",
              "    return {\n",
              "      response: {\n",
              "        action: 'complete',\n",
              "      }\n",
              "    };\n",
              "  }\n",
              "\n",
              "  for (const file of files) {\n",
              "    const li = document.createElement('li');\n",
              "    li.append(span(file.name, {fontWeight: 'bold'}));\n",
              "    li.append(span(\n",
              "        `(${file.type || 'n/a'}) - ${file.size} bytes, ` +\n",
              "        `last modified: ${\n",
              "            file.lastModifiedDate ? file.lastModifiedDate.toLocaleDateString() :\n",
              "                                    'n/a'} - `));\n",
              "    const percent = span('0% done');\n",
              "    li.appendChild(percent);\n",
              "\n",
              "    outputElement.appendChild(li);\n",
              "\n",
              "    const fileDataPromise = new Promise((resolve) => {\n",
              "      const reader = new FileReader();\n",
              "      reader.onload = (e) => {\n",
              "        resolve(e.target.result);\n",
              "      };\n",
              "      reader.readAsArrayBuffer(file);\n",
              "    });\n",
              "    // Wait for the data to be ready.\n",
              "    let fileData = yield {\n",
              "      promise: fileDataPromise,\n",
              "      response: {\n",
              "        action: 'continue',\n",
              "      }\n",
              "    };\n",
              "\n",
              "    // Use a chunked sending to avoid message size limits. See b/62115660.\n",
              "    let position = 0;\n",
              "    do {\n",
              "      const length = Math.min(fileData.byteLength - position, MAX_PAYLOAD_SIZE);\n",
              "      const chunk = new Uint8Array(fileData, position, length);\n",
              "      position += length;\n",
              "\n",
              "      const base64 = btoa(String.fromCharCode.apply(null, chunk));\n",
              "      yield {\n",
              "        response: {\n",
              "          action: 'append',\n",
              "          file: file.name,\n",
              "          data: base64,\n",
              "        },\n",
              "      };\n",
              "\n",
              "      let percentDone = fileData.byteLength === 0 ?\n",
              "          100 :\n",
              "          Math.round((position / fileData.byteLength) * 100);\n",
              "      percent.textContent = `${percentDone}% done`;\n",
              "\n",
              "    } while (position < fileData.byteLength);\n",
              "  }\n",
              "\n",
              "  // All done.\n",
              "  yield {\n",
              "    response: {\n",
              "      action: 'complete',\n",
              "    }\n",
              "  };\n",
              "}\n",
              "\n",
              "scope.google = scope.google || {};\n",
              "scope.google.colab = scope.google.colab || {};\n",
              "scope.google.colab._files = {\n",
              "  _uploadFiles,\n",
              "  _uploadFilesContinue,\n",
              "};\n",
              "})(self);\n",
              "</script> "
            ]
          },
          "metadata": {}
        },
        {
          "output_type": "stream",
          "name": "stdout",
          "text": [
            "Saving IT.csv to IT.csv\n"
          ]
        }
      ],
      "source": [
        "from google.colab import files\n",
        "upload = files.upload()"
      ]
    },
    {
      "cell_type": "code",
      "execution_count": null,
      "metadata": {
        "id": "7n-cK02gltWK"
      },
      "outputs": [],
      "source": [
        "#To read text files\n",
        "from numpy import loadtxt"
      ]
    },
    {
      "cell_type": "code",
      "execution_count": null,
      "metadata": {
        "id": "bMZd6NyOnOch"
      },
      "outputs": [],
      "source": [
        "IT_job_satisfaction_data = pd.read_csv('IT.csv')"
      ]
    },
    {
      "cell_type": "markdown",
      "source": [
        "#Discriptive Analyis\n"
      ],
      "metadata": {
        "id": "7tiQKloL-Tz7"
      }
    },
    {
      "cell_type": "code",
      "execution_count": null,
      "metadata": {
        "colab": {
          "base_uri": "https://localhost:8080/"
        },
        "id": "BgBVJJWbWax6",
        "outputId": "bb8989e5-04cc-49c7-8035-090b37e23fc5"
      },
      "outputs": [
        {
          "output_type": "execute_result",
          "data": {
            "text/plain": [
              "(156, 18)"
            ]
          },
          "metadata": {},
          "execution_count": 8
        }
      ],
      "source": [
        "IT_job_satisfaction_data.shape"
      ]
    },
    {
      "cell_type": "code",
      "execution_count": null,
      "metadata": {
        "id": "umXx4lGbzxIc"
      },
      "outputs": [],
      "source": [
        "IT_job_satisfaction_data.rename(columns={\"What's your gender\": \"gender\"}, inplace=True)\n",
        "IT_job_satisfaction_data.rename(columns={\"What is your age?\": \"age\"}, inplace=True)\n",
        "IT_job_satisfaction_data.rename(columns={\"What is your country of residence\": \"country\"}, inplace=True)\n",
        "IT_job_satisfaction_data.rename(columns={\"What is your highest educational qualification?\": \"education\"}, inplace=True)\n",
        "IT_job_satisfaction_data.rename(columns={\"What is your current industry experience Level?\": \"experience\"}, inplace=True)\n",
        "IT_job_satisfaction_data.rename(columns={\"What is your role in your company?\": \"Job role\"}, inplace=True)\n",
        "IT_job_satisfaction_data.rename(columns={\"What is your working culture\": \"working culture\"}, inplace=True)\n",
        "IT_job_satisfaction_data.rename(columns={\"What is your annual salary in USD?\": \"annual salary\"}, inplace=True)\n",
        "IT_job_satisfaction_data.rename(columns={\"Stress level [What is your stress level during a project?]\": \"stress level in a project\"}, inplace=True)\n",
        "IT_job_satisfaction_data.rename(columns={\"Stress level [What is your stress level after the project]\": \"stress level after the project\"}, inplace=True)\n",
        "IT_job_satisfaction_data.rename(columns={\"Stress level [Can you focus on other important work during a project?]\": \"Other works during a project\"}, inplace=True)\n",
        "IT_job_satisfaction_data.rename(columns={\"Stress level [Do you feel stressed as project deadlines approach?]\": \"stress level in duedates\"}, inplace=True)\n",
        "IT_job_satisfaction_data.rename(columns={\"Engagement with family/ partner [Have you ever received a complaint from your partner about your lack of support/Engagement?]\": \"complaint from your partner\"}, inplace=True)\n",
        "IT_job_satisfaction_data.rename(columns={\"Engagement with family/ partner [Have you ever missed a special event of family because of job?]\": \"missed a family event\"}, inplace=True)\n",
        "IT_job_satisfaction_data.rename(columns={\"Engagement with family/ partner [Rate your family/ partner 's support for your work]\": \"Family support\"}, inplace=True)\n",
        "IT_job_satisfaction_data.rename(columns={\"Engagement with family/ partner [Have you done job-related work after work hours?]\": \"work after work hours\"}, inplace=True)\n",
        "IT_job_satisfaction_data.rename(columns={\"Engage with society [Have you ever received a complaint from society about your lack of support/Engagement for common work?]\": \"complaint from society\"}, inplace=True)\n",
        "IT_job_satisfaction_data.rename(columns={\"Engage with society [Have you ever missed an event where your attendance is mandatory because of work?]\": \"missed a social event\"}, inplace=True)\n",
        "IT_job_satisfaction_data.rename(columns={\"Engage with society [Do you manage time to have fun with friends?]\": \"have time for a fun\"}, inplace=True)\n",
        "IT_job_satisfaction_data.rename(columns={\"Engage with society [Rate your financial contribution for common work]\": \"financial contribution for society\"}, inplace=True)\n",
        "IT_job_satisfaction_data.rename(columns={\"Satisfaction about the country [Have you ever thought of moving to another country?]\": \"moving to another country\"}, inplace=True)\n",
        "IT_job_satisfaction_data.rename(columns={\"Satisfaction about the country [Have you ever thought of working in another country?(Remote work)]\": \"Remote work\"}, inplace=True)\n",
        "IT_job_satisfaction_data.rename(columns={\"Satisfaction about the country [Are you satisfy with your current residential country?]\": \"satisfaction about country\"}, inplace=True)\n",
        "IT_job_satisfaction_data.rename(columns={\"Satisfaction about the company [Are you satisfied with the benefits provided by the company?]\": \"satisfaction about company benefits\"}, inplace=True)\n",
        "IT_job_satisfaction_data.rename(columns={\"Satisfaction about the company [Is the company giving you too much work?]\": \"satisfaction about workload\"}, inplace=True)\n",
        "IT_job_satisfaction_data.rename(columns={\"Satisfaction about the company [Do you feel the company is giving you the value you deserve?]\": \"satisfaction about value\"}, inplace=True)\n",
        "IT_job_satisfaction_data.rename(columns={\"Satisfaction about the salary [Have you ever thought that your current salary should be increased?]\": \"salary increase\"}, inplace=True)\n",
        "IT_job_satisfaction_data.rename(columns={\"Satisfaction about the salary [Are you satisfied with your salary if you compare it with the salary of other organizations holding the same position?]\": \"compare salary with competitors\"}, inplace=True)\n",
        "IT_job_satisfaction_data.rename(columns={\"Satisfaction about the salary [Are you satisfied with the salary for your position?]\": \"satisfaction about salary for position\"}, inplace=True)\n",
        "IT_job_satisfaction_data.rename(columns={\"Satisfaction about the salary [Is your salary sufficient for your expenses (for personal expenses/household expenses)?]\": \"Is enough salary\"}, inplace=True)\n",
        "IT_job_satisfaction_data.rename(columns={\"Satisfaction about the job title [Are you satisfied with your job position?]\": \"satisfaction about job position\"}, inplace=True)\n",
        "IT_job_satisfaction_data.rename(columns={\"Satisfaction about the job title [Are you looking to learn more about related to your career?]\": \"Looking for further learning\"}, inplace=True)\n",
        "IT_job_satisfaction_data.rename(columns={\"Satisfaction about the IT job field [Do you believe that the job you are doing now is your favorite job in the world?]\": \"is this Favourite job\"}, inplace=True)\n",
        "IT_job_satisfaction_data.rename(columns={\"Satisfaction about the IT job field [Have you ever considered switching to another job field (non-IT)?]\": \"switch the job field\"}, inplace=True)\n",
        "IT_job_satisfaction_data.rename(columns={\"Overall, are you satisfied with being an IT-related employee?\": \"Satisfaction about IT field\"}, inplace=True)\n",
        "\n"
      ]
    },
    {
      "cell_type": "code",
      "execution_count": null,
      "metadata": {
        "colab": {
          "base_uri": "https://localhost:8080/",
          "height": 488
        },
        "id": "O4_pnsGunbOI",
        "outputId": "f48a6c60-3e9a-433a-de8b-ef726134ca15"
      },
      "outputs": [
        {
          "output_type": "execute_result",
          "data": {
            "text/plain": [
              "     gender  age  country  education  experience  Job_role  working_culture  \\\n",
              "0         0    1        0          4           4         5                0   \n",
              "1         1    1        0          2           0         5                0   \n",
              "2         1    0        0          2           0         2                2   \n",
              "3         1    1        0          2           0         2                1   \n",
              "4         1    1        0          2           0         1                0   \n",
              "..      ...  ...      ...        ...         ...       ...              ...   \n",
              "151       0    1        0          2           1         2                2   \n",
              "152       0    0        0          2           0         2                1   \n",
              "153       0    1        0          1           0         2                0   \n",
              "154       1    1        0          2           0         5                0   \n",
              "155       0    0        0          2           0         2                2   \n",
              "\n",
              "     annual_salary  is_thisFavourite_job  switch_the_job_field  \\\n",
              "0                6                     0                     1   \n",
              "1                1                     0                     2   \n",
              "2                0                     1                     1   \n",
              "3                0                     1                     2   \n",
              "4                0                     1                     0   \n",
              "..             ...                   ...                   ...   \n",
              "151              1                     2                     0   \n",
              "152              0                     2                     0   \n",
              "153              1                     2                     1   \n",
              "154              1                     0                     2   \n",
              "155              1                     2                     0   \n",
              "\n",
              "     STRESS_LEVEL_IN_A_PROJECT  ENGAGEMENT_WITH_FAMILY  \\\n",
              "0                     1.245171                2.392829   \n",
              "1                     0.796339                2.027511   \n",
              "2                    -1.628461               -0.530939   \n",
              "3                    -1.628461               -0.161396   \n",
              "4                     0.586515                2.031125   \n",
              "..                         ...                     ...   \n",
              "151                  -1.179629                0.573161   \n",
              "152                   0.032771               -0.157477   \n",
              "153                  -0.520973               -0.523100   \n",
              "154                   1.245171                0.573161   \n",
              "155                  -2.945773               -1.261577   \n",
              "\n",
              "     ENGAGEMENT_WITH_SOCIETY  SATISFACTION_ABOUT_COUNTRY  \\\n",
              "0                   2.419291                   -0.286974   \n",
              "1                   2.419291                    1.291619   \n",
              "2                  -1.337946                   -0.405740   \n",
              "3                  -0.879361                    0.161807   \n",
              "4                   0.540673                   -1.750852   \n",
              "..                       ...                         ...   \n",
              "151                -0.398637                   -0.906597   \n",
              "152                 1.479982                    1.018960   \n",
              "153                 0.059948                   -1.166357   \n",
              "154                 1.479982                    1.291619   \n",
              "155                -1.337946                    0.200985   \n",
              "\n",
              "     SATISFACTION_ABOUT_COMPANY  SATISFACTION_ABOUT_SALARY  \\\n",
              "0                      0.683161                   0.713838   \n",
              "1                      0.659404                   1.246116   \n",
              "2                      0.191437                  -0.171197   \n",
              "3                     -1.236220                   0.643952   \n",
              "4                     -0.276529                  -0.350178   \n",
              "..                          ...                        ...   \n",
              "151                    1.642852                   0.484609   \n",
              "152                    0.683161                   0.131311   \n",
              "153                   -0.276529                   0.111675   \n",
              "154                    0.167680                   1.608961   \n",
              "155                    1.642852                   1.408917   \n",
              "\n",
              "     SATISFACTION_ABOUT_JOB_POSITION  SATISFACTION_ABOUT_IT_FIELD  \n",
              "0                           0.126900                            1  \n",
              "1                          -0.865164                            0  \n",
              "2                           0.690355                            1  \n",
              "3                           0.126900                            0  \n",
              "4                          -1.992075                            1  \n",
              "..                               ...                          ...  \n",
              "151                         1.208861                            1  \n",
              "152                         0.171849                            1  \n",
              "153                         0.690355                            1  \n",
              "154                        -0.865164                            0  \n",
              "155                         1.208861                            1  \n",
              "\n",
              "[156 rows x 18 columns]"
            ],
            "text/html": [
              "\n",
              "  <div id=\"df-846d3712-29cd-4524-af02-78306406d236\">\n",
              "    <div class=\"colab-df-container\">\n",
              "      <div>\n",
              "<style scoped>\n",
              "    .dataframe tbody tr th:only-of-type {\n",
              "        vertical-align: middle;\n",
              "    }\n",
              "\n",
              "    .dataframe tbody tr th {\n",
              "        vertical-align: top;\n",
              "    }\n",
              "\n",
              "    .dataframe thead th {\n",
              "        text-align: right;\n",
              "    }\n",
              "</style>\n",
              "<table border=\"1\" class=\"dataframe\">\n",
              "  <thead>\n",
              "    <tr style=\"text-align: right;\">\n",
              "      <th></th>\n",
              "      <th>gender</th>\n",
              "      <th>age</th>\n",
              "      <th>country</th>\n",
              "      <th>education</th>\n",
              "      <th>experience</th>\n",
              "      <th>Job_role</th>\n",
              "      <th>working_culture</th>\n",
              "      <th>annual_salary</th>\n",
              "      <th>is_thisFavourite_job</th>\n",
              "      <th>switch_the_job_field</th>\n",
              "      <th>STRESS_LEVEL_IN_A_PROJECT</th>\n",
              "      <th>ENGAGEMENT_WITH_FAMILY</th>\n",
              "      <th>ENGAGEMENT_WITH_SOCIETY</th>\n",
              "      <th>SATISFACTION_ABOUT_COUNTRY</th>\n",
              "      <th>SATISFACTION_ABOUT_COMPANY</th>\n",
              "      <th>SATISFACTION_ABOUT_SALARY</th>\n",
              "      <th>SATISFACTION_ABOUT_JOB_POSITION</th>\n",
              "      <th>SATISFACTION_ABOUT_IT_FIELD</th>\n",
              "    </tr>\n",
              "  </thead>\n",
              "  <tbody>\n",
              "    <tr>\n",
              "      <th>0</th>\n",
              "      <td>0</td>\n",
              "      <td>1</td>\n",
              "      <td>0</td>\n",
              "      <td>4</td>\n",
              "      <td>4</td>\n",
              "      <td>5</td>\n",
              "      <td>0</td>\n",
              "      <td>6</td>\n",
              "      <td>0</td>\n",
              "      <td>1</td>\n",
              "      <td>1.245171</td>\n",
              "      <td>2.392829</td>\n",
              "      <td>2.419291</td>\n",
              "      <td>-0.286974</td>\n",
              "      <td>0.683161</td>\n",
              "      <td>0.713838</td>\n",
              "      <td>0.126900</td>\n",
              "      <td>1</td>\n",
              "    </tr>\n",
              "    <tr>\n",
              "      <th>1</th>\n",
              "      <td>1</td>\n",
              "      <td>1</td>\n",
              "      <td>0</td>\n",
              "      <td>2</td>\n",
              "      <td>0</td>\n",
              "      <td>5</td>\n",
              "      <td>0</td>\n",
              "      <td>1</td>\n",
              "      <td>0</td>\n",
              "      <td>2</td>\n",
              "      <td>0.796339</td>\n",
              "      <td>2.027511</td>\n",
              "      <td>2.419291</td>\n",
              "      <td>1.291619</td>\n",
              "      <td>0.659404</td>\n",
              "      <td>1.246116</td>\n",
              "      <td>-0.865164</td>\n",
              "      <td>0</td>\n",
              "    </tr>\n",
              "    <tr>\n",
              "      <th>2</th>\n",
              "      <td>1</td>\n",
              "      <td>0</td>\n",
              "      <td>0</td>\n",
              "      <td>2</td>\n",
              "      <td>0</td>\n",
              "      <td>2</td>\n",
              "      <td>2</td>\n",
              "      <td>0</td>\n",
              "      <td>1</td>\n",
              "      <td>1</td>\n",
              "      <td>-1.628461</td>\n",
              "      <td>-0.530939</td>\n",
              "      <td>-1.337946</td>\n",
              "      <td>-0.405740</td>\n",
              "      <td>0.191437</td>\n",
              "      <td>-0.171197</td>\n",
              "      <td>0.690355</td>\n",
              "      <td>1</td>\n",
              "    </tr>\n",
              "    <tr>\n",
              "      <th>3</th>\n",
              "      <td>1</td>\n",
              "      <td>1</td>\n",
              "      <td>0</td>\n",
              "      <td>2</td>\n",
              "      <td>0</td>\n",
              "      <td>2</td>\n",
              "      <td>1</td>\n",
              "      <td>0</td>\n",
              "      <td>1</td>\n",
              "      <td>2</td>\n",
              "      <td>-1.628461</td>\n",
              "      <td>-0.161396</td>\n",
              "      <td>-0.879361</td>\n",
              "      <td>0.161807</td>\n",
              "      <td>-1.236220</td>\n",
              "      <td>0.643952</td>\n",
              "      <td>0.126900</td>\n",
              "      <td>0</td>\n",
              "    </tr>\n",
              "    <tr>\n",
              "      <th>4</th>\n",
              "      <td>1</td>\n",
              "      <td>1</td>\n",
              "      <td>0</td>\n",
              "      <td>2</td>\n",
              "      <td>0</td>\n",
              "      <td>1</td>\n",
              "      <td>0</td>\n",
              "      <td>0</td>\n",
              "      <td>1</td>\n",
              "      <td>0</td>\n",
              "      <td>0.586515</td>\n",
              "      <td>2.031125</td>\n",
              "      <td>0.540673</td>\n",
              "      <td>-1.750852</td>\n",
              "      <td>-0.276529</td>\n",
              "      <td>-0.350178</td>\n",
              "      <td>-1.992075</td>\n",
              "      <td>1</td>\n",
              "    </tr>\n",
              "    <tr>\n",
              "      <th>...</th>\n",
              "      <td>...</td>\n",
              "      <td>...</td>\n",
              "      <td>...</td>\n",
              "      <td>...</td>\n",
              "      <td>...</td>\n",
              "      <td>...</td>\n",
              "      <td>...</td>\n",
              "      <td>...</td>\n",
              "      <td>...</td>\n",
              "      <td>...</td>\n",
              "      <td>...</td>\n",
              "      <td>...</td>\n",
              "      <td>...</td>\n",
              "      <td>...</td>\n",
              "      <td>...</td>\n",
              "      <td>...</td>\n",
              "      <td>...</td>\n",
              "      <td>...</td>\n",
              "    </tr>\n",
              "    <tr>\n",
              "      <th>151</th>\n",
              "      <td>0</td>\n",
              "      <td>1</td>\n",
              "      <td>0</td>\n",
              "      <td>2</td>\n",
              "      <td>1</td>\n",
              "      <td>2</td>\n",
              "      <td>2</td>\n",
              "      <td>1</td>\n",
              "      <td>2</td>\n",
              "      <td>0</td>\n",
              "      <td>-1.179629</td>\n",
              "      <td>0.573161</td>\n",
              "      <td>-0.398637</td>\n",
              "      <td>-0.906597</td>\n",
              "      <td>1.642852</td>\n",
              "      <td>0.484609</td>\n",
              "      <td>1.208861</td>\n",
              "      <td>1</td>\n",
              "    </tr>\n",
              "    <tr>\n",
              "      <th>152</th>\n",
              "      <td>0</td>\n",
              "      <td>0</td>\n",
              "      <td>0</td>\n",
              "      <td>2</td>\n",
              "      <td>0</td>\n",
              "      <td>2</td>\n",
              "      <td>1</td>\n",
              "      <td>0</td>\n",
              "      <td>2</td>\n",
              "      <td>0</td>\n",
              "      <td>0.032771</td>\n",
              "      <td>-0.157477</td>\n",
              "      <td>1.479982</td>\n",
              "      <td>1.018960</td>\n",
              "      <td>0.683161</td>\n",
              "      <td>0.131311</td>\n",
              "      <td>0.171849</td>\n",
              "      <td>1</td>\n",
              "    </tr>\n",
              "    <tr>\n",
              "      <th>153</th>\n",
              "      <td>0</td>\n",
              "      <td>1</td>\n",
              "      <td>0</td>\n",
              "      <td>1</td>\n",
              "      <td>0</td>\n",
              "      <td>2</td>\n",
              "      <td>0</td>\n",
              "      <td>1</td>\n",
              "      <td>2</td>\n",
              "      <td>1</td>\n",
              "      <td>-0.520973</td>\n",
              "      <td>-0.523100</td>\n",
              "      <td>0.059948</td>\n",
              "      <td>-1.166357</td>\n",
              "      <td>-0.276529</td>\n",
              "      <td>0.111675</td>\n",
              "      <td>0.690355</td>\n",
              "      <td>1</td>\n",
              "    </tr>\n",
              "    <tr>\n",
              "      <th>154</th>\n",
              "      <td>1</td>\n",
              "      <td>1</td>\n",
              "      <td>0</td>\n",
              "      <td>2</td>\n",
              "      <td>0</td>\n",
              "      <td>5</td>\n",
              "      <td>0</td>\n",
              "      <td>1</td>\n",
              "      <td>0</td>\n",
              "      <td>2</td>\n",
              "      <td>1.245171</td>\n",
              "      <td>0.573161</td>\n",
              "      <td>1.479982</td>\n",
              "      <td>1.291619</td>\n",
              "      <td>0.167680</td>\n",
              "      <td>1.608961</td>\n",
              "      <td>-0.865164</td>\n",
              "      <td>0</td>\n",
              "    </tr>\n",
              "    <tr>\n",
              "      <th>155</th>\n",
              "      <td>0</td>\n",
              "      <td>0</td>\n",
              "      <td>0</td>\n",
              "      <td>2</td>\n",
              "      <td>0</td>\n",
              "      <td>2</td>\n",
              "      <td>2</td>\n",
              "      <td>1</td>\n",
              "      <td>2</td>\n",
              "      <td>0</td>\n",
              "      <td>-2.945773</td>\n",
              "      <td>-1.261577</td>\n",
              "      <td>-1.337946</td>\n",
              "      <td>0.200985</td>\n",
              "      <td>1.642852</td>\n",
              "      <td>1.408917</td>\n",
              "      <td>1.208861</td>\n",
              "      <td>1</td>\n",
              "    </tr>\n",
              "  </tbody>\n",
              "</table>\n",
              "<p>156 rows × 18 columns</p>\n",
              "</div>\n",
              "      <button class=\"colab-df-convert\" onclick=\"convertToInteractive('df-846d3712-29cd-4524-af02-78306406d236')\"\n",
              "              title=\"Convert this dataframe to an interactive table.\"\n",
              "              style=\"display:none;\">\n",
              "        \n",
              "  <svg xmlns=\"http://www.w3.org/2000/svg\" height=\"24px\"viewBox=\"0 0 24 24\"\n",
              "       width=\"24px\">\n",
              "    <path d=\"M0 0h24v24H0V0z\" fill=\"none\"/>\n",
              "    <path d=\"M18.56 5.44l.94 2.06.94-2.06 2.06-.94-2.06-.94-.94-2.06-.94 2.06-2.06.94zm-11 1L8.5 8.5l.94-2.06 2.06-.94-2.06-.94L8.5 2.5l-.94 2.06-2.06.94zm10 10l.94 2.06.94-2.06 2.06-.94-2.06-.94-.94-2.06-.94 2.06-2.06.94z\"/><path d=\"M17.41 7.96l-1.37-1.37c-.4-.4-.92-.59-1.43-.59-.52 0-1.04.2-1.43.59L10.3 9.45l-7.72 7.72c-.78.78-.78 2.05 0 2.83L4 21.41c.39.39.9.59 1.41.59.51 0 1.02-.2 1.41-.59l7.78-7.78 2.81-2.81c.8-.78.8-2.07 0-2.86zM5.41 20L4 18.59l7.72-7.72 1.47 1.35L5.41 20z\"/>\n",
              "  </svg>\n",
              "      </button>\n",
              "      \n",
              "  <style>\n",
              "    .colab-df-container {\n",
              "      display:flex;\n",
              "      flex-wrap:wrap;\n",
              "      gap: 12px;\n",
              "    }\n",
              "\n",
              "    .colab-df-convert {\n",
              "      background-color: #E8F0FE;\n",
              "      border: none;\n",
              "      border-radius: 50%;\n",
              "      cursor: pointer;\n",
              "      display: none;\n",
              "      fill: #1967D2;\n",
              "      height: 32px;\n",
              "      padding: 0 0 0 0;\n",
              "      width: 32px;\n",
              "    }\n",
              "\n",
              "    .colab-df-convert:hover {\n",
              "      background-color: #E2EBFA;\n",
              "      box-shadow: 0px 1px 2px rgba(60, 64, 67, 0.3), 0px 1px 3px 1px rgba(60, 64, 67, 0.15);\n",
              "      fill: #174EA6;\n",
              "    }\n",
              "\n",
              "    [theme=dark] .colab-df-convert {\n",
              "      background-color: #3B4455;\n",
              "      fill: #D2E3FC;\n",
              "    }\n",
              "\n",
              "    [theme=dark] .colab-df-convert:hover {\n",
              "      background-color: #434B5C;\n",
              "      box-shadow: 0px 1px 3px 1px rgba(0, 0, 0, 0.15);\n",
              "      filter: drop-shadow(0px 1px 2px rgba(0, 0, 0, 0.3));\n",
              "      fill: #FFFFFF;\n",
              "    }\n",
              "  </style>\n",
              "\n",
              "      <script>\n",
              "        const buttonEl =\n",
              "          document.querySelector('#df-846d3712-29cd-4524-af02-78306406d236 button.colab-df-convert');\n",
              "        buttonEl.style.display =\n",
              "          google.colab.kernel.accessAllowed ? 'block' : 'none';\n",
              "\n",
              "        async function convertToInteractive(key) {\n",
              "          const element = document.querySelector('#df-846d3712-29cd-4524-af02-78306406d236');\n",
              "          const dataTable =\n",
              "            await google.colab.kernel.invokeFunction('convertToInteractive',\n",
              "                                                     [key], {});\n",
              "          if (!dataTable) return;\n",
              "\n",
              "          const docLinkHtml = 'Like what you see? Visit the ' +\n",
              "            '<a target=\"_blank\" href=https://colab.research.google.com/notebooks/data_table.ipynb>data table notebook</a>'\n",
              "            + ' to learn more about interactive tables.';\n",
              "          element.innerHTML = '';\n",
              "          dataTable['output_type'] = 'display_data';\n",
              "          await google.colab.output.renderOutput(dataTable, element);\n",
              "          const docLink = document.createElement('div');\n",
              "          docLink.innerHTML = docLinkHtml;\n",
              "          element.appendChild(docLink);\n",
              "        }\n",
              "      </script>\n",
              "    </div>\n",
              "  </div>\n",
              "  "
            ]
          },
          "metadata": {},
          "execution_count": 13
        }
      ],
      "source": [
        "IT_job_satisfaction_data"
      ]
    },
    {
      "cell_type": "code",
      "execution_count": null,
      "metadata": {
        "colab": {
          "base_uri": "https://localhost:8080/"
        },
        "id": "zmk0QFfYniu9",
        "outputId": "937404eb-79f3-4e61-bf4d-a60445d131ca"
      },
      "outputs": [
        {
          "output_type": "stream",
          "name": "stdout",
          "text": [
            "<class 'pandas.core.frame.DataFrame'>\n",
            "RangeIndex: 156 entries, 0 to 155\n",
            "Data columns (total 18 columns):\n",
            " #   Column                           Non-Null Count  Dtype  \n",
            "---  ------                           --------------  -----  \n",
            " 0   gender                           156 non-null    int64  \n",
            " 1   age                              156 non-null    int64  \n",
            " 2   country                          156 non-null    int64  \n",
            " 3   education                        156 non-null    int64  \n",
            " 4   experience                       156 non-null    int64  \n",
            " 5   Job_role                         156 non-null    int64  \n",
            " 6   working_culture                  156 non-null    int64  \n",
            " 7   annual_salary                    156 non-null    int64  \n",
            " 8   is_thisFavourite_job             156 non-null    int64  \n",
            " 9   switch_the_job_field             156 non-null    int64  \n",
            " 10  STRESS_LEVEL_IN_A_PROJECT        156 non-null    float64\n",
            " 11  ENGAGEMENT_WITH_FAMILY           156 non-null    float64\n",
            " 12  ENGAGEMENT_WITH_SOCIETY          156 non-null    float64\n",
            " 13  SATISFACTION_ABOUT_COUNTRY       156 non-null    float64\n",
            " 14  SATISFACTION_ABOUT_COMPANY       156 non-null    float64\n",
            " 15  SATISFACTION_ABOUT_SALARY        156 non-null    float64\n",
            " 16  SATISFACTION_ABOUT_JOB_POSITION  156 non-null    float64\n",
            " 17  SATISFACTION_ABOUT_IT_FIELD      156 non-null    int64  \n",
            "dtypes: float64(7), int64(11)\n",
            "memory usage: 22.1 KB\n"
          ]
        }
      ],
      "source": [
        "#Infomation about the data\n",
        "IT_job_satisfaction_data.info()"
      ]
    },
    {
      "cell_type": "code",
      "execution_count": null,
      "metadata": {
        "colab": {
          "base_uri": "https://localhost:8080/",
          "height": 488
        },
        "id": "dS0Ie-hon0x2",
        "outputId": "96547e86-ce52-4a10-b887-0f2112d55edf"
      },
      "outputs": [
        {
          "output_type": "execute_result",
          "data": {
            "text/plain": [
              "     gender    age  country  education  experience  Job_role  working_culture  \\\n",
              "0     False  False    False      False       False     False            False   \n",
              "1     False  False    False      False       False     False            False   \n",
              "2     False  False    False      False       False     False            False   \n",
              "3     False  False    False      False       False     False            False   \n",
              "4     False  False    False      False       False     False            False   \n",
              "..      ...    ...      ...        ...         ...       ...              ...   \n",
              "151   False  False    False      False       False     False            False   \n",
              "152   False  False    False      False       False     False            False   \n",
              "153   False  False    False      False       False     False            False   \n",
              "154   False  False    False      False       False     False            False   \n",
              "155   False  False    False      False       False     False            False   \n",
              "\n",
              "     annual_salary  is_thisFavourite_job  switch_the_job_field  \\\n",
              "0            False                 False                 False   \n",
              "1            False                 False                 False   \n",
              "2            False                 False                 False   \n",
              "3            False                 False                 False   \n",
              "4            False                 False                 False   \n",
              "..             ...                   ...                   ...   \n",
              "151          False                 False                 False   \n",
              "152          False                 False                 False   \n",
              "153          False                 False                 False   \n",
              "154          False                 False                 False   \n",
              "155          False                 False                 False   \n",
              "\n",
              "     STRESS_LEVEL_IN_A_PROJECT  ENGAGEMENT_WITH_FAMILY  \\\n",
              "0                        False                   False   \n",
              "1                        False                   False   \n",
              "2                        False                   False   \n",
              "3                        False                   False   \n",
              "4                        False                   False   \n",
              "..                         ...                     ...   \n",
              "151                      False                   False   \n",
              "152                      False                   False   \n",
              "153                      False                   False   \n",
              "154                      False                   False   \n",
              "155                      False                   False   \n",
              "\n",
              "     ENGAGEMENT_WITH_SOCIETY  SATISFACTION_ABOUT_COUNTRY  \\\n",
              "0                      False                       False   \n",
              "1                      False                       False   \n",
              "2                      False                       False   \n",
              "3                      False                       False   \n",
              "4                      False                       False   \n",
              "..                       ...                         ...   \n",
              "151                    False                       False   \n",
              "152                    False                       False   \n",
              "153                    False                       False   \n",
              "154                    False                       False   \n",
              "155                    False                       False   \n",
              "\n",
              "     SATISFACTION_ABOUT_COMPANY  SATISFACTION_ABOUT_SALARY  \\\n",
              "0                         False                      False   \n",
              "1                         False                      False   \n",
              "2                         False                      False   \n",
              "3                         False                      False   \n",
              "4                         False                      False   \n",
              "..                          ...                        ...   \n",
              "151                       False                      False   \n",
              "152                       False                      False   \n",
              "153                       False                      False   \n",
              "154                       False                      False   \n",
              "155                       False                      False   \n",
              "\n",
              "     SATISFACTION_ABOUT_JOB_POSITION  SATISFACTION_ABOUT_IT_FIELD  \n",
              "0                              False                        False  \n",
              "1                              False                        False  \n",
              "2                              False                        False  \n",
              "3                              False                        False  \n",
              "4                              False                        False  \n",
              "..                               ...                          ...  \n",
              "151                            False                        False  \n",
              "152                            False                        False  \n",
              "153                            False                        False  \n",
              "154                            False                        False  \n",
              "155                            False                        False  \n",
              "\n",
              "[156 rows x 18 columns]"
            ],
            "text/html": [
              "\n",
              "  <div id=\"df-455aa030-7232-456b-ba57-24dccabb2f47\">\n",
              "    <div class=\"colab-df-container\">\n",
              "      <div>\n",
              "<style scoped>\n",
              "    .dataframe tbody tr th:only-of-type {\n",
              "        vertical-align: middle;\n",
              "    }\n",
              "\n",
              "    .dataframe tbody tr th {\n",
              "        vertical-align: top;\n",
              "    }\n",
              "\n",
              "    .dataframe thead th {\n",
              "        text-align: right;\n",
              "    }\n",
              "</style>\n",
              "<table border=\"1\" class=\"dataframe\">\n",
              "  <thead>\n",
              "    <tr style=\"text-align: right;\">\n",
              "      <th></th>\n",
              "      <th>gender</th>\n",
              "      <th>age</th>\n",
              "      <th>country</th>\n",
              "      <th>education</th>\n",
              "      <th>experience</th>\n",
              "      <th>Job_role</th>\n",
              "      <th>working_culture</th>\n",
              "      <th>annual_salary</th>\n",
              "      <th>is_thisFavourite_job</th>\n",
              "      <th>switch_the_job_field</th>\n",
              "      <th>STRESS_LEVEL_IN_A_PROJECT</th>\n",
              "      <th>ENGAGEMENT_WITH_FAMILY</th>\n",
              "      <th>ENGAGEMENT_WITH_SOCIETY</th>\n",
              "      <th>SATISFACTION_ABOUT_COUNTRY</th>\n",
              "      <th>SATISFACTION_ABOUT_COMPANY</th>\n",
              "      <th>SATISFACTION_ABOUT_SALARY</th>\n",
              "      <th>SATISFACTION_ABOUT_JOB_POSITION</th>\n",
              "      <th>SATISFACTION_ABOUT_IT_FIELD</th>\n",
              "    </tr>\n",
              "  </thead>\n",
              "  <tbody>\n",
              "    <tr>\n",
              "      <th>0</th>\n",
              "      <td>False</td>\n",
              "      <td>False</td>\n",
              "      <td>False</td>\n",
              "      <td>False</td>\n",
              "      <td>False</td>\n",
              "      <td>False</td>\n",
              "      <td>False</td>\n",
              "      <td>False</td>\n",
              "      <td>False</td>\n",
              "      <td>False</td>\n",
              "      <td>False</td>\n",
              "      <td>False</td>\n",
              "      <td>False</td>\n",
              "      <td>False</td>\n",
              "      <td>False</td>\n",
              "      <td>False</td>\n",
              "      <td>False</td>\n",
              "      <td>False</td>\n",
              "    </tr>\n",
              "    <tr>\n",
              "      <th>1</th>\n",
              "      <td>False</td>\n",
              "      <td>False</td>\n",
              "      <td>False</td>\n",
              "      <td>False</td>\n",
              "      <td>False</td>\n",
              "      <td>False</td>\n",
              "      <td>False</td>\n",
              "      <td>False</td>\n",
              "      <td>False</td>\n",
              "      <td>False</td>\n",
              "      <td>False</td>\n",
              "      <td>False</td>\n",
              "      <td>False</td>\n",
              "      <td>False</td>\n",
              "      <td>False</td>\n",
              "      <td>False</td>\n",
              "      <td>False</td>\n",
              "      <td>False</td>\n",
              "    </tr>\n",
              "    <tr>\n",
              "      <th>2</th>\n",
              "      <td>False</td>\n",
              "      <td>False</td>\n",
              "      <td>False</td>\n",
              "      <td>False</td>\n",
              "      <td>False</td>\n",
              "      <td>False</td>\n",
              "      <td>False</td>\n",
              "      <td>False</td>\n",
              "      <td>False</td>\n",
              "      <td>False</td>\n",
              "      <td>False</td>\n",
              "      <td>False</td>\n",
              "      <td>False</td>\n",
              "      <td>False</td>\n",
              "      <td>False</td>\n",
              "      <td>False</td>\n",
              "      <td>False</td>\n",
              "      <td>False</td>\n",
              "    </tr>\n",
              "    <tr>\n",
              "      <th>3</th>\n",
              "      <td>False</td>\n",
              "      <td>False</td>\n",
              "      <td>False</td>\n",
              "      <td>False</td>\n",
              "      <td>False</td>\n",
              "      <td>False</td>\n",
              "      <td>False</td>\n",
              "      <td>False</td>\n",
              "      <td>False</td>\n",
              "      <td>False</td>\n",
              "      <td>False</td>\n",
              "      <td>False</td>\n",
              "      <td>False</td>\n",
              "      <td>False</td>\n",
              "      <td>False</td>\n",
              "      <td>False</td>\n",
              "      <td>False</td>\n",
              "      <td>False</td>\n",
              "    </tr>\n",
              "    <tr>\n",
              "      <th>4</th>\n",
              "      <td>False</td>\n",
              "      <td>False</td>\n",
              "      <td>False</td>\n",
              "      <td>False</td>\n",
              "      <td>False</td>\n",
              "      <td>False</td>\n",
              "      <td>False</td>\n",
              "      <td>False</td>\n",
              "      <td>False</td>\n",
              "      <td>False</td>\n",
              "      <td>False</td>\n",
              "      <td>False</td>\n",
              "      <td>False</td>\n",
              "      <td>False</td>\n",
              "      <td>False</td>\n",
              "      <td>False</td>\n",
              "      <td>False</td>\n",
              "      <td>False</td>\n",
              "    </tr>\n",
              "    <tr>\n",
              "      <th>...</th>\n",
              "      <td>...</td>\n",
              "      <td>...</td>\n",
              "      <td>...</td>\n",
              "      <td>...</td>\n",
              "      <td>...</td>\n",
              "      <td>...</td>\n",
              "      <td>...</td>\n",
              "      <td>...</td>\n",
              "      <td>...</td>\n",
              "      <td>...</td>\n",
              "      <td>...</td>\n",
              "      <td>...</td>\n",
              "      <td>...</td>\n",
              "      <td>...</td>\n",
              "      <td>...</td>\n",
              "      <td>...</td>\n",
              "      <td>...</td>\n",
              "      <td>...</td>\n",
              "    </tr>\n",
              "    <tr>\n",
              "      <th>151</th>\n",
              "      <td>False</td>\n",
              "      <td>False</td>\n",
              "      <td>False</td>\n",
              "      <td>False</td>\n",
              "      <td>False</td>\n",
              "      <td>False</td>\n",
              "      <td>False</td>\n",
              "      <td>False</td>\n",
              "      <td>False</td>\n",
              "      <td>False</td>\n",
              "      <td>False</td>\n",
              "      <td>False</td>\n",
              "      <td>False</td>\n",
              "      <td>False</td>\n",
              "      <td>False</td>\n",
              "      <td>False</td>\n",
              "      <td>False</td>\n",
              "      <td>False</td>\n",
              "    </tr>\n",
              "    <tr>\n",
              "      <th>152</th>\n",
              "      <td>False</td>\n",
              "      <td>False</td>\n",
              "      <td>False</td>\n",
              "      <td>False</td>\n",
              "      <td>False</td>\n",
              "      <td>False</td>\n",
              "      <td>False</td>\n",
              "      <td>False</td>\n",
              "      <td>False</td>\n",
              "      <td>False</td>\n",
              "      <td>False</td>\n",
              "      <td>False</td>\n",
              "      <td>False</td>\n",
              "      <td>False</td>\n",
              "      <td>False</td>\n",
              "      <td>False</td>\n",
              "      <td>False</td>\n",
              "      <td>False</td>\n",
              "    </tr>\n",
              "    <tr>\n",
              "      <th>153</th>\n",
              "      <td>False</td>\n",
              "      <td>False</td>\n",
              "      <td>False</td>\n",
              "      <td>False</td>\n",
              "      <td>False</td>\n",
              "      <td>False</td>\n",
              "      <td>False</td>\n",
              "      <td>False</td>\n",
              "      <td>False</td>\n",
              "      <td>False</td>\n",
              "      <td>False</td>\n",
              "      <td>False</td>\n",
              "      <td>False</td>\n",
              "      <td>False</td>\n",
              "      <td>False</td>\n",
              "      <td>False</td>\n",
              "      <td>False</td>\n",
              "      <td>False</td>\n",
              "    </tr>\n",
              "    <tr>\n",
              "      <th>154</th>\n",
              "      <td>False</td>\n",
              "      <td>False</td>\n",
              "      <td>False</td>\n",
              "      <td>False</td>\n",
              "      <td>False</td>\n",
              "      <td>False</td>\n",
              "      <td>False</td>\n",
              "      <td>False</td>\n",
              "      <td>False</td>\n",
              "      <td>False</td>\n",
              "      <td>False</td>\n",
              "      <td>False</td>\n",
              "      <td>False</td>\n",
              "      <td>False</td>\n",
              "      <td>False</td>\n",
              "      <td>False</td>\n",
              "      <td>False</td>\n",
              "      <td>False</td>\n",
              "    </tr>\n",
              "    <tr>\n",
              "      <th>155</th>\n",
              "      <td>False</td>\n",
              "      <td>False</td>\n",
              "      <td>False</td>\n",
              "      <td>False</td>\n",
              "      <td>False</td>\n",
              "      <td>False</td>\n",
              "      <td>False</td>\n",
              "      <td>False</td>\n",
              "      <td>False</td>\n",
              "      <td>False</td>\n",
              "      <td>False</td>\n",
              "      <td>False</td>\n",
              "      <td>False</td>\n",
              "      <td>False</td>\n",
              "      <td>False</td>\n",
              "      <td>False</td>\n",
              "      <td>False</td>\n",
              "      <td>False</td>\n",
              "    </tr>\n",
              "  </tbody>\n",
              "</table>\n",
              "<p>156 rows × 18 columns</p>\n",
              "</div>\n",
              "      <button class=\"colab-df-convert\" onclick=\"convertToInteractive('df-455aa030-7232-456b-ba57-24dccabb2f47')\"\n",
              "              title=\"Convert this dataframe to an interactive table.\"\n",
              "              style=\"display:none;\">\n",
              "        \n",
              "  <svg xmlns=\"http://www.w3.org/2000/svg\" height=\"24px\"viewBox=\"0 0 24 24\"\n",
              "       width=\"24px\">\n",
              "    <path d=\"M0 0h24v24H0V0z\" fill=\"none\"/>\n",
              "    <path d=\"M18.56 5.44l.94 2.06.94-2.06 2.06-.94-2.06-.94-.94-2.06-.94 2.06-2.06.94zm-11 1L8.5 8.5l.94-2.06 2.06-.94-2.06-.94L8.5 2.5l-.94 2.06-2.06.94zm10 10l.94 2.06.94-2.06 2.06-.94-2.06-.94-.94-2.06-.94 2.06-2.06.94z\"/><path d=\"M17.41 7.96l-1.37-1.37c-.4-.4-.92-.59-1.43-.59-.52 0-1.04.2-1.43.59L10.3 9.45l-7.72 7.72c-.78.78-.78 2.05 0 2.83L4 21.41c.39.39.9.59 1.41.59.51 0 1.02-.2 1.41-.59l7.78-7.78 2.81-2.81c.8-.78.8-2.07 0-2.86zM5.41 20L4 18.59l7.72-7.72 1.47 1.35L5.41 20z\"/>\n",
              "  </svg>\n",
              "      </button>\n",
              "      \n",
              "  <style>\n",
              "    .colab-df-container {\n",
              "      display:flex;\n",
              "      flex-wrap:wrap;\n",
              "      gap: 12px;\n",
              "    }\n",
              "\n",
              "    .colab-df-convert {\n",
              "      background-color: #E8F0FE;\n",
              "      border: none;\n",
              "      border-radius: 50%;\n",
              "      cursor: pointer;\n",
              "      display: none;\n",
              "      fill: #1967D2;\n",
              "      height: 32px;\n",
              "      padding: 0 0 0 0;\n",
              "      width: 32px;\n",
              "    }\n",
              "\n",
              "    .colab-df-convert:hover {\n",
              "      background-color: #E2EBFA;\n",
              "      box-shadow: 0px 1px 2px rgba(60, 64, 67, 0.3), 0px 1px 3px 1px rgba(60, 64, 67, 0.15);\n",
              "      fill: #174EA6;\n",
              "    }\n",
              "\n",
              "    [theme=dark] .colab-df-convert {\n",
              "      background-color: #3B4455;\n",
              "      fill: #D2E3FC;\n",
              "    }\n",
              "\n",
              "    [theme=dark] .colab-df-convert:hover {\n",
              "      background-color: #434B5C;\n",
              "      box-shadow: 0px 1px 3px 1px rgba(0, 0, 0, 0.15);\n",
              "      filter: drop-shadow(0px 1px 2px rgba(0, 0, 0, 0.3));\n",
              "      fill: #FFFFFF;\n",
              "    }\n",
              "  </style>\n",
              "\n",
              "      <script>\n",
              "        const buttonEl =\n",
              "          document.querySelector('#df-455aa030-7232-456b-ba57-24dccabb2f47 button.colab-df-convert');\n",
              "        buttonEl.style.display =\n",
              "          google.colab.kernel.accessAllowed ? 'block' : 'none';\n",
              "\n",
              "        async function convertToInteractive(key) {\n",
              "          const element = document.querySelector('#df-455aa030-7232-456b-ba57-24dccabb2f47');\n",
              "          const dataTable =\n",
              "            await google.colab.kernel.invokeFunction('convertToInteractive',\n",
              "                                                     [key], {});\n",
              "          if (!dataTable) return;\n",
              "\n",
              "          const docLinkHtml = 'Like what you see? Visit the ' +\n",
              "            '<a target=\"_blank\" href=https://colab.research.google.com/notebooks/data_table.ipynb>data table notebook</a>'\n",
              "            + ' to learn more about interactive tables.';\n",
              "          element.innerHTML = '';\n",
              "          dataTable['output_type'] = 'display_data';\n",
              "          await google.colab.output.renderOutput(dataTable, element);\n",
              "          const docLink = document.createElement('div');\n",
              "          docLink.innerHTML = docLinkHtml;\n",
              "          element.appendChild(docLink);\n",
              "        }\n",
              "      </script>\n",
              "    </div>\n",
              "  </div>\n",
              "  "
            ]
          },
          "metadata": {},
          "execution_count": 15
        }
      ],
      "source": [
        "IT_job_satisfaction_data.isnull()"
      ]
    },
    {
      "cell_type": "code",
      "execution_count": null,
      "metadata": {
        "colab": {
          "base_uri": "https://localhost:8080/",
          "height": 693
        },
        "id": "uChK4-wwn6X5",
        "outputId": "91f4c677-9d42-4b86-95ed-f24b0ec9b47a"
      },
      "outputs": [
        {
          "output_type": "execute_result",
          "data": {
            "text/plain": [
              "<Axes: >"
            ]
          },
          "metadata": {},
          "execution_count": 16
        },
        {
          "output_type": "display_data",
          "data": {
            "text/plain": [
              "<Figure size 640x480 with 1 Axes>"
            ],
            "image/png": "[encoded data removed]"
          },
          "metadata": {}
        }
      ],
      "source": [
        "#Using heatmap for better visualization\n",
        "sns.heatmap(IT_job_satisfaction_data.isnull(), yticklabels=False, cbar=False, cmap='viridis')"
      ]
    },
    {
      "cell_type": "code",
      "execution_count": null,
      "metadata": {
        "id": "qUEampBYffuI"
      },
      "outputs": [],
      "source": [
        "IT_job_satisfaction_data.drop(columns=[\"Timestamp\",\"What continent does your country belong to?\",\"have time for a fun\"], inplace=True)"
      ]
    },
    {
      "cell_type": "code",
      "execution_count": null,
      "metadata": {
        "id": "jM9Dg8Lvoaze"
      },
      "outputs": [],
      "source": [
        "sns.set_style('whitegrid')"
      ]
    },
    {
      "cell_type": "code",
      "execution_count": null,
      "metadata": {
        "colab": {
          "base_uri": "https://localhost:8080/",
          "height": 331
        },
        "id": "y6opdZYapFVO",
        "outputId": "fcfa9776-0934-4b9d-9891-1c9b228a6295"
      },
      "outputs": [
        {
          "output_type": "error",
          "ename": "ValueError",
          "evalue": "ignored",
          "traceback": [
            "\u001b[0;31m---------------------------------------------------------------------------\u001b[0m",
            "\u001b[0;31mValueError\u001b[0m                                Traceback (most recent call last)",
            "\u001b[0;32m<ipython-input-19-5598aea37ab9>\u001b[0m in \u001b[0;36m<cell line: 1>\u001b[0;34m()\u001b[0m\n\u001b[0;32m----> 1\u001b[0;31m \u001b[0msns\u001b[0m\u001b[0;34m.\u001b[0m\u001b[0mcountplot\u001b[0m\u001b[0;34m(\u001b[0m\u001b[0mx\u001b[0m\u001b[0;34m=\u001b[0m\u001b[0;34m\"Satisfaction about IT field\"\u001b[0m\u001b[0;34m,\u001b[0m \u001b[0mdata\u001b[0m \u001b[0;34m=\u001b[0m\u001b[0mIT_job_satisfaction_data\u001b[0m\u001b[0;34m)\u001b[0m\u001b[0;34m\u001b[0m\u001b[0;34m\u001b[0m\u001b[0m\n\u001b[0m",
            "\u001b[0;32m/usr/local/lib/python3.10/dist-packages/seaborn/categorical.py\u001b[0m in \u001b[0;36mcountplot\u001b[0;34m(data, x, y, hue, order, hue_order, orient, color, palette, saturation, width, dodge, ax, **kwargs)\u001b[0m\n\u001b[1;32m   2941\u001b[0m         \u001b[0;32mraise\u001b[0m \u001b[0mValueError\u001b[0m\u001b[0;34m(\u001b[0m\u001b[0;34m\"Cannot pass values for both `x` and `y`\"\u001b[0m\u001b[0;34m)\u001b[0m\u001b[0;34m\u001b[0m\u001b[0;34m\u001b[0m\u001b[0m\n\u001b[1;32m   2942\u001b[0m \u001b[0;34m\u001b[0m\u001b[0m\n\u001b[0;32m-> 2943\u001b[0;31m     plotter = _CountPlotter(\n\u001b[0m\u001b[1;32m   2944\u001b[0m         \u001b[0mx\u001b[0m\u001b[0;34m,\u001b[0m \u001b[0my\u001b[0m\u001b[0;34m,\u001b[0m \u001b[0mhue\u001b[0m\u001b[0;34m,\u001b[0m \u001b[0mdata\u001b[0m\u001b[0;34m,\u001b[0m \u001b[0morder\u001b[0m\u001b[0;34m,\u001b[0m \u001b[0mhue_order\u001b[0m\u001b[0;34m,\u001b[0m\u001b[0;34m\u001b[0m\u001b[0;34m\u001b[0m\u001b[0m\n\u001b[1;32m   2945\u001b[0m         \u001b[0mestimator\u001b[0m\u001b[0;34m,\u001b[0m \u001b[0merrorbar\u001b[0m\u001b[0;34m,\u001b[0m \u001b[0mn_boot\u001b[0m\u001b[0;34m,\u001b[0m \u001b[0munits\u001b[0m\u001b[0;34m,\u001b[0m \u001b[0mseed\u001b[0m\u001b[0;34m,\u001b[0m\u001b[0;34m\u001b[0m\u001b[0;34m\u001b[0m\u001b[0m\n",
            "\u001b[0;32m/usr/local/lib/python3.10/dist-packages/seaborn/categorical.py\u001b[0m in \u001b[0;36m__init__\u001b[0;34m(self, x, y, hue, data, order, hue_order, estimator, errorbar, n_boot, units, seed, orient, color, palette, saturation, width, errcolor, errwidth, capsize, dodge)\u001b[0m\n\u001b[1;32m   1528\u001b[0m                  errcolor, errwidth, capsize, dodge):\n\u001b[1;32m   1529\u001b[0m         \u001b[0;34m\"\"\"Initialize the plotter.\"\"\"\u001b[0m\u001b[0;34m\u001b[0m\u001b[0;34m\u001b[0m\u001b[0m\n\u001b[0;32m-> 1530\u001b[0;31m         self.establish_variables(x, y, hue, data, orient,\n\u001b[0m\u001b[1;32m   1531\u001b[0m                                  order, hue_order, units)\n\u001b[1;32m   1532\u001b[0m         \u001b[0mself\u001b[0m\u001b[0;34m.\u001b[0m\u001b[0mestablish_colors\u001b[0m\u001b[0;34m(\u001b[0m\u001b[0mcolor\u001b[0m\u001b[0;34m,\u001b[0m \u001b[0mpalette\u001b[0m\u001b[0;34m,\u001b[0m \u001b[0msaturation\u001b[0m\u001b[0;34m)\u001b[0m\u001b[0;34m\u001b[0m\u001b[0;34m\u001b[0m\u001b[0m\n",
            "\u001b[0;32m/usr/local/lib/python3.10/dist-packages/seaborn/categorical.py\u001b[0m in \u001b[0;36mestablish_variables\u001b[0;34m(self, x, y, hue, data, orient, order, hue_order, units)\u001b[0m\n\u001b[1;32m    539\u001b[0m                 \u001b[0;32mif\u001b[0m \u001b[0misinstance\u001b[0m\u001b[0;34m(\u001b[0m\u001b[0mvar\u001b[0m\u001b[0;34m,\u001b[0m \u001b[0mstr\u001b[0m\u001b[0;34m)\u001b[0m\u001b[0;34m:\u001b[0m\u001b[0;34m\u001b[0m\u001b[0;34m\u001b[0m\u001b[0m\n\u001b[1;32m    540\u001b[0m                     \u001b[0merr\u001b[0m \u001b[0;34m=\u001b[0m \u001b[0;34mf\"Could not interpret input '{var}'\"\u001b[0m\u001b[0;34m\u001b[0m\u001b[0;34m\u001b[0m\u001b[0m\n\u001b[0;32m--> 541\u001b[0;31m                     \u001b[0;32mraise\u001b[0m \u001b[0mValueError\u001b[0m\u001b[0;34m(\u001b[0m\u001b[0merr\u001b[0m\u001b[0;34m)\u001b[0m\u001b[0;34m\u001b[0m\u001b[0;34m\u001b[0m\u001b[0m\n\u001b[0m\u001b[1;32m    542\u001b[0m \u001b[0;34m\u001b[0m\u001b[0m\n\u001b[1;32m    543\u001b[0m             \u001b[0;31m# Figure out the plotting orientation\u001b[0m\u001b[0;34m\u001b[0m\u001b[0;34m\u001b[0m\u001b[0m\n",
            "\u001b[0;31mValueError\u001b[0m: Could not interpret input 'Satisfaction about IT field'"
          ]
        }
      ],
      "source": [
        "sns.countplot(x=\"Satisfaction about IT field\", data =IT_job_satisfaction_data) "
      ]
    },
    {
      "cell_type": "code",
      "execution_count": null,
      "metadata": {
        "colab": {
          "base_uri": "https://localhost:8080/",
          "height": 299
        },
        "id": "CNxM18xkpmgg",
        "outputId": "889fa4af-776d-4f09-a4a7-fd882efd781d"
      },
      "outputs": [
        {
          "data": {
            "text/plain": [
              "<AxesSubplot:xlabel='Satisfaction about IT field', ylabel='count'>"
            ]
          },
          "execution_count": 19,
          "metadata": {},
          "output_type": "execute_result"
        },
        {
          "data": {
            "image/png": "[encoded data removed]",
            "text/plain": [
              "<Figure size 432x288 with 1 Axes>"
            ]
          },
          "metadata": {},
          "output_type": "display_data"
        }
      ],
      "source": [
        "sns.countplot(x=\"Satisfaction about IT field\",hue='gender', data =IT_job_satisfaction_data)\n"
      ]
    },
    {
      "cell_type": "code",
      "execution_count": null,
      "metadata": {
        "colab": {
          "base_uri": "https://localhost:8080/",
          "height": 296
        },
        "id": "-5C1GLX-KDbV",
        "outputId": "e70aa626-841c-41ed-dbbd-7247f43255cb"
      },
      "outputs": [
        {
          "data": {
            "text/plain": [
              "<AxesSubplot:xlabel='Satisfaction about IT field', ylabel='count'>"
            ]
          },
          "execution_count": 20,
          "metadata": {},
          "output_type": "execute_result"
        },
        {
          "data": {
            "image/png": "[encoded data removed]",
            "text/plain": [
              "<Figure size 432x288 with 1 Axes>"
            ]
          },
          "metadata": {},
          "output_type": "display_data"
        }
      ],
      "source": [
        "sns.countplot(x=\"Satisfaction about IT field\",hue='country', data =IT_job_satisfaction_data)\n"
      ]
    },
    {
      "cell_type": "code",
      "execution_count": null,
      "metadata": {
        "colab": {
          "base_uri": "https://localhost:8080/",
          "height": 296
        },
        "id": "wIB25xRBKl0-",
        "outputId": "79fb7ead-8b92-41eb-99e3-54a854241d98"
      },
      "outputs": [
        {
          "data": {
            "text/plain": [
              "<AxesSubplot:xlabel='Satisfaction about IT field', ylabel='count'>"
            ]
          },
          "execution_count": 21,
          "metadata": {},
          "output_type": "execute_result"
        },
        {
          "data": {
            "image/png": "[encoded data removed]",
            "text/plain": [
              "<Figure size 432x288 with 1 Axes>"
            ]
          },
          "metadata": {},
          "output_type": "display_data"
        }
      ],
      "source": [
        "sns.countplot(x=\"Satisfaction about IT field\",hue='experience', data =IT_job_satisfaction_data)\n"
      ]
    },
    {
      "cell_type": "code",
      "execution_count": null,
      "metadata": {
        "colab": {
          "base_uri": "https://localhost:8080/",
          "height": 296
        },
        "id": "bYdmzNplKu4R",
        "outputId": "543f7f5d-f519-4a46-9b80-bdfc0689db24"
      },
      "outputs": [
        {
          "data": {
            "text/plain": [
              "<AxesSubplot:xlabel='Satisfaction about IT field', ylabel='count'>"
            ]
          },
          "execution_count": 22,
          "metadata": {},
          "output_type": "execute_result"
        },
        {
          "data": {
            "image/png": "[encoded data removed]",
            "text/plain": [
              "<Figure size 432x288 with 1 Axes>"
            ]
          },
          "metadata": {},
          "output_type": "display_data"
        }
      ],
      "source": [
        "sns.countplot(x=\"Satisfaction about IT field\",hue='working culture', data =IT_job_satisfaction_data)\n"
      ]
    },
    {
      "cell_type": "code",
      "execution_count": null,
      "metadata": {
        "colab": {
          "base_uri": "https://localhost:8080/",
          "height": 296
        },
        "id": "5RYzFzyTLHMx",
        "outputId": "543d82d6-19f4-4bbb-920c-45fd6a7a7987"
      },
      "outputs": [
        {
          "data": {
            "text/plain": [
              "<AxesSubplot:xlabel='Satisfaction about IT field', ylabel='count'>"
            ]
          },
          "execution_count": 23,
          "metadata": {},
          "output_type": "execute_result"
        },
        {
          "data": {
            "image/png": "[encoded data removed]",
            "text/plain": [
              "<Figure size 432x288 with 1 Axes>"
            ]
          },
          "metadata": {},
          "output_type": "display_data"
        }
      ],
      "source": [
        "sns.countplot(x=\"Satisfaction about IT field\",hue='age', data =IT_job_satisfaction_data)\n"
      ]
    },
    {
      "cell_type": "code",
      "execution_count": null,
      "metadata": {
        "colab": {
          "base_uri": "https://localhost:8080/",
          "height": 299
        },
        "id": "ovEhQ5iNLSpf",
        "outputId": "f7a85672-51bb-4791-b065-f94bd7013b01"
      },
      "outputs": [
        {
          "data": {
            "text/plain": [
              "<AxesSubplot:xlabel='Satisfaction about IT field', ylabel='count'>"
            ]
          },
          "execution_count": 24,
          "metadata": {},
          "output_type": "execute_result"
        },
        {
          "data": {
            "image/png": "[encoded data removed]",
            "text/plain": [
              "<Figure size 432x288 with 1 Axes>"
            ]
          },
          "metadata": {},
          "output_type": "display_data"
        }
      ],
      "source": [
        "sns.countplot(x=\"Satisfaction about IT field\",hue='education', data =IT_job_satisfaction_data)\n"
      ]
    },
    {
      "cell_type": "code",
      "execution_count": null,
      "metadata": {
        "colab": {
          "base_uri": "https://localhost:8080/",
          "height": 296
        },
        "id": "70ZMUPXrLeIz",
        "outputId": "01ae6075-d41d-4ae2-e43d-12b112c6b56d"
      },
      "outputs": [
        {
          "data": {
            "text/plain": [
              "<AxesSubplot:xlabel='Satisfaction about IT field', ylabel='count'>"
            ]
          },
          "execution_count": 25,
          "metadata": {},
          "output_type": "execute_result"
        },
        {
          "data": {
            "image/png": "[encoded data removed]",
            "text/plain": [
              "<Figure size 432x288 with 1 Axes>"
            ]
          },
          "metadata": {},
          "output_type": "display_data"
        }
      ],
      "source": [
        "sns.countplot(x=\"Satisfaction about IT field\",hue='annual salary', data =IT_job_satisfaction_data)\n"
      ]
    },
    {
      "cell_type": "markdown",
      "source": [
        "#Neural network analysis"
      ],
      "metadata": {
        "id": "R7egIc_C_SFA"
      }
    },
    {
      "cell_type": "code",
      "source": [
        "#To avoid the column and row numbers\n",
        "data = IT_job_satisfaction_data[:].values"
      ],
      "metadata": {
        "id": "8mN4ppZ_memT"
      },
      "execution_count": null,
      "outputs": []
    },
    {
      "cell_type": "code",
      "source": [
        "IT_job_satisfaction_data.head()"
      ],
      "metadata": {
        "colab": {
          "base_uri": "https://localhost:8080/",
          "height": 270
        },
        "id": "RDjmbYQYBUNv",
        "outputId": "9dfcc4f0-0de6-4ac9-a698-fadc48b7c9e7"
      },
      "execution_count": null,
      "outputs": [
        {
          "output_type": "execute_result",
          "data": {
            "text/plain": [
              "   gender  age  country  education  experience  Job_role  working_culture  \\\n",
              "0       0    1        0          4           4         5                0   \n",
              "1       1    1        0          2           0         5                0   \n",
              "2       1    0        0          2           0         2                2   \n",
              "3       1    1        0          2           0         2                1   \n",
              "4       1    1        0          2           0         1                0   \n",
              "\n",
              "   annual_salary  is_thisFavourite_job  switch_the_job_field  \\\n",
              "0              6                     0                     1   \n",
              "1              1                     0                     2   \n",
              "2              0                     1                     1   \n",
              "3              0                     1                     2   \n",
              "4              0                     1                     0   \n",
              "\n",
              "   STRESS_LEVEL_IN_A_PROJECT  ENGAGEMENT_WITH_FAMILY  ENGAGEMENT_WITH_SOCIETY  \\\n",
              "0                   1.245171                2.392829                 2.419291   \n",
              "1                   0.796339                2.027511                 2.419291   \n",
              "2                  -1.628461               -0.530939                -1.337946   \n",
              "3                  -1.628461               -0.161396                -0.879361   \n",
              "4                   0.586515                2.031125                 0.540673   \n",
              "\n",
              "   SATISFACTION_ABOUT_COUNTRY  SATISFACTION_ABOUT_COMPANY  \\\n",
              "0                   -0.286974                    0.683161   \n",
              "1                    1.291619                    0.659404   \n",
              "2                   -0.405740                    0.191437   \n",
              "3                    0.161807                   -1.236220   \n",
              "4                   -1.750852                   -0.276529   \n",
              "\n",
              "   SATISFACTION_ABOUT_SALARY  SATISFACTION_ABOUT_JOB_POSITION  \\\n",
              "0                   0.713838                         0.126900   \n",
              "1                   1.246116                        -0.865164   \n",
              "2                  -0.171197                         0.690355   \n",
              "3                   0.643952                         0.126900   \n",
              "4                  -0.350178                        -1.992075   \n",
              "\n",
              "   SATISFACTION_ABOUT_IT_FIELD  \n",
              "0                            1  \n",
              "1                            0  \n",
              "2                            1  \n",
              "3                            0  \n",
              "4                            1  "
            ],
            "text/html": [
              "\n",
              "  <div id=\"df-2ae36cb1-2230-4de7-a69c-a3e00ba852be\">\n",
              "    <div class=\"colab-df-container\">\n",
              "      <div>\n",
              "<style scoped>\n",
              "    .dataframe tbody tr th:only-of-type {\n",
              "        vertical-align: middle;\n",
              "    }\n",
              "\n",
              "    .dataframe tbody tr th {\n",
              "        vertical-align: top;\n",
              "    }\n",
              "\n",
              "    .dataframe thead th {\n",
              "        text-align: right;\n",
              "    }\n",
              "</style>\n",
              "<table border=\"1\" class=\"dataframe\">\n",
              "  <thead>\n",
              "    <tr style=\"text-align: right;\">\n",
              "      <th></th>\n",
              "      <th>gender</th>\n",
              "      <th>age</th>\n",
              "      <th>country</th>\n",
              "      <th>education</th>\n",
              "      <th>experience</th>\n",
              "      <th>Job_role</th>\n",
              "      <th>working_culture</th>\n",
              "      <th>annual_salary</th>\n",
              "      <th>is_thisFavourite_job</th>\n",
              "      <th>switch_the_job_field</th>\n",
              "      <th>STRESS_LEVEL_IN_A_PROJECT</th>\n",
              "      <th>ENGAGEMENT_WITH_FAMILY</th>\n",
              "      <th>ENGAGEMENT_WITH_SOCIETY</th>\n",
              "      <th>SATISFACTION_ABOUT_COUNTRY</th>\n",
              "      <th>SATISFACTION_ABOUT_COMPANY</th>\n",
              "      <th>SATISFACTION_ABOUT_SALARY</th>\n",
              "      <th>SATISFACTION_ABOUT_JOB_POSITION</th>\n",
              "      <th>SATISFACTION_ABOUT_IT_FIELD</th>\n",
              "    </tr>\n",
              "  </thead>\n",
              "  <tbody>\n",
              "    <tr>\n",
              "      <th>0</th>\n",
              "      <td>0</td>\n",
              "      <td>1</td>\n",
              "      <td>0</td>\n",
              "      <td>4</td>\n",
              "      <td>4</td>\n",
              "      <td>5</td>\n",
              "      <td>0</td>\n",
              "      <td>6</td>\n",
              "      <td>0</td>\n",
              "      <td>1</td>\n",
              "      <td>1.245171</td>\n",
              "      <td>2.392829</td>\n",
              "      <td>2.419291</td>\n",
              "      <td>-0.286974</td>\n",
              "      <td>0.683161</td>\n",
              "      <td>0.713838</td>\n",
              "      <td>0.126900</td>\n",
              "      <td>1</td>\n",
              "    </tr>\n",
              "    <tr>\n",
              "      <th>1</th>\n",
              "      <td>1</td>\n",
              "      <td>1</td>\n",
              "      <td>0</td>\n",
              "      <td>2</td>\n",
              "      <td>0</td>\n",
              "      <td>5</td>\n",
              "      <td>0</td>\n",
              "      <td>1</td>\n",
              "      <td>0</td>\n",
              "      <td>2</td>\n",
              "      <td>0.796339</td>\n",
              "      <td>2.027511</td>\n",
              "      <td>2.419291</td>\n",
              "      <td>1.291619</td>\n",
              "      <td>0.659404</td>\n",
              "      <td>1.246116</td>\n",
              "      <td>-0.865164</td>\n",
              "      <td>0</td>\n",
              "    </tr>\n",
              "    <tr>\n",
              "      <th>2</th>\n",
              "      <td>1</td>\n",
              "      <td>0</td>\n",
              "      <td>0</td>\n",
              "      <td>2</td>\n",
              "      <td>0</td>\n",
              "      <td>2</td>\n",
              "      <td>2</td>\n",
              "      <td>0</td>\n",
              "      <td>1</td>\n",
              "      <td>1</td>\n",
              "      <td>-1.628461</td>\n",
              "      <td>-0.530939</td>\n",
              "      <td>-1.337946</td>\n",
              "      <td>-0.405740</td>\n",
              "      <td>0.191437</td>\n",
              "      <td>-0.171197</td>\n",
              "      <td>0.690355</td>\n",
              "      <td>1</td>\n",
              "    </tr>\n",
              "    <tr>\n",
              "      <th>3</th>\n",
              "      <td>1</td>\n",
              "      <td>1</td>\n",
              "      <td>0</td>\n",
              "      <td>2</td>\n",
              "      <td>0</td>\n",
              "      <td>2</td>\n",
              "      <td>1</td>\n",
              "      <td>0</td>\n",
              "      <td>1</td>\n",
              "      <td>2</td>\n",
              "      <td>-1.628461</td>\n",
              "      <td>-0.161396</td>\n",
              "      <td>-0.879361</td>\n",
              "      <td>0.161807</td>\n",
              "      <td>-1.236220</td>\n",
              "      <td>0.643952</td>\n",
              "      <td>0.126900</td>\n",
              "      <td>0</td>\n",
              "    </tr>\n",
              "    <tr>\n",
              "      <th>4</th>\n",
              "      <td>1</td>\n",
              "      <td>1</td>\n",
              "      <td>0</td>\n",
              "      <td>2</td>\n",
              "      <td>0</td>\n",
              "      <td>1</td>\n",
              "      <td>0</td>\n",
              "      <td>0</td>\n",
              "      <td>1</td>\n",
              "      <td>0</td>\n",
              "      <td>0.586515</td>\n",
              "      <td>2.031125</td>\n",
              "      <td>0.540673</td>\n",
              "      <td>-1.750852</td>\n",
              "      <td>-0.276529</td>\n",
              "      <td>-0.350178</td>\n",
              "      <td>-1.992075</td>\n",
              "      <td>1</td>\n",
              "    </tr>\n",
              "  </tbody>\n",
              "</table>\n",
              "</div>\n",
              "      <button class=\"colab-df-convert\" onclick=\"convertToInteractive('df-2ae36cb1-2230-4de7-a69c-a3e00ba852be')\"\n",
              "              title=\"Convert this dataframe to an interactive table.\"\n",
              "              style=\"display:none;\">\n",
              "        \n",
              "  <svg xmlns=\"http://www.w3.org/2000/svg\" height=\"24px\"viewBox=\"0 0 24 24\"\n",
              "       width=\"24px\">\n",
              "    <path d=\"M0 0h24v24H0V0z\" fill=\"none\"/>\n",
              "    <path d=\"M18.56 5.44l.94 2.06.94-2.06 2.06-.94-2.06-.94-.94-2.06-.94 2.06-2.06.94zm-11 1L8.5 8.5l.94-2.06 2.06-.94-2.06-.94L8.5 2.5l-.94 2.06-2.06.94zm10 10l.94 2.06.94-2.06 2.06-.94-2.06-.94-.94-2.06-.94 2.06-2.06.94z\"/><path d=\"M17.41 7.96l-1.37-1.37c-.4-.4-.92-.59-1.43-.59-.52 0-1.04.2-1.43.59L10.3 9.45l-7.72 7.72c-.78.78-.78 2.05 0 2.83L4 21.41c.39.39.9.59 1.41.59.51 0 1.02-.2 1.41-.59l7.78-7.78 2.81-2.81c.8-.78.8-2.07 0-2.86zM5.41 20L4 18.59l7.72-7.72 1.47 1.35L5.41 20z\"/>\n",
              "  </svg>\n",
              "      </button>\n",
              "      \n",
              "  <style>\n",
              "    .colab-df-container {\n",
              "      display:flex;\n",
              "      flex-wrap:wrap;\n",
              "      gap: 12px;\n",
              "    }\n",
              "\n",
              "    .colab-df-convert {\n",
              "      background-color: #E8F0FE;\n",
              "      border: none;\n",
              "      border-radius: 50%;\n",
              "      cursor: pointer;\n",
              "      display: none;\n",
              "      fill: #1967D2;\n",
              "      height: 32px;\n",
              "      padding: 0 0 0 0;\n",
              "      width: 32px;\n",
              "    }\n",
              "\n",
              "    .colab-df-convert:hover {\n",
              "      background-color: #E2EBFA;\n",
              "      box-shadow: 0px 1px 2px rgba(60, 64, 67, 0.3), 0px 1px 3px 1px rgba(60, 64, 67, 0.15);\n",
              "      fill: #174EA6;\n",
              "    }\n",
              "\n",
              "    [theme=dark] .colab-df-convert {\n",
              "      background-color: #3B4455;\n",
              "      fill: #D2E3FC;\n",
              "    }\n",
              "\n",
              "    [theme=dark] .colab-df-convert:hover {\n",
              "      background-color: #434B5C;\n",
              "      box-shadow: 0px 1px 3px 1px rgba(0, 0, 0, 0.15);\n",
              "      filter: drop-shadow(0px 1px 2px rgba(0, 0, 0, 0.3));\n",
              "      fill: #FFFFFF;\n",
              "    }\n",
              "  </style>\n",
              "\n",
              "      <script>\n",
              "        const buttonEl =\n",
              "          document.querySelector('#df-2ae36cb1-2230-4de7-a69c-a3e00ba852be button.colab-df-convert');\n",
              "        buttonEl.style.display =\n",
              "          google.colab.kernel.accessAllowed ? 'block' : 'none';\n",
              "\n",
              "        async function convertToInteractive(key) {\n",
              "          const element = document.querySelector('#df-2ae36cb1-2230-4de7-a69c-a3e00ba852be');\n",
              "          const dataTable =\n",
              "            await google.colab.kernel.invokeFunction('convertToInteractive',\n",
              "                                                     [key], {});\n",
              "          if (!dataTable) return;\n",
              "\n",
              "          const docLinkHtml = 'Like what you see? Visit the ' +\n",
              "            '<a target=\"_blank\" href=https://colab.research.google.com/notebooks/data_table.ipynb>data table notebook</a>'\n",
              "            + ' to learn more about interactive tables.';\n",
              "          element.innerHTML = '';\n",
              "          dataTable['output_type'] = 'display_data';\n",
              "          await google.colab.output.renderOutput(dataTable, element);\n",
              "          const docLink = document.createElement('div');\n",
              "          docLink.innerHTML = docLinkHtml;\n",
              "          element.appendChild(docLink);\n",
              "        }\n",
              "      </script>\n",
              "    </div>\n",
              "  </div>\n",
              "  "
            ]
          },
          "metadata": {},
          "execution_count": 10
        }
      ]
    },
    {
      "cell_type": "code",
      "source": [
        "data"
      ],
      "metadata": {
        "colab": {
          "base_uri": "https://localhost:8080/"
        },
        "id": "YBeUFb_And73",
        "outputId": "9b9c7298-9d92-4dd0-8f80-8fa5b604de8c"
      },
      "execution_count": null,
      "outputs": [
        {
          "output_type": "execute_result",
          "data": {
            "text/plain": [
              "array([[ 0.        ,  1.        ,  0.        , ...,  0.71383789,\n",
              "         0.12689952,  1.        ],\n",
              "       [ 1.        ,  1.        ,  0.        , ...,  1.24611551,\n",
              "        -0.86516417,  0.        ],\n",
              "       [ 1.        ,  0.        ,  0.        , ..., -0.17119746,\n",
              "         0.69035495,  1.        ],\n",
              "       ...,\n",
              "       [ 0.        ,  1.        ,  0.        , ...,  0.11167451,\n",
              "         0.69035495,  1.        ],\n",
              "       [ 1.        ,  1.        ,  0.        , ...,  1.60896138,\n",
              "        -0.86516417,  0.        ],\n",
              "       [ 0.        ,  0.        ,  0.        , ...,  1.40891733,\n",
              "         1.20886132,  1.        ]])"
            ]
          },
          "metadata": {},
          "execution_count": 9
        }
      ]
    },
    {
      "cell_type": "code",
      "source": [
        "data.shape"
      ],
      "metadata": {
        "colab": {
          "base_uri": "https://localhost:8080/"
        },
        "id": "Zsd82LvUA5Ar",
        "outputId": "88e86292-a145-41ba-f870-af6504926b0b"
      },
      "execution_count": null,
      "outputs": [
        {
          "output_type": "execute_result",
          "data": {
            "text/plain": [
              "(156, 18)"
            ]
          },
          "metadata": {},
          "execution_count": 11
        }
      ]
    },
    {
      "cell_type": "code",
      "source": [
        "#get the attribute values to x\n",
        "x = data[:,10:17]"
      ],
      "metadata": {
        "id": "C6ftpigpn__Z"
      },
      "execution_count": null,
      "outputs": []
    },
    {
      "cell_type": "code",
      "source": [
        "x.shape"
      ],
      "metadata": {
        "colab": {
          "base_uri": "https://localhost:8080/"
        },
        "id": "fge3YVDOAsCt",
        "outputId": "539cb55e-7731-4752-f146-dd3801446a20"
      },
      "execution_count": null,
      "outputs": [
        {
          "output_type": "execute_result",
          "data": {
            "text/plain": [
              "(156, 7)"
            ]
          },
          "metadata": {},
          "execution_count": 13
        }
      ]
    },
    {
      "cell_type": "code",
      "source": [
        "x"
      ],
      "metadata": {
        "colab": {
          "base_uri": "https://localhost:8080/"
        },
        "id": "K-Ug2Qs-oafo",
        "outputId": "7e102bd7-caee-4251-937b-fc9184cfd1d0"
      },
      "execution_count": null,
      "outputs": [
        {
          "output_type": "execute_result",
          "data": {
            "text/plain": [
              "array([[ 1.24517091,  2.39282925,  2.41929114, ...,  0.68316148,\n",
              "         0.71383789,  0.12689952],\n",
              "       [ 0.79633912,  2.02751057,  2.41929114, ...,  0.6594043 ,\n",
              "         1.24611551, -0.86516417],\n",
              "       [-1.62846105, -0.53093935, -1.33794604, ...,  0.1914375 ,\n",
              "        -0.17119746,  0.69035495],\n",
              "       ...,\n",
              "       [-0.52097314, -0.52310011,  0.05994848, ..., -0.2765293 ,\n",
              "         0.11167451,  0.69035495],\n",
              "       [ 1.24517091,  0.57316071,  1.47998184, ...,  0.16768032,\n",
              "         1.60896138, -0.86516417],\n",
              "       [-2.94577331, -1.2615767 , -1.33794604, ...,  1.64285226,\n",
              "         1.40891733,  1.20886132]])"
            ]
          },
          "metadata": {},
          "execution_count": 14
        }
      ]
    },
    {
      "cell_type": "code",
      "source": [
        "#get the target values to y\n",
        "y = data[:,17]"
      ],
      "metadata": {
        "id": "_UNkqJXhodBz"
      },
      "execution_count": null,
      "outputs": []
    },
    {
      "cell_type": "code",
      "source": [
        "y.shape"
      ],
      "metadata": {
        "colab": {
          "base_uri": "https://localhost:8080/"
        },
        "id": "T2Sr9k4r3ihG",
        "outputId": "179d5fde-2964-4574-97b4-c4a62231bce2"
      },
      "execution_count": null,
      "outputs": [
        {
          "output_type": "execute_result",
          "data": {
            "text/plain": [
              "(156,)"
            ]
          },
          "metadata": {},
          "execution_count": 42
        }
      ]
    },
    {
      "cell_type": "code",
      "source": [
        "y"
      ],
      "metadata": {
        "colab": {
          "base_uri": "https://localhost:8080/"
        },
        "id": "EPQVnVtJoprg",
        "outputId": "3d000e5b-3365-450b-ff3a-85b19a7c4754"
      },
      "execution_count": null,
      "outputs": [
        {
          "output_type": "execute_result",
          "data": {
            "text/plain": [
              "array([1., 0., 1., 0., 1., 1., 0., 1., 1., 1., 1., 1., 1., 1., 1., 1., 1.,\n",
              "       1., 1., 1., 1., 1., 0., 1., 1., 1., 1., 1., 1., 1., 0., 1., 1., 1.,\n",
              "       1., 1., 1., 1., 1., 1., 1., 1., 1., 1., 1., 1., 1., 1., 1., 1., 1.,\n",
              "       1., 1., 1., 1., 1., 1., 1., 1., 1., 1., 1., 1., 1., 0., 0., 1., 1.,\n",
              "       1., 1., 1., 1., 1., 1., 1., 1., 1., 1., 1., 1., 1., 1., 1., 1., 1.,\n",
              "       1., 0., 1., 0., 1., 1., 1., 0., 1., 1., 1., 1., 0., 1., 1., 1., 1.,\n",
              "       1., 1., 1., 1., 1., 1., 1., 1., 1., 1., 1., 1., 1., 1., 1., 1., 0.,\n",
              "       1., 1., 1., 1., 1., 0., 1., 1., 1., 1., 1., 1., 1., 1., 1., 1., 1.,\n",
              "       1., 1., 1., 1., 1., 1., 1., 0., 1., 1., 1., 1., 0., 1., 1., 1., 1.,\n",
              "       1., 0., 1.])"
            ]
          },
          "metadata": {},
          "execution_count": 16
        }
      ]
    },
    {
      "cell_type": "code",
      "source": [
        "#This will handle the all methods that are needed to create and execute sequence type deep leraning model.\n",
        "from keras.models import Sequential\n"
      ],
      "metadata": {
        "id": "v17xARzKpNd6"
      },
      "execution_count": null,
      "outputs": []
    },
    {
      "cell_type": "code",
      "source": [
        "#Dense layer class\n",
        "from keras.layers import Dense\n"
      ],
      "metadata": {
        "id": "OFJDngwvpnqC"
      },
      "execution_count": null,
      "outputs": []
    },
    {
      "cell_type": "code",
      "source": [
        "#import LeakyRelu\n",
        "from keras.layers import LeakyReLU"
      ],
      "metadata": {
        "id": "o3gZZSL8ppCm"
      },
      "execution_count": null,
      "outputs": []
    },
    {
      "cell_type": "code",
      "source": [
        "#import models and layers\n",
        "from keras import models\n",
        "from keras import layers\n"
      ],
      "metadata": {
        "id": "2d_VMbyyqsOM"
      },
      "execution_count": null,
      "outputs": []
    },
    {
      "cell_type": "code",
      "source": [
        "#import train_test_split\n",
        "from sklearn.model_selection import train_test_split"
      ],
      "metadata": {
        "id": "ocgNsO9DrkLk"
      },
      "execution_count": null,
      "outputs": []
    },
    {
      "cell_type": "code",
      "source": [
        "#set random seed\n",
        "np.random.seed(0)"
      ],
      "metadata": {
        "id": "HpWsE3APWTnA"
      },
      "execution_count": null,
      "outputs": []
    },
    {
      "cell_type": "code",
      "source": [
        "#devide into data test and train\n",
        "x_train, x_test, y_train, y_test = train_test_split(x,y, test_size=0.2, train_size=0.8, random_state=15, shuffle=True, stratify=y)"
      ],
      "metadata": {
        "id": "ya2hTr4ArybN"
      },
      "execution_count": null,
      "outputs": []
    },
    {
      "cell_type": "code",
      "source": [
        "#set the features\n",
        "number_of_features = 7"
      ],
      "metadata": {
        "id": "8nhB3AMCsRMo"
      },
      "execution_count": null,
      "outputs": []
    },
    {
      "cell_type": "code",
      "source": [
        "x_train.shape"
      ],
      "metadata": {
        "colab": {
          "base_uri": "https://localhost:8080/"
        },
        "id": "6q52-EcVAeW3",
        "outputId": "21506ee5-5022-4cda-ee03-35729c0c1159"
      },
      "execution_count": null,
      "outputs": [
        {
          "output_type": "execute_result",
          "data": {
            "text/plain": [
              "(124, 7)"
            ]
          },
          "metadata": {},
          "execution_count": 59
        }
      ]
    },
    {
      "cell_type": "code",
      "source": [
        "# Start neural network\n",
        "network = models.Sequential()"
      ],
      "metadata": {
        "id": "HHcimn5OrYY0"
      },
      "execution_count": null,
      "outputs": []
    },
    {
      "cell_type": "code",
      "source": [
        "# Add fully connected layer with a ReLU activation function\n",
        "network.add(layers.Dense(units=7, activation=\"relu\", input_shape=(number_of_features,)))"
      ],
      "metadata": {
        "id": "cswBbdEyripl"
      },
      "execution_count": null,
      "outputs": []
    },
    {
      "cell_type": "code",
      "source": [
        "network.add(LeakyReLU())"
      ],
      "metadata": {
        "id": "JqC3iab2jtKu"
      },
      "execution_count": null,
      "outputs": []
    },
    {
      "cell_type": "code",
      "source": [
        "# Add fully connected layer with a ReLU activation function\n",
        "network.add(layers.Dense(units=4, activation=\"relu\"))"
      ],
      "metadata": {
        "id": "fA51iUQqtCew"
      },
      "execution_count": null,
      "outputs": []
    },
    {
      "cell_type": "code",
      "source": [
        "network.add(LeakyReLU())"
      ],
      "metadata": {
        "id": "4RHrdX-Sj0Rs"
      },
      "execution_count": null,
      "outputs": []
    },
    {
      "cell_type": "code",
      "source": [
        "# Add fully connected layer with a sigmoid activation function\n",
        "network.add(layers.Dense(units=1, activation=\"sigmoid\"))"
      ],
      "metadata": {
        "id": "qElx9AGStIZg"
      },
      "execution_count": null,
      "outputs": []
    },
    {
      "cell_type": "code",
      "source": [
        "# Compile neural network\n",
        "network.compile(loss=\"binary_crossentropy\", # Cross-entropy\n",
        "optimizer=\"rmsprop\", # Root Mean Square Propagation\n",
        "metrics=[\"accuracy\"])\n"
      ],
      "metadata": {
        "id": "UMYQe9PhtRq4"
      },
      "execution_count": null,
      "outputs": []
    },
    {
      "cell_type": "code",
      "source": [
        "# Train neural network\n",
        "history = network.fit(x_train,y_train, epochs=50, verbose=1, batch_size=10, validation_data=(x_test, y_test))"
      ],
      "metadata": {
        "colab": {
          "base_uri": "https://localhost:8080/"
        },
        "id": "IkkCrUdktfS-",
        "outputId": "bee3519c-4b8d-41e4-b693-920e30985153"
      },
      "execution_count": null,
      "outputs": [
        {
          "output_type": "stream",
          "name": "stdout",
          "text": [
            "Epoch 1/50\n",
            "13/13 [==============================] - 1s 15ms/step - loss: 0.7657 - accuracy: 0.3548 - val_loss: 0.7449 - val_accuracy: 0.3438\n",
            "Epoch 2/50\n",
            "13/13 [==============================] - 0s 3ms/step - loss: 0.7300 - accuracy: 0.4597 - val_loss: 0.7102 - val_accuracy: 0.4375\n",
            "Epoch 3/50\n",
            "13/13 [==============================] - 0s 3ms/step - loss: 0.7056 - accuracy: 0.5161 - val_loss: 0.6762 - val_accuracy: 0.5938\n",
            "Epoch 4/50\n",
            "13/13 [==============================] - 0s 4ms/step - loss: 0.6825 - accuracy: 0.5323 - val_loss: 0.6485 - val_accuracy: 0.6562\n",
            "Epoch 5/50\n",
            "13/13 [==============================] - 0s 3ms/step - loss: 0.6614 - accuracy: 0.6290 - val_loss: 0.6231 - val_accuracy: 0.7812\n",
            "Epoch 6/50\n",
            "13/13 [==============================] - 0s 3ms/step - loss: 0.6411 - accuracy: 0.6855 - val_loss: 0.5995 - val_accuracy: 0.7812\n",
            "Epoch 7/50\n",
            "13/13 [==============================] - 0s 3ms/step - loss: 0.6224 - accuracy: 0.7500 - val_loss: 0.5796 - val_accuracy: 0.8438\n",
            "Epoch 8/50\n",
            "13/13 [==============================] - 0s 3ms/step - loss: 0.6051 - accuracy: 0.7742 - val_loss: 0.5612 - val_accuracy: 0.8438\n",
            "Epoch 9/50\n",
            "13/13 [==============================] - 0s 4ms/step - loss: 0.5893 - accuracy: 0.8145 - val_loss: 0.5446 - val_accuracy: 0.9062\n",
            "Epoch 10/50\n",
            "13/13 [==============================] - 0s 3ms/step - loss: 0.5752 - accuracy: 0.8306 - val_loss: 0.5296 - val_accuracy: 0.9062\n",
            "Epoch 11/50\n",
            "13/13 [==============================] - 0s 4ms/step - loss: 0.5625 - accuracy: 0.8468 - val_loss: 0.5160 - val_accuracy: 0.9062\n",
            "Epoch 12/50\n",
            "13/13 [==============================] - 0s 3ms/step - loss: 0.5505 - accuracy: 0.8548 - val_loss: 0.5021 - val_accuracy: 0.9062\n",
            "Epoch 13/50\n",
            "13/13 [==============================] - 0s 3ms/step - loss: 0.5382 - accuracy: 0.8790 - val_loss: 0.4874 - val_accuracy: 0.9062\n",
            "Epoch 14/50\n",
            "13/13 [==============================] - 0s 3ms/step - loss: 0.5249 - accuracy: 0.8871 - val_loss: 0.4711 - val_accuracy: 0.9062\n",
            "Epoch 15/50\n",
            "13/13 [==============================] - 0s 3ms/step - loss: 0.5121 - accuracy: 0.8952 - val_loss: 0.4572 - val_accuracy: 0.9062\n",
            "Epoch 16/50\n",
            "13/13 [==============================] - 0s 3ms/step - loss: 0.5008 - accuracy: 0.8952 - val_loss: 0.4432 - val_accuracy: 0.9062\n",
            "Epoch 17/50\n",
            "13/13 [==============================] - 0s 3ms/step - loss: 0.4899 - accuracy: 0.8952 - val_loss: 0.4307 - val_accuracy: 0.9062\n",
            "Epoch 18/50\n",
            "13/13 [==============================] - 0s 4ms/step - loss: 0.4793 - accuracy: 0.8952 - val_loss: 0.4183 - val_accuracy: 0.9062\n",
            "Epoch 19/50\n",
            "13/13 [==============================] - 0s 3ms/step - loss: 0.4689 - accuracy: 0.8952 - val_loss: 0.4073 - val_accuracy: 0.9062\n",
            "Epoch 20/50\n",
            "13/13 [==============================] - 0s 4ms/step - loss: 0.4594 - accuracy: 0.8952 - val_loss: 0.3968 - val_accuracy: 0.9062\n",
            "Epoch 21/50\n",
            "13/13 [==============================] - 0s 3ms/step - loss: 0.4500 - accuracy: 0.8952 - val_loss: 0.3860 - val_accuracy: 0.9062\n",
            "Epoch 22/50\n",
            "13/13 [==============================] - 0s 3ms/step - loss: 0.4409 - accuracy: 0.8952 - val_loss: 0.3768 - val_accuracy: 0.9062\n",
            "Epoch 23/50\n",
            "13/13 [==============================] - 0s 4ms/step - loss: 0.4324 - accuracy: 0.8952 - val_loss: 0.3671 - val_accuracy: 0.9062\n",
            "Epoch 24/50\n",
            "13/13 [==============================] - 0s 5ms/step - loss: 0.4241 - accuracy: 0.8952 - val_loss: 0.3584 - val_accuracy: 0.9062\n",
            "Epoch 25/50\n",
            "13/13 [==============================] - 0s 4ms/step - loss: 0.4162 - accuracy: 0.8952 - val_loss: 0.3504 - val_accuracy: 0.9062\n",
            "Epoch 26/50\n",
            "13/13 [==============================] - 0s 3ms/step - loss: 0.4088 - accuracy: 0.8952 - val_loss: 0.3433 - val_accuracy: 0.9062\n",
            "Epoch 27/50\n",
            "13/13 [==============================] - 0s 3ms/step - loss: 0.4022 - accuracy: 0.8952 - val_loss: 0.3378 - val_accuracy: 0.9062\n",
            "Epoch 28/50\n",
            "13/13 [==============================] - 0s 3ms/step - loss: 0.3963 - accuracy: 0.8952 - val_loss: 0.3320 - val_accuracy: 0.9062\n",
            "Epoch 29/50\n",
            "13/13 [==============================] - 0s 4ms/step - loss: 0.3898 - accuracy: 0.8952 - val_loss: 0.3268 - val_accuracy: 0.9062\n",
            "Epoch 30/50\n",
            "13/13 [==============================] - 0s 3ms/step - loss: 0.3844 - accuracy: 0.8952 - val_loss: 0.3215 - val_accuracy: 0.9062\n",
            "Epoch 31/50\n",
            "13/13 [==============================] - 0s 3ms/step - loss: 0.3788 - accuracy: 0.8952 - val_loss: 0.3181 - val_accuracy: 0.9062\n",
            "Epoch 32/50\n",
            "13/13 [==============================] - 0s 4ms/step - loss: 0.3742 - accuracy: 0.8952 - val_loss: 0.3142 - val_accuracy: 0.9062\n",
            "Epoch 33/50\n",
            "13/13 [==============================] - 0s 4ms/step - loss: 0.3694 - accuracy: 0.8952 - val_loss: 0.3118 - val_accuracy: 0.9062\n",
            "Epoch 34/50\n",
            "13/13 [==============================] - 0s 3ms/step - loss: 0.3657 - accuracy: 0.8952 - val_loss: 0.3095 - val_accuracy: 0.9062\n",
            "Epoch 35/50\n",
            "13/13 [==============================] - 0s 3ms/step - loss: 0.3618 - accuracy: 0.8952 - val_loss: 0.3073 - val_accuracy: 0.9062\n",
            "Epoch 36/50\n",
            "13/13 [==============================] - 0s 3ms/step - loss: 0.3577 - accuracy: 0.8952 - val_loss: 0.3053 - val_accuracy: 0.9062\n",
            "Epoch 37/50\n",
            "13/13 [==============================] - 0s 3ms/step - loss: 0.3537 - accuracy: 0.8952 - val_loss: 0.3032 - val_accuracy: 0.9062\n",
            "Epoch 38/50\n",
            "13/13 [==============================] - 0s 3ms/step - loss: 0.3496 - accuracy: 0.8952 - val_loss: 0.3016 - val_accuracy: 0.9062\n",
            "Epoch 39/50\n",
            "13/13 [==============================] - 0s 3ms/step - loss: 0.3457 - accuracy: 0.8952 - val_loss: 0.3008 - val_accuracy: 0.9062\n",
            "Epoch 40/50\n",
            "13/13 [==============================] - 0s 3ms/step - loss: 0.3421 - accuracy: 0.8952 - val_loss: 0.2995 - val_accuracy: 0.9062\n",
            "Epoch 41/50\n",
            "13/13 [==============================] - 0s 3ms/step - loss: 0.3390 - accuracy: 0.8952 - val_loss: 0.2985 - val_accuracy: 0.9062\n",
            "Epoch 42/50\n",
            "13/13 [==============================] - 0s 4ms/step - loss: 0.3357 - accuracy: 0.8952 - val_loss: 0.2977 - val_accuracy: 0.9062\n",
            "Epoch 43/50\n",
            "13/13 [==============================] - 0s 3ms/step - loss: 0.3325 - accuracy: 0.8952 - val_loss: 0.2979 - val_accuracy: 0.9062\n",
            "Epoch 44/50\n",
            "13/13 [==============================] - 0s 3ms/step - loss: 0.3296 - accuracy: 0.8952 - val_loss: 0.2975 - val_accuracy: 0.9062\n",
            "Epoch 45/50\n",
            "13/13 [==============================] - 0s 3ms/step - loss: 0.3267 - accuracy: 0.8952 - val_loss: 0.2972 - val_accuracy: 0.9062\n",
            "Epoch 46/50\n",
            "13/13 [==============================] - 0s 3ms/step - loss: 0.3238 - accuracy: 0.8952 - val_loss: 0.2973 - val_accuracy: 0.9062\n",
            "Epoch 47/50\n",
            "13/13 [==============================] - 0s 3ms/step - loss: 0.3210 - accuracy: 0.8952 - val_loss: 0.2974 - val_accuracy: 0.9062\n",
            "Epoch 48/50\n",
            "13/13 [==============================] - 0s 3ms/step - loss: 0.3186 - accuracy: 0.8952 - val_loss: 0.2974 - val_accuracy: 0.9062\n",
            "Epoch 49/50\n",
            "13/13 [==============================] - 0s 4ms/step - loss: 0.3160 - accuracy: 0.8952 - val_loss: 0.2977 - val_accuracy: 0.9062\n",
            "Epoch 50/50\n",
            "13/13 [==============================] - 0s 3ms/step - loss: 0.3137 - accuracy: 0.8952 - val_loss: 0.2976 - val_accuracy: 0.9062\n"
          ]
        }
      ]
    },
    {
      "cell_type": "code",
      "source": [
        "#Summary\n",
        "network.summary()"
      ],
      "metadata": {
        "colab": {
          "base_uri": "https://localhost:8080/"
        },
        "id": "IdU3xc5-wiYT",
        "outputId": "66b472d7-68b2-4da7-be06-27cd697a5f67"
      },
      "execution_count": null,
      "outputs": [
        {
          "output_type": "stream",
          "name": "stdout",
          "text": [
            "Model: \"sequential\"\n",
            "_________________________________________________________________\n",
            " Layer (type)                Output Shape              Param #   \n",
            "=================================================================\n",
            " dense (Dense)               (None, 7)                 56        \n",
            "                                                                 \n",
            " leaky_re_lu (LeakyReLU)     (None, 7)                 0         \n",
            "                                                                 \n",
            " dense_1 (Dense)             (None, 4)                 32        \n",
            "                                                                 \n",
            " leaky_re_lu_1 (LeakyReLU)   (None, 4)                 0         \n",
            "                                                                 \n",
            " dense_2 (Dense)             (None, 1)                 5         \n",
            "                                                                 \n",
            "=================================================================\n",
            "Total params: 93\n",
            "Trainable params: 93\n",
            "Non-trainable params: 0\n",
            "_________________________________________________________________\n"
          ]
        }
      ]
    },
    {
      "cell_type": "code",
      "source": [
        "#Evalution of the model\n",
        "model_accuracy = network.evaluate(x_test, y_test)"
      ],
      "metadata": {
        "colab": {
          "base_uri": "https://localhost:8080/"
        },
        "id": "eArv6jWGw_4n",
        "outputId": "ef2eed67-dd8f-4c2b-ab87-353814aebcc4"
      },
      "execution_count": null,
      "outputs": [
        {
          "output_type": "stream",
          "name": "stdout",
          "text": [
            "1/1 [==============================] - 0s 18ms/step - loss: 0.2976 - accuracy: 0.9062\n"
          ]
        }
      ]
    },
    {
      "cell_type": "code",
      "source": [
        "# Get training and test loss histories\n",
        "training_loss = history.history[\"loss\"]\n",
        "test_loss = history.history[\"val_loss\"]\n",
        "# Create count of the number of epochs\n",
        "epoch_count = range(1, len(training_loss) + 1)\n",
        "# Visualize loss history\n",
        "plt.plot(epoch_count, training_loss, \"r--\")\n",
        "plt.plot(epoch_count, test_loss, \"b-\")\n",
        "plt.legend([\"Training Loss\", \"Test Loss\"])\n",
        "plt.xlabel(\"Epoch\")\n",
        "plt.ylabel(\"Loss\")\n",
        "plt.show();\n",
        "\n"
      ],
      "metadata": {
        "id": "TIBZGZn6IA66",
        "outputId": "7d077c43-4dd8-428d-d606-357b10faa3ba",
        "colab": {
          "base_uri": "https://localhost:8080/",
          "height": 449
        }
      },
      "execution_count": null,
      "outputs": [
        {
          "output_type": "display_data",
          "data": {
            "text/plain": [
              "<Figure size 640x480 with 1 Axes>"
            ],
            "image/png": "[encoded data removed]"
          },
          "metadata": {}
        }
      ]
    },
    {
      "cell_type": "code",
      "source": [
        "# Get training and test accuracy histories\n",
        "training_accuracy = history.history[\"accuracy\"]\n",
        "test_accuracy = history.history[\"val_accuracy\"]\n",
        "plt.plot(epoch_count, training_accuracy, \"r--\")\n",
        "plt.plot(epoch_count, test_accuracy, \"b-\")\n",
        "# Visualize accuracy history\n",
        "plt.legend([\"Training Accuracy\", \"Test Accuracy\"])\n",
        "plt.xlabel(\"Epoch\")\n",
        "plt.ylabel(\"Accuracy Score\")\n",
        "plt.show();"
      ],
      "metadata": {
        "id": "2TbzExmAIGJQ",
        "outputId": "53d45148-940c-4371-8605-74dd8d38e57c",
        "colab": {
          "base_uri": "https://localhost:8080/",
          "height": 449
        }
      },
      "execution_count": null,
      "outputs": [
        {
          "output_type": "display_data",
          "data": {
            "text/plain": [
              "<Figure size 640x480 with 1 Axes>"
            ],
            "image/png": "[encoded data removed]"
          },
          "metadata": {}
        }
      ]
    },
    {
      "cell_type": "markdown",
      "source": [
        "#Analyse the Data set\n"
      ],
      "metadata": {
        "id": "fTm67OxOjn8U"
      }
    },
    {
      "cell_type": "markdown",
      "source": [
        "### **Compare the X and Y**"
      ],
      "metadata": {
        "id": "L1JaplfKowuU"
      }
    },
    {
      "cell_type": "code",
      "source": [
        "#perform predictions on the trained model\n",
        "predictions_test = network.predict(x_test)"
      ],
      "metadata": {
        "colab": {
          "base_uri": "https://localhost:8080/"
        },
        "id": "QZQw6OzOxJlA",
        "outputId": "9ca38822-2758-45c4-acb5-d05324b112e2"
      },
      "execution_count": null,
      "outputs": [
        {
          "output_type": "stream",
          "name": "stdout",
          "text": [
            "1/1 [==============================] - 0s 87ms/step\n"
          ]
        }
      ]
    },
    {
      "cell_type": "code",
      "source": [
        "predictions_test"
      ],
      "metadata": {
        "colab": {
          "base_uri": "https://localhost:8080/"
        },
        "id": "WAxoMNKTnPZl",
        "outputId": "f0163ccb-3f8b-4c61-9076-6b1d1150b89a"
      },
      "execution_count": null,
      "outputs": [
        {
          "output_type": "execute_result",
          "data": {
            "text/plain": [
              "array([[0.9213627 ],\n",
              "       [0.8706429 ],\n",
              "       [0.89766115],\n",
              "       [0.89469546],\n",
              "       [0.89118814],\n",
              "       [0.96779555],\n",
              "       [0.816966  ],\n",
              "       [0.91132027],\n",
              "       [0.90973645],\n",
              "       [0.9254495 ],\n",
              "       [0.8229348 ],\n",
              "       [0.9675215 ],\n",
              "       [0.8276549 ],\n",
              "       [0.94488496],\n",
              "       [0.9335051 ],\n",
              "       [0.9143223 ],\n",
              "       [0.76774144],\n",
              "       [0.95770943],\n",
              "       [0.9534548 ],\n",
              "       [0.82935995],\n",
              "       [0.86615825],\n",
              "       [0.88859797],\n",
              "       [0.9632582 ],\n",
              "       [0.92942137],\n",
              "       [0.9418141 ],\n",
              "       [0.8996138 ],\n",
              "       [0.9511207 ],\n",
              "       [0.9102725 ],\n",
              "       [0.88679385],\n",
              "       [0.7814949 ],\n",
              "       [0.9271273 ],\n",
              "       [0.73136103]], dtype=float32)"
            ]
          },
          "metadata": {},
          "execution_count": 53
        }
      ]
    },
    {
      "cell_type": "code",
      "source": [
        "#perform predictions on the trained model\n",
        "predictions_train = network.predict(x_train)"
      ],
      "metadata": {
        "colab": {
          "base_uri": "https://localhost:8080/"
        },
        "id": "CQ_K8nFZ9P2p",
        "outputId": "1a3d518d-1d10-48d8-acfe-f2e82a418315"
      },
      "execution_count": null,
      "outputs": [
        {
          "output_type": "stream",
          "name": "stdout",
          "text": [
            "4/4 [==============================] - 0s 3ms/step\n"
          ]
        }
      ]
    },
    {
      "cell_type": "code",
      "source": [
        "predictions_train"
      ],
      "metadata": {
        "colab": {
          "base_uri": "https://localhost:8080/"
        },
        "id": "nIDKrUjz9V0L",
        "outputId": "12883129-2592-4835-fdaf-e8ac56d9febd"
      },
      "execution_count": null,
      "outputs": [
        {
          "output_type": "execute_result",
          "data": {
            "text/plain": [
              "array([[0.95189077],\n",
              "       [0.9169304 ],\n",
              "       [0.8815783 ],\n",
              "       [0.8871804 ],\n",
              "       [0.69599485],\n",
              "       [0.95455956],\n",
              "       [0.940078  ],\n",
              "       [0.87782997],\n",
              "       [0.7552135 ],\n",
              "       [0.8781019 ],\n",
              "       [0.9900064 ],\n",
              "       [0.82017565],\n",
              "       [0.82807094],\n",
              "       [0.9235847 ],\n",
              "       [0.6842818 ],\n",
              "       [0.9657965 ],\n",
              "       [0.9768474 ],\n",
              "       [0.7550718 ],\n",
              "       [0.99348366],\n",
              "       [0.6882726 ],\n",
              "       [0.78356475],\n",
              "       [0.9564734 ],\n",
              "       [0.9421164 ],\n",
              "       [0.948872  ],\n",
              "       [0.7170826 ],\n",
              "       [0.68580514],\n",
              "       [0.9095853 ],\n",
              "       [0.95502084],\n",
              "       [0.95706195],\n",
              "       [0.92800313],\n",
              "       [0.7979986 ],\n",
              "       [0.9076081 ],\n",
              "       [0.9107835 ],\n",
              "       [0.90221214],\n",
              "       [0.9189964 ],\n",
              "       [0.9409962 ],\n",
              "       [0.94848967],\n",
              "       [0.95992655],\n",
              "       [0.9306757 ],\n",
              "       [0.9597113 ],\n",
              "       [0.98744833],\n",
              "       [0.9698361 ],\n",
              "       [0.92465407],\n",
              "       [0.94568807],\n",
              "       [0.9384037 ],\n",
              "       [0.7887813 ],\n",
              "       [0.9345153 ],\n",
              "       [0.9725391 ],\n",
              "       [0.89567405],\n",
              "       [0.9868678 ],\n",
              "       [0.9760852 ],\n",
              "       [0.891496  ],\n",
              "       [0.6809303 ],\n",
              "       [0.9578665 ],\n",
              "       [0.8738705 ],\n",
              "       [0.8547632 ],\n",
              "       [0.9601618 ],\n",
              "       [0.96592605],\n",
              "       [0.90875036],\n",
              "       [0.9014253 ],\n",
              "       [0.93668777],\n",
              "       [0.9570461 ],\n",
              "       [0.8526303 ],\n",
              "       [0.78353864],\n",
              "       [0.974026  ],\n",
              "       [0.8713908 ],\n",
              "       [0.91322213],\n",
              "       [0.8887351 ],\n",
              "       [0.9296004 ],\n",
              "       [0.8674012 ],\n",
              "       [0.8612021 ],\n",
              "       [0.73794526],\n",
              "       [0.9724266 ],\n",
              "       [0.7981338 ],\n",
              "       [0.95553744],\n",
              "       [0.7192429 ],\n",
              "       [0.895978  ],\n",
              "       [0.6575548 ],\n",
              "       [0.78445524],\n",
              "       [0.9364102 ],\n",
              "       [0.9125645 ],\n",
              "       [0.8922673 ],\n",
              "       [0.9319081 ],\n",
              "       [0.7757989 ],\n",
              "       [0.91077274],\n",
              "       [0.700979  ],\n",
              "       [0.8424044 ],\n",
              "       [0.91321963],\n",
              "       [0.8575463 ],\n",
              "       [0.7795911 ],\n",
              "       [0.97746146],\n",
              "       [0.833354  ],\n",
              "       [0.80703014],\n",
              "       [0.8166382 ],\n",
              "       [0.8092561 ],\n",
              "       [0.81964815],\n",
              "       [0.95486957],\n",
              "       [0.83914524],\n",
              "       [0.8442471 ],\n",
              "       [0.9193141 ],\n",
              "       [0.89072233],\n",
              "       [0.8943353 ],\n",
              "       [0.91983163],\n",
              "       [0.84781635],\n",
              "       [0.962786  ],\n",
              "       [0.84322304],\n",
              "       [0.73284423],\n",
              "       [0.7983987 ],\n",
              "       [0.9210291 ],\n",
              "       [0.9448404 ],\n",
              "       [0.9256043 ],\n",
              "       [0.8740697 ],\n",
              "       [0.7139917 ],\n",
              "       [0.94748664],\n",
              "       [0.9610133 ],\n",
              "       [0.9731012 ],\n",
              "       [0.95434904],\n",
              "       [0.96428525],\n",
              "       [0.91342974],\n",
              "       [0.92841613],\n",
              "       [0.894526  ],\n",
              "       [0.72421944],\n",
              "       [0.8229124 ],\n",
              "       [0.93301755]], dtype=float32)"
            ]
          },
          "metadata": {},
          "execution_count": 55
        }
      ]
    },
    {
      "cell_type": "code",
      "source": [
        "from sklearn.metrics import accuracy_score, precision_score, recall_score, f1_score, roc_auc_score"
      ],
      "metadata": {
        "id": "avRAiuKUE2lb"
      },
      "execution_count": null,
      "outputs": []
    },
    {
      "cell_type": "code",
      "source": [
        "threshold = 0.5"
      ],
      "metadata": {
        "id": "99ohVqL4IPMB"
      },
      "execution_count": null,
      "outputs": []
    },
    {
      "cell_type": "code",
      "source": [
        "binary_predictions_test = np.where(predictions_test >= threshold, 1, 0)"
      ],
      "metadata": {
        "id": "J6QdRBCDJoHO"
      },
      "execution_count": null,
      "outputs": []
    },
    {
      "cell_type": "code",
      "source": [
        "binary_predictions_train = np.where(predictions_train >= threshold, 1, 0)\n"
      ],
      "metadata": {
        "id": "8U6iqWf-IS8X"
      },
      "execution_count": null,
      "outputs": []
    },
    {
      "cell_type": "code",
      "source": [
        "# Calculate accuracy\n",
        "accuracy_train = accuracy_score(y_train, binary_predictions_train)"
      ],
      "metadata": {
        "id": "cEFZXK0sEwCU"
      },
      "execution_count": null,
      "outputs": []
    },
    {
      "cell_type": "code",
      "source": [
        "# Calculate precision\n",
        "precision_train = precision_score(y_train, binary_predictions_train)"
      ],
      "metadata": {
        "id": "HoMJRUrnIo-B"
      },
      "execution_count": null,
      "outputs": []
    },
    {
      "cell_type": "code",
      "source": [
        "# Calculate recall\n",
        "recall_train = recall_score(y_train, binary_predictions_train)"
      ],
      "metadata": {
        "id": "wG3MGW77I1Il"
      },
      "execution_count": null,
      "outputs": []
    },
    {
      "cell_type": "code",
      "source": [
        "# Calculate F1 score\n",
        "f1_train = f1_score(y_train, binary_predictions_train)"
      ],
      "metadata": {
        "id": "quFrXuHpI7iB"
      },
      "execution_count": null,
      "outputs": []
    },
    {
      "cell_type": "code",
      "source": [
        "# Print the evaluation metrics\n",
        "print(\"Train Accuracy:\", accuracy_train)\n",
        "print(\"Train Precision:\", precision_train)\n",
        "print(\"Train Recall:\", recall_train)\n",
        "print(\"Train F1 Score:\", f1_train)\n"
      ],
      "metadata": {
        "colab": {
          "base_uri": "https://localhost:8080/"
        },
        "id": "LDBStjwoI3NN",
        "outputId": "e7e3ec18-0496-4f3f-d28c-f9e7302360e9"
      },
      "execution_count": null,
      "outputs": [
        {
          "output_type": "stream",
          "name": "stdout",
          "text": [
            "Train Accuracy: 0.8951612903225806\n",
            "Train Precision: 0.8951612903225806\n",
            "Train Recall: 1.0\n",
            "Train F1 Score: 0.9446808510638298\n"
          ]
        }
      ]
    },
    {
      "cell_type": "code",
      "source": [
        "# Calculate accuracy\n",
        "accuracy_test = accuracy_score(y_test, binary_predictions_test)\n",
        "\n",
        "# Calculate precision\n",
        "precision_test = precision_score(y_test, binary_predictions_test)\n",
        "\n",
        "# Calculate recall\n",
        "recall_test = recall_score(y_test, binary_predictions_test)\n",
        "\n",
        "# Calculate F1 score\n",
        "f1_test = f1_score(y_test, binary_predictions_test)\n",
        "\n"
      ],
      "metadata": {
        "id": "rXLc0WtgJKvk"
      },
      "execution_count": null,
      "outputs": []
    },
    {
      "cell_type": "code",
      "source": [
        "# Print the evaluation metrics\n",
        "print(\"Test Accuracy:\", accuracy_test)\n",
        "print(\"Test Precision:\", precision_test)\n",
        "print(\"Test Recall:\", recall_test)\n",
        "print(\"Test F1 Score:\", f1_test)"
      ],
      "metadata": {
        "colab": {
          "base_uri": "https://localhost:8080/"
        },
        "id": "wvrJJvJYKC4f",
        "outputId": "e3d3b5f6-9ce5-472a-909c-6f775e89ed75"
      },
      "execution_count": null,
      "outputs": [
        {
          "output_type": "stream",
          "name": "stdout",
          "text": [
            "Test Accuracy: 0.90625\n",
            "Test Precision: 0.90625\n",
            "Test Recall: 1.0\n",
            "Test F1 Score: 0.9508196721311475\n"
          ]
        }
      ]
    },
    {
      "cell_type": "markdown",
      "source": [
        "## **Analyse with gender**\n"
      ],
      "metadata": {
        "id": "0wXSwjNF_q88"
      }
    },
    {
      "cell_type": "markdown",
      "source": [
        "### **Female**"
      ],
      "metadata": {
        "id": "y5SoigvyBAgh"
      }
    },
    {
      "cell_type": "code",
      "source": [
        "IT_gender_Female = IT_job_satisfaction_data[(IT_job_satisfaction_data.gender == 1)]"
      ],
      "metadata": {
        "id": "6_44DoDliO8V"
      },
      "execution_count": null,
      "outputs": []
    },
    {
      "cell_type": "code",
      "source": [
        "IT_gender_Female.shape"
      ],
      "metadata": {
        "colab": {
          "base_uri": "https://localhost:8080/"
        },
        "id": "JMFcjolMinob",
        "outputId": "b320925f-5818-433b-bf27-a4d9d88a04c8"
      },
      "execution_count": null,
      "outputs": [
        {
          "output_type": "execute_result",
          "data": {
            "text/plain": [
              "(54, 18)"
            ]
          },
          "metadata": {},
          "execution_count": 45
        }
      ]
    },
    {
      "cell_type": "code",
      "source": [
        "IT_gender_Female.head()"
      ],
      "metadata": {
        "colab": {
          "base_uri": "https://localhost:8080/"
        },
        "id": "dEnol3qli7wp",
        "outputId": "6c783c75-b7db-4614-fb3d-161ef9f82298"
      },
      "execution_count": null,
      "outputs": [
        {
          "output_type": "execute_result",
          "data": {
            "text/plain": [
              "   gender  age  country  education  experience  Job_role  working_culture  \\\n",
              "1       1    1        0          2           0         5                0   \n",
              "2       1    0        0          2           0         2                2   \n",
              "3       1    1        0          2           0         2                1   \n",
              "4       1    1        0          2           0         1                0   \n",
              "6       1    1        0          2           0         5                0   \n",
              "\n",
              "   annual_salary  is_thisFavourite_job  switch_the_job_field  \\\n",
              "1              1                     0                     2   \n",
              "2              0                     1                     1   \n",
              "3              0                     1                     2   \n",
              "4              0                     1                     0   \n",
              "6              2                     0                     2   \n",
              "\n",
              "   STRESS_LEVEL_IN_A_PROJECT  ENGAGEMENT_WITH_FAMILY  ENGAGEMENT_WITH_SOCIETY  \\\n",
              "1                   0.796339                2.027511                 2.419291   \n",
              "2                  -1.628461               -0.530939                -1.337946   \n",
              "3                  -1.628461               -0.161396                -0.879361   \n",
              "4                   0.586515                2.031125                 0.540673   \n",
              "6                   1.350083                2.027511                 2.419291   \n",
              "\n",
              "   SATISFACTION_ABOUT_COUNTRY  SATISFACTION_ABOUT_COMPANY  \\\n",
              "1                    1.291619                    0.659404   \n",
              "2                   -0.405740                    0.191437   \n",
              "3                    0.161807                   -1.236220   \n",
              "4                   -1.750852                   -0.276529   \n",
              "6                    0.746302                    0.683161   \n",
              "\n",
              "   SATISFACTION_ABOUT_SALARY  SATISFACTION_ABOUT_JOB_POSITION  \\\n",
              "1                   1.246116                        -0.865164   \n",
              "2                  -0.171197                         0.690355   \n",
              "3                   0.643952                         0.126900   \n",
              "4                  -0.350178                        -1.992075   \n",
              "6                   1.568261                        -0.910113   \n",
              "\n",
              "   SATISFACTION_ABOUT_IT_FIELD  \n",
              "1                            0  \n",
              "2                            1  \n",
              "3                            0  \n",
              "4                            1  \n",
              "6                            0  "
            ],
            "text/html": [
              "\n",
              "  <div id=\"df-9bce8b4f-b229-4136-a197-51df12f2bb38\">\n",
              "    <div class=\"colab-df-container\">\n",
              "      <div>\n",
              "<style scoped>\n",
              "    .dataframe tbody tr th:only-of-type {\n",
              "        vertical-align: middle;\n",
              "    }\n",
              "\n",
              "    .dataframe tbody tr th {\n",
              "        vertical-align: top;\n",
              "    }\n",
              "\n",
              "    .dataframe thead th {\n",
              "        text-align: right;\n",
              "    }\n",
              "</style>\n",
              "<table border=\"1\" class=\"dataframe\">\n",
              "  <thead>\n",
              "    <tr style=\"text-align: right;\">\n",
              "      <th></th>\n",
              "      <th>gender</th>\n",
              "      <th>age</th>\n",
              "      <th>country</th>\n",
              "      <th>education</th>\n",
              "      <th>experience</th>\n",
              "      <th>Job_role</th>\n",
              "      <th>working_culture</th>\n",
              "      <th>annual_salary</th>\n",
              "      <th>is_thisFavourite_job</th>\n",
              "      <th>switch_the_job_field</th>\n",
              "      <th>STRESS_LEVEL_IN_A_PROJECT</th>\n",
              "      <th>ENGAGEMENT_WITH_FAMILY</th>\n",
              "      <th>ENGAGEMENT_WITH_SOCIETY</th>\n",
              "      <th>SATISFACTION_ABOUT_COUNTRY</th>\n",
              "      <th>SATISFACTION_ABOUT_COMPANY</th>\n",
              "      <th>SATISFACTION_ABOUT_SALARY</th>\n",
              "      <th>SATISFACTION_ABOUT_JOB_POSITION</th>\n",
              "      <th>SATISFACTION_ABOUT_IT_FIELD</th>\n",
              "    </tr>\n",
              "  </thead>\n",
              "  <tbody>\n",
              "    <tr>\n",
              "      <th>1</th>\n",
              "      <td>1</td>\n",
              "      <td>1</td>\n",
              "      <td>0</td>\n",
              "      <td>2</td>\n",
              "      <td>0</td>\n",
              "      <td>5</td>\n",
              "      <td>0</td>\n",
              "      <td>1</td>\n",
              "      <td>0</td>\n",
              "      <td>2</td>\n",
              "      <td>0.796339</td>\n",
              "      <td>2.027511</td>\n",
              "      <td>2.419291</td>\n",
              "      <td>1.291619</td>\n",
              "      <td>0.659404</td>\n",
              "      <td>1.246116</td>\n",
              "      <td>-0.865164</td>\n",
              "      <td>0</td>\n",
              "    </tr>\n",
              "    <tr>\n",
              "      <th>2</th>\n",
              "      <td>1</td>\n",
              "      <td>0</td>\n",
              "      <td>0</td>\n",
              "      <td>2</td>\n",
              "      <td>0</td>\n",
              "      <td>2</td>\n",
              "      <td>2</td>\n",
              "      <td>0</td>\n",
              "      <td>1</td>\n",
              "      <td>1</td>\n",
              "      <td>-1.628461</td>\n",
              "      <td>-0.530939</td>\n",
              "      <td>-1.337946</td>\n",
              "      <td>-0.405740</td>\n",
              "      <td>0.191437</td>\n",
              "      <td>-0.171197</td>\n",
              "      <td>0.690355</td>\n",
              "      <td>1</td>\n",
              "    </tr>\n",
              "    <tr>\n",
              "      <th>3</th>\n",
              "      <td>1</td>\n",
              "      <td>1</td>\n",
              "      <td>0</td>\n",
              "      <td>2</td>\n",
              "      <td>0</td>\n",
              "      <td>2</td>\n",
              "      <td>1</td>\n",
              "      <td>0</td>\n",
              "      <td>1</td>\n",
              "      <td>2</td>\n",
              "      <td>-1.628461</td>\n",
              "      <td>-0.161396</td>\n",
              "      <td>-0.879361</td>\n",
              "      <td>0.161807</td>\n",
              "      <td>-1.236220</td>\n",
              "      <td>0.643952</td>\n",
              "      <td>0.126900</td>\n",
              "      <td>0</td>\n",
              "    </tr>\n",
              "    <tr>\n",
              "      <th>4</th>\n",
              "      <td>1</td>\n",
              "      <td>1</td>\n",
              "      <td>0</td>\n",
              "      <td>2</td>\n",
              "      <td>0</td>\n",
              "      <td>1</td>\n",
              "      <td>0</td>\n",
              "      <td>0</td>\n",
              "      <td>1</td>\n",
              "      <td>0</td>\n",
              "      <td>0.586515</td>\n",
              "      <td>2.031125</td>\n",
              "      <td>0.540673</td>\n",
              "      <td>-1.750852</td>\n",
              "      <td>-0.276529</td>\n",
              "      <td>-0.350178</td>\n",
              "      <td>-1.992075</td>\n",
              "      <td>1</td>\n",
              "    </tr>\n",
              "    <tr>\n",
              "      <th>6</th>\n",
              "      <td>1</td>\n",
              "      <td>1</td>\n",
              "      <td>0</td>\n",
              "      <td>2</td>\n",
              "      <td>0</td>\n",
              "      <td>5</td>\n",
              "      <td>0</td>\n",
              "      <td>2</td>\n",
              "      <td>0</td>\n",
              "      <td>2</td>\n",
              "      <td>1.350083</td>\n",
              "      <td>2.027511</td>\n",
              "      <td>2.419291</td>\n",
              "      <td>0.746302</td>\n",
              "      <td>0.683161</td>\n",
              "      <td>1.568261</td>\n",
              "      <td>-0.910113</td>\n",
              "      <td>0</td>\n",
              "    </tr>\n",
              "  </tbody>\n",
              "</table>\n",
              "</div>\n",
              "      <button class=\"colab-df-convert\" onclick=\"convertToInteractive('df-9bce8b4f-b229-4136-a197-51df12f2bb38')\"\n",
              "              title=\"Convert this dataframe to an interactive table.\"\n",
              "              style=\"display:none;\">\n",
              "        \n",
              "  <svg xmlns=\"http://www.w3.org/2000/svg\" height=\"24px\"viewBox=\"0 0 24 24\"\n",
              "       width=\"24px\">\n",
              "    <path d=\"M0 0h24v24H0V0z\" fill=\"none\"/>\n",
              "    <path d=\"M18.56 5.44l.94 2.06.94-2.06 2.06-.94-2.06-.94-.94-2.06-.94 2.06-2.06.94zm-11 1L8.5 8.5l.94-2.06 2.06-.94-2.06-.94L8.5 2.5l-.94 2.06-2.06.94zm10 10l.94 2.06.94-2.06 2.06-.94-2.06-.94-.94-2.06-.94 2.06-2.06.94z\"/><path d=\"M17.41 7.96l-1.37-1.37c-.4-.4-.92-.59-1.43-.59-.52 0-1.04.2-1.43.59L10.3 9.45l-7.72 7.72c-.78.78-.78 2.05 0 2.83L4 21.41c.39.39.9.59 1.41.59.51 0 1.02-.2 1.41-.59l7.78-7.78 2.81-2.81c.8-.78.8-2.07 0-2.86zM5.41 20L4 18.59l7.72-7.72 1.47 1.35L5.41 20z\"/>\n",
              "  </svg>\n",
              "      </button>\n",
              "      \n",
              "  <style>\n",
              "    .colab-df-container {\n",
              "      display:flex;\n",
              "      flex-wrap:wrap;\n",
              "      gap: 12px;\n",
              "    }\n",
              "\n",
              "    .colab-df-convert {\n",
              "      background-color: #E8F0FE;\n",
              "      border: none;\n",
              "      border-radius: 50%;\n",
              "      cursor: pointer;\n",
              "      display: none;\n",
              "      fill: #1967D2;\n",
              "      height: 32px;\n",
              "      padding: 0 0 0 0;\n",
              "      width: 32px;\n",
              "    }\n",
              "\n",
              "    .colab-df-convert:hover {\n",
              "      background-color: #E2EBFA;\n",
              "      box-shadow: 0px 1px 2px rgba(60, 64, 67, 0.3), 0px 1px 3px 1px rgba(60, 64, 67, 0.15);\n",
              "      fill: #174EA6;\n",
              "    }\n",
              "\n",
              "    [theme=dark] .colab-df-convert {\n",
              "      background-color: #3B4455;\n",
              "      fill: #D2E3FC;\n",
              "    }\n",
              "\n",
              "    [theme=dark] .colab-df-convert:hover {\n",
              "      background-color: #434B5C;\n",
              "      box-shadow: 0px 1px 3px 1px rgba(0, 0, 0, 0.15);\n",
              "      filter: drop-shadow(0px 1px 2px rgba(0, 0, 0, 0.3));\n",
              "      fill: #FFFFFF;\n",
              "    }\n",
              "  </style>\n",
              "\n",
              "      <script>\n",
              "        const buttonEl =\n",
              "          document.querySelector('#df-9bce8b4f-b229-4136-a197-51df12f2bb38 button.colab-df-convert');\n",
              "        buttonEl.style.display =\n",
              "          google.colab.kernel.accessAllowed ? 'block' : 'none';\n",
              "\n",
              "        async function convertToInteractive(key) {\n",
              "          const element = document.querySelector('#df-9bce8b4f-b229-4136-a197-51df12f2bb38');\n",
              "          const dataTable =\n",
              "            await google.colab.kernel.invokeFunction('convertToInteractive',\n",
              "                                                     [key], {});\n",
              "          if (!dataTable) return;\n",
              "\n",
              "          const docLinkHtml = 'Like what you see? Visit the ' +\n",
              "            '<a target=\"_blank\" href=https://colab.research.google.com/notebooks/data_table.ipynb>data table notebook</a>'\n",
              "            + ' to learn more about interactive tables.';\n",
              "          element.innerHTML = '';\n",
              "          dataTable['output_type'] = 'display_data';\n",
              "          await google.colab.output.renderOutput(dataTable, element);\n",
              "          const docLink = document.createElement('div');\n",
              "          docLink.innerHTML = docLinkHtml;\n",
              "          element.appendChild(docLink);\n",
              "        }\n",
              "      </script>\n",
              "    </div>\n",
              "  </div>\n",
              "  "
            ]
          },
          "metadata": {},
          "execution_count": 46
        }
      ]
    },
    {
      "cell_type": "code",
      "source": [
        "gender_dataset_Female = IT_gender_Female.iloc[0:53,10:18]"
      ],
      "metadata": {
        "id": "3RGle73rjfAo"
      },
      "execution_count": null,
      "outputs": []
    },
    {
      "cell_type": "code",
      "source": [
        "gender_dataset_Female.head()"
      ],
      "metadata": {
        "colab": {
          "base_uri": "https://localhost:8080/"
        },
        "id": "g_oJugzmqAx_",
        "outputId": "93b0d849-6300-41b5-d595-d795223a041a"
      },
      "execution_count": null,
      "outputs": [
        {
          "output_type": "execute_result",
          "data": {
            "text/plain": [
              "   STRESS_LEVEL_IN_A_PROJECT  ENGAGEMENT_WITH_FAMILY  ENGAGEMENT_WITH_SOCIETY  \\\n",
              "1                   0.796339                2.027511                 2.419291   \n",
              "2                  -1.628461               -0.530939                -1.337946   \n",
              "3                  -1.628461               -0.161396                -0.879361   \n",
              "4                   0.586515                2.031125                 0.540673   \n",
              "6                   1.350083                2.027511                 2.419291   \n",
              "\n",
              "   SATISFACTION_ABOUT_COUNTRY  SATISFACTION_ABOUT_COMPANY  \\\n",
              "1                    1.291619                    0.659404   \n",
              "2                   -0.405740                    0.191437   \n",
              "3                    0.161807                   -1.236220   \n",
              "4                   -1.750852                   -0.276529   \n",
              "6                    0.746302                    0.683161   \n",
              "\n",
              "   SATISFACTION_ABOUT_SALARY  SATISFACTION_ABOUT_JOB_POSITION  \\\n",
              "1                   1.246116                        -0.865164   \n",
              "2                  -0.171197                         0.690355   \n",
              "3                   0.643952                         0.126900   \n",
              "4                  -0.350178                        -1.992075   \n",
              "6                   1.568261                        -0.910113   \n",
              "\n",
              "   SATISFACTION_ABOUT_IT_FIELD  \n",
              "1                            0  \n",
              "2                            1  \n",
              "3                            0  \n",
              "4                            1  \n",
              "6                            0  "
            ],
            "text/html": [
              "\n",
              "  <div id=\"df-59d9aef8-613f-495a-9a14-5ded38c2182c\">\n",
              "    <div class=\"colab-df-container\">\n",
              "      <div>\n",
              "<style scoped>\n",
              "    .dataframe tbody tr th:only-of-type {\n",
              "        vertical-align: middle;\n",
              "    }\n",
              "\n",
              "    .dataframe tbody tr th {\n",
              "        vertical-align: top;\n",
              "    }\n",
              "\n",
              "    .dataframe thead th {\n",
              "        text-align: right;\n",
              "    }\n",
              "</style>\n",
              "<table border=\"1\" class=\"dataframe\">\n",
              "  <thead>\n",
              "    <tr style=\"text-align: right;\">\n",
              "      <th></th>\n",
              "      <th>STRESS_LEVEL_IN_A_PROJECT</th>\n",
              "      <th>ENGAGEMENT_WITH_FAMILY</th>\n",
              "      <th>ENGAGEMENT_WITH_SOCIETY</th>\n",
              "      <th>SATISFACTION_ABOUT_COUNTRY</th>\n",
              "      <th>SATISFACTION_ABOUT_COMPANY</th>\n",
              "      <th>SATISFACTION_ABOUT_SALARY</th>\n",
              "      <th>SATISFACTION_ABOUT_JOB_POSITION</th>\n",
              "      <th>SATISFACTION_ABOUT_IT_FIELD</th>\n",
              "    </tr>\n",
              "  </thead>\n",
              "  <tbody>\n",
              "    <tr>\n",
              "      <th>1</th>\n",
              "      <td>0.796339</td>\n",
              "      <td>2.027511</td>\n",
              "      <td>2.419291</td>\n",
              "      <td>1.291619</td>\n",
              "      <td>0.659404</td>\n",
              "      <td>1.246116</td>\n",
              "      <td>-0.865164</td>\n",
              "      <td>0</td>\n",
              "    </tr>\n",
              "    <tr>\n",
              "      <th>2</th>\n",
              "      <td>-1.628461</td>\n",
              "      <td>-0.530939</td>\n",
              "      <td>-1.337946</td>\n",
              "      <td>-0.405740</td>\n",
              "      <td>0.191437</td>\n",
              "      <td>-0.171197</td>\n",
              "      <td>0.690355</td>\n",
              "      <td>1</td>\n",
              "    </tr>\n",
              "    <tr>\n",
              "      <th>3</th>\n",
              "      <td>-1.628461</td>\n",
              "      <td>-0.161396</td>\n",
              "      <td>-0.879361</td>\n",
              "      <td>0.161807</td>\n",
              "      <td>-1.236220</td>\n",
              "      <td>0.643952</td>\n",
              "      <td>0.126900</td>\n",
              "      <td>0</td>\n",
              "    </tr>\n",
              "    <tr>\n",
              "      <th>4</th>\n",
              "      <td>0.586515</td>\n",
              "      <td>2.031125</td>\n",
              "      <td>0.540673</td>\n",
              "      <td>-1.750852</td>\n",
              "      <td>-0.276529</td>\n",
              "      <td>-0.350178</td>\n",
              "      <td>-1.992075</td>\n",
              "      <td>1</td>\n",
              "    </tr>\n",
              "    <tr>\n",
              "      <th>6</th>\n",
              "      <td>1.350083</td>\n",
              "      <td>2.027511</td>\n",
              "      <td>2.419291</td>\n",
              "      <td>0.746302</td>\n",
              "      <td>0.683161</td>\n",
              "      <td>1.568261</td>\n",
              "      <td>-0.910113</td>\n",
              "      <td>0</td>\n",
              "    </tr>\n",
              "  </tbody>\n",
              "</table>\n",
              "</div>\n",
              "      <button class=\"colab-df-convert\" onclick=\"convertToInteractive('df-59d9aef8-613f-495a-9a14-5ded38c2182c')\"\n",
              "              title=\"Convert this dataframe to an interactive table.\"\n",
              "              style=\"display:none;\">\n",
              "        \n",
              "  <svg xmlns=\"http://www.w3.org/2000/svg\" height=\"24px\"viewBox=\"0 0 24 24\"\n",
              "       width=\"24px\">\n",
              "    <path d=\"M0 0h24v24H0V0z\" fill=\"none\"/>\n",
              "    <path d=\"M18.56 5.44l.94 2.06.94-2.06 2.06-.94-2.06-.94-.94-2.06-.94 2.06-2.06.94zm-11 1L8.5 8.5l.94-2.06 2.06-.94-2.06-.94L8.5 2.5l-.94 2.06-2.06.94zm10 10l.94 2.06.94-2.06 2.06-.94-2.06-.94-.94-2.06-.94 2.06-2.06.94z\"/><path d=\"M17.41 7.96l-1.37-1.37c-.4-.4-.92-.59-1.43-.59-.52 0-1.04.2-1.43.59L10.3 9.45l-7.72 7.72c-.78.78-.78 2.05 0 2.83L4 21.41c.39.39.9.59 1.41.59.51 0 1.02-.2 1.41-.59l7.78-7.78 2.81-2.81c.8-.78.8-2.07 0-2.86zM5.41 20L4 18.59l7.72-7.72 1.47 1.35L5.41 20z\"/>\n",
              "  </svg>\n",
              "      </button>\n",
              "      \n",
              "  <style>\n",
              "    .colab-df-container {\n",
              "      display:flex;\n",
              "      flex-wrap:wrap;\n",
              "      gap: 12px;\n",
              "    }\n",
              "\n",
              "    .colab-df-convert {\n",
              "      background-color: #E8F0FE;\n",
              "      border: none;\n",
              "      border-radius: 50%;\n",
              "      cursor: pointer;\n",
              "      display: none;\n",
              "      fill: #1967D2;\n",
              "      height: 32px;\n",
              "      padding: 0 0 0 0;\n",
              "      width: 32px;\n",
              "    }\n",
              "\n",
              "    .colab-df-convert:hover {\n",
              "      background-color: #E2EBFA;\n",
              "      box-shadow: 0px 1px 2px rgba(60, 64, 67, 0.3), 0px 1px 3px 1px rgba(60, 64, 67, 0.15);\n",
              "      fill: #174EA6;\n",
              "    }\n",
              "\n",
              "    [theme=dark] .colab-df-convert {\n",
              "      background-color: #3B4455;\n",
              "      fill: #D2E3FC;\n",
              "    }\n",
              "\n",
              "    [theme=dark] .colab-df-convert:hover {\n",
              "      background-color: #434B5C;\n",
              "      box-shadow: 0px 1px 3px 1px rgba(0, 0, 0, 0.15);\n",
              "      filter: drop-shadow(0px 1px 2px rgba(0, 0, 0, 0.3));\n",
              "      fill: #FFFFFF;\n",
              "    }\n",
              "  </style>\n",
              "\n",
              "      <script>\n",
              "        const buttonEl =\n",
              "          document.querySelector('#df-59d9aef8-613f-495a-9a14-5ded38c2182c button.colab-df-convert');\n",
              "        buttonEl.style.display =\n",
              "          google.colab.kernel.accessAllowed ? 'block' : 'none';\n",
              "\n",
              "        async function convertToInteractive(key) {\n",
              "          const element = document.querySelector('#df-59d9aef8-613f-495a-9a14-5ded38c2182c');\n",
              "          const dataTable =\n",
              "            await google.colab.kernel.invokeFunction('convertToInteractive',\n",
              "                                                     [key], {});\n",
              "          if (!dataTable) return;\n",
              "\n",
              "          const docLinkHtml = 'Like what you see? Visit the ' +\n",
              "            '<a target=\"_blank\" href=https://colab.research.google.com/notebooks/data_table.ipynb>data table notebook</a>'\n",
              "            + ' to learn more about interactive tables.';\n",
              "          element.innerHTML = '';\n",
              "          dataTable['output_type'] = 'display_data';\n",
              "          await google.colab.output.renderOutput(dataTable, element);\n",
              "          const docLink = document.createElement('div');\n",
              "          docLink.innerHTML = docLinkHtml;\n",
              "          element.appendChild(docLink);\n",
              "        }\n",
              "      </script>\n",
              "    </div>\n",
              "  </div>\n",
              "  "
            ]
          },
          "metadata": {},
          "execution_count": 49
        }
      ]
    },
    {
      "cell_type": "code",
      "source": [
        "data_gender_female = gender_dataset_Female[:].values"
      ],
      "metadata": {
        "id": "j_Nf1_W_SDl9"
      },
      "execution_count": null,
      "outputs": []
    },
    {
      "cell_type": "code",
      "source": [
        "x_female = data_gender_female[:,0:7]"
      ],
      "metadata": {
        "id": "mAOl4pBdSKj_"
      },
      "execution_count": null,
      "outputs": []
    },
    {
      "cell_type": "code",
      "source": [
        "y_female= data_gender_female[:,7]"
      ],
      "metadata": {
        "id": "3CNOoQ1eSYmL"
      },
      "execution_count": null,
      "outputs": []
    },
    {
      "cell_type": "code",
      "source": [
        "network.evaluate(x_female, y_female)"
      ],
      "metadata": {
        "colab": {
          "base_uri": "https://localhost:8080/"
        },
        "id": "dzxi5SkNzYxy",
        "outputId": "393b0c4a-e703-4574-a83e-309af94b0e67"
      },
      "execution_count": null,
      "outputs": [
        {
          "output_type": "stream",
          "name": "stdout",
          "text": [
            "2/2 [==============================] - 0s 8ms/step - loss: 0.4146 - accuracy: 0.8302\n"
          ]
        },
        {
          "output_type": "execute_result",
          "data": {
            "text/plain": [
              "[0.4146401286125183, 0.8301886916160583]"
            ]
          },
          "metadata": {},
          "execution_count": 53
        }
      ]
    },
    {
      "cell_type": "code",
      "source": [
        "predictions_female = network.predict(x_female)"
      ],
      "metadata": {
        "colab": {
          "base_uri": "https://localhost:8080/"
        },
        "id": "fHLaj4qE0Otp",
        "outputId": "910d2c32-12df-4b46-d52f-3232b06ebbd6"
      },
      "execution_count": null,
      "outputs": [
        {
          "output_type": "stream",
          "name": "stdout",
          "text": [
            "2/2 [==============================] - 0s 5ms/step\n"
          ]
        }
      ]
    },
    {
      "cell_type": "code",
      "source": [
        "binary_predictions_female = np.where(predictions_female >= threshold, 1, 0)"
      ],
      "metadata": {
        "id": "hG1eXLcX0e11"
      },
      "execution_count": null,
      "outputs": []
    },
    {
      "cell_type": "code",
      "source": [
        "# Calculate accuracy\n",
        "accuracy_female = accuracy_score(y_female, binary_predictions_female)"
      ],
      "metadata": {
        "id": "W0wh8aFI0m_u"
      },
      "execution_count": null,
      "outputs": []
    },
    {
      "cell_type": "code",
      "source": [
        "accuracy_female"
      ],
      "metadata": {
        "colab": {
          "base_uri": "https://localhost:8080/"
        },
        "id": "a_4edOJG1cE-",
        "outputId": "c22cae0c-71e9-4e87-a09d-f4c4db0e1ae8"
      },
      "execution_count": null,
      "outputs": [
        {
          "output_type": "execute_result",
          "data": {
            "text/plain": [
              "0.8301886792452831"
            ]
          },
          "metadata": {},
          "execution_count": 62
        }
      ]
    },
    {
      "cell_type": "markdown",
      "source": [
        "### **Male**"
      ],
      "metadata": {
        "id": "MbGgyLzJA0Df"
      }
    },
    {
      "cell_type": "code",
      "source": [
        "IT_gender_Male = IT_job_satisfaction_data[(IT_job_satisfaction_data.gender == 0)]\n",
        "IT_gender_Male.shape"
      ],
      "metadata": {
        "colab": {
          "base_uri": "https://localhost:8080/"
        },
        "id": "uho6Rvis2Cw9",
        "outputId": "9ffe9be8-ba22-478c-affd-7b4e375087fc"
      },
      "execution_count": null,
      "outputs": [
        {
          "output_type": "execute_result",
          "data": {
            "text/plain": [
              "(102, 18)"
            ]
          },
          "metadata": {},
          "execution_count": 63
        }
      ]
    },
    {
      "cell_type": "code",
      "source": [
        "IT_gender_Male.head()"
      ],
      "metadata": {
        "colab": {
          "base_uri": "https://localhost:8080/"
        },
        "id": "yvRV9NeL28FY",
        "outputId": "510f9d66-e452-46f8-9327-060a19cddf10"
      },
      "execution_count": null,
      "outputs": [
        {
          "output_type": "execute_result",
          "data": {
            "text/plain": [
              "    gender  age  country  education  experience  Job_role  working_culture  \\\n",
              "0        0    1        0          4           4         5                0   \n",
              "5        0    3        0          2           4         6                0   \n",
              "7        0    1        0          2           0         2                2   \n",
              "9        0    0        0          2           0         2                2   \n",
              "12       0    3        0          3           4         1                0   \n",
              "\n",
              "    annual_salary  is_thisFavourite_job  switch_the_job_field  \\\n",
              "0               6                     0                     1   \n",
              "5               3                     1                     2   \n",
              "7               0                     0                     1   \n",
              "9               1                     2                     1   \n",
              "12              4                     2                     0   \n",
              "\n",
              "    STRESS_LEVEL_IN_A_PROJECT  ENGAGEMENT_WITH_FAMILY  \\\n",
              "0                    1.245171                2.392829   \n",
              "5                   -1.733373               -1.261577   \n",
              "7                    0.691427                0.565626   \n",
              "9                    0.586515                1.300183   \n",
              "12                  -0.520973                0.565626   \n",
              "\n",
              "    ENGAGEMENT_WITH_SOCIETY  SATISFACTION_ABOUT_COUNTRY  \\\n",
              "0                  2.419291                   -0.286974   \n",
              "5                 -0.857222                   -0.633938   \n",
              "7                  0.082087                   -1.262893   \n",
              "9                  0.540673                   -0.730473   \n",
              "12                 1.479982                    0.258343   \n",
              "\n",
              "    SATISFACTION_ABOUT_COMPANY  SATISFACTION_ABOUT_SALARY  \\\n",
              "0                     0.683161                   0.713838   \n",
              "5                     0.191437                   0.372056   \n",
              "7                    -1.727944                  -0.988981   \n",
              "9                     0.683161                   0.970158   \n",
              "12                   -0.768253                  -0.707536   \n",
              "\n",
              "    SATISFACTION_ABOUT_JOB_POSITION  SATISFACTION_ABOUT_IT_FIELD  \n",
              "0                          0.126900                            1  \n",
              "5                          0.690355                            1  \n",
              "7                         -0.910113                            1  \n",
              "9                         -0.955062                            1  \n",
              "12                        -2.037024                            1  "
            ],
            "text/html": [
              "\n",
              "  <div id=\"df-d87a31bb-0450-49b1-add1-ce9066759cf8\">\n",
              "    <div class=\"colab-df-container\">\n",
              "      <div>\n",
              "<style scoped>\n",
              "    .dataframe tbody tr th:only-of-type {\n",
              "        vertical-align: middle;\n",
              "    }\n",
              "\n",
              "    .dataframe tbody tr th {\n",
              "        vertical-align: top;\n",
              "    }\n",
              "\n",
              "    .dataframe thead th {\n",
              "        text-align: right;\n",
              "    }\n",
              "</style>\n",
              "<table border=\"1\" class=\"dataframe\">\n",
              "  <thead>\n",
              "    <tr style=\"text-align: right;\">\n",
              "      <th></th>\n",
              "      <th>gender</th>\n",
              "      <th>age</th>\n",
              "      <th>country</th>\n",
              "      <th>education</th>\n",
              "      <th>experience</th>\n",
              "      <th>Job_role</th>\n",
              "      <th>working_culture</th>\n",
              "      <th>annual_salary</th>\n",
              "      <th>is_thisFavourite_job</th>\n",
              "      <th>switch_the_job_field</th>\n",
              "      <th>STRESS_LEVEL_IN_A_PROJECT</th>\n",
              "      <th>ENGAGEMENT_WITH_FAMILY</th>\n",
              "      <th>ENGAGEMENT_WITH_SOCIETY</th>\n",
              "      <th>SATISFACTION_ABOUT_COUNTRY</th>\n",
              "      <th>SATISFACTION_ABOUT_COMPANY</th>\n",
              "      <th>SATISFACTION_ABOUT_SALARY</th>\n",
              "      <th>SATISFACTION_ABOUT_JOB_POSITION</th>\n",
              "      <th>SATISFACTION_ABOUT_IT_FIELD</th>\n",
              "    </tr>\n",
              "  </thead>\n",
              "  <tbody>\n",
              "    <tr>\n",
              "      <th>0</th>\n",
              "      <td>0</td>\n",
              "      <td>1</td>\n",
              "      <td>0</td>\n",
              "      <td>4</td>\n",
              "      <td>4</td>\n",
              "      <td>5</td>\n",
              "      <td>0</td>\n",
              "      <td>6</td>\n",
              "      <td>0</td>\n",
              "      <td>1</td>\n",
              "      <td>1.245171</td>\n",
              "      <td>2.392829</td>\n",
              "      <td>2.419291</td>\n",
              "      <td>-0.286974</td>\n",
              "      <td>0.683161</td>\n",
              "      <td>0.713838</td>\n",
              "      <td>0.126900</td>\n",
              "      <td>1</td>\n",
              "    </tr>\n",
              "    <tr>\n",
              "      <th>5</th>\n",
              "      <td>0</td>\n",
              "      <td>3</td>\n",
              "      <td>0</td>\n",
              "      <td>2</td>\n",
              "      <td>4</td>\n",
              "      <td>6</td>\n",
              "      <td>0</td>\n",
              "      <td>3</td>\n",
              "      <td>1</td>\n",
              "      <td>2</td>\n",
              "      <td>-1.733373</td>\n",
              "      <td>-1.261577</td>\n",
              "      <td>-0.857222</td>\n",
              "      <td>-0.633938</td>\n",
              "      <td>0.191437</td>\n",
              "      <td>0.372056</td>\n",
              "      <td>0.690355</td>\n",
              "      <td>1</td>\n",
              "    </tr>\n",
              "    <tr>\n",
              "      <th>7</th>\n",
              "      <td>0</td>\n",
              "      <td>1</td>\n",
              "      <td>0</td>\n",
              "      <td>2</td>\n",
              "      <td>0</td>\n",
              "      <td>2</td>\n",
              "      <td>2</td>\n",
              "      <td>0</td>\n",
              "      <td>0</td>\n",
              "      <td>1</td>\n",
              "      <td>0.691427</td>\n",
              "      <td>0.565626</td>\n",
              "      <td>0.082087</td>\n",
              "      <td>-1.262893</td>\n",
              "      <td>-1.727944</td>\n",
              "      <td>-0.988981</td>\n",
              "      <td>-0.910113</td>\n",
              "      <td>1</td>\n",
              "    </tr>\n",
              "    <tr>\n",
              "      <th>9</th>\n",
              "      <td>0</td>\n",
              "      <td>0</td>\n",
              "      <td>0</td>\n",
              "      <td>2</td>\n",
              "      <td>0</td>\n",
              "      <td>2</td>\n",
              "      <td>2</td>\n",
              "      <td>1</td>\n",
              "      <td>2</td>\n",
              "      <td>1</td>\n",
              "      <td>0.586515</td>\n",
              "      <td>1.300183</td>\n",
              "      <td>0.540673</td>\n",
              "      <td>-0.730473</td>\n",
              "      <td>0.683161</td>\n",
              "      <td>0.970158</td>\n",
              "      <td>-0.955062</td>\n",
              "      <td>1</td>\n",
              "    </tr>\n",
              "    <tr>\n",
              "      <th>12</th>\n",
              "      <td>0</td>\n",
              "      <td>3</td>\n",
              "      <td>0</td>\n",
              "      <td>3</td>\n",
              "      <td>4</td>\n",
              "      <td>1</td>\n",
              "      <td>0</td>\n",
              "      <td>4</td>\n",
              "      <td>2</td>\n",
              "      <td>0</td>\n",
              "      <td>-0.520973</td>\n",
              "      <td>0.565626</td>\n",
              "      <td>1.479982</td>\n",
              "      <td>0.258343</td>\n",
              "      <td>-0.768253</td>\n",
              "      <td>-0.707536</td>\n",
              "      <td>-2.037024</td>\n",
              "      <td>1</td>\n",
              "    </tr>\n",
              "  </tbody>\n",
              "</table>\n",
              "</div>\n",
              "      <button class=\"colab-df-convert\" onclick=\"convertToInteractive('df-d87a31bb-0450-49b1-add1-ce9066759cf8')\"\n",
              "              title=\"Convert this dataframe to an interactive table.\"\n",
              "              style=\"display:none;\">\n",
              "        \n",
              "  <svg xmlns=\"http://www.w3.org/2000/svg\" height=\"24px\"viewBox=\"0 0 24 24\"\n",
              "       width=\"24px\">\n",
              "    <path d=\"M0 0h24v24H0V0z\" fill=\"none\"/>\n",
              "    <path d=\"M18.56 5.44l.94 2.06.94-2.06 2.06-.94-2.06-.94-.94-2.06-.94 2.06-2.06.94zm-11 1L8.5 8.5l.94-2.06 2.06-.94-2.06-.94L8.5 2.5l-.94 2.06-2.06.94zm10 10l.94 2.06.94-2.06 2.06-.94-2.06-.94-.94-2.06-.94 2.06-2.06.94z\"/><path d=\"M17.41 7.96l-1.37-1.37c-.4-.4-.92-.59-1.43-.59-.52 0-1.04.2-1.43.59L10.3 9.45l-7.72 7.72c-.78.78-.78 2.05 0 2.83L4 21.41c.39.39.9.59 1.41.59.51 0 1.02-.2 1.41-.59l7.78-7.78 2.81-2.81c.8-.78.8-2.07 0-2.86zM5.41 20L4 18.59l7.72-7.72 1.47 1.35L5.41 20z\"/>\n",
              "  </svg>\n",
              "      </button>\n",
              "      \n",
              "  <style>\n",
              "    .colab-df-container {\n",
              "      display:flex;\n",
              "      flex-wrap:wrap;\n",
              "      gap: 12px;\n",
              "    }\n",
              "\n",
              "    .colab-df-convert {\n",
              "      background-color: #E8F0FE;\n",
              "      border: none;\n",
              "      border-radius: 50%;\n",
              "      cursor: pointer;\n",
              "      display: none;\n",
              "      fill: #1967D2;\n",
              "      height: 32px;\n",
              "      padding: 0 0 0 0;\n",
              "      width: 32px;\n",
              "    }\n",
              "\n",
              "    .colab-df-convert:hover {\n",
              "      background-color: #E2EBFA;\n",
              "      box-shadow: 0px 1px 2px rgba(60, 64, 67, 0.3), 0px 1px 3px 1px rgba(60, 64, 67, 0.15);\n",
              "      fill: #174EA6;\n",
              "    }\n",
              "\n",
              "    [theme=dark] .colab-df-convert {\n",
              "      background-color: #3B4455;\n",
              "      fill: #D2E3FC;\n",
              "    }\n",
              "\n",
              "    [theme=dark] .colab-df-convert:hover {\n",
              "      background-color: #434B5C;\n",
              "      box-shadow: 0px 1px 3px 1px rgba(0, 0, 0, 0.15);\n",
              "      filter: drop-shadow(0px 1px 2px rgba(0, 0, 0, 0.3));\n",
              "      fill: #FFFFFF;\n",
              "    }\n",
              "  </style>\n",
              "\n",
              "      <script>\n",
              "        const buttonEl =\n",
              "          document.querySelector('#df-d87a31bb-0450-49b1-add1-ce9066759cf8 button.colab-df-convert');\n",
              "        buttonEl.style.display =\n",
              "          google.colab.kernel.accessAllowed ? 'block' : 'none';\n",
              "\n",
              "        async function convertToInteractive(key) {\n",
              "          const element = document.querySelector('#df-d87a31bb-0450-49b1-add1-ce9066759cf8');\n",
              "          const dataTable =\n",
              "            await google.colab.kernel.invokeFunction('convertToInteractive',\n",
              "                                                     [key], {});\n",
              "          if (!dataTable) return;\n",
              "\n",
              "          const docLinkHtml = 'Like what you see? Visit the ' +\n",
              "            '<a target=\"_blank\" href=https://colab.research.google.com/notebooks/data_table.ipynb>data table notebook</a>'\n",
              "            + ' to learn more about interactive tables.';\n",
              "          element.innerHTML = '';\n",
              "          dataTable['output_type'] = 'display_data';\n",
              "          await google.colab.output.renderOutput(dataTable, element);\n",
              "          const docLink = document.createElement('div');\n",
              "          docLink.innerHTML = docLinkHtml;\n",
              "          element.appendChild(docLink);\n",
              "        }\n",
              "      </script>\n",
              "    </div>\n",
              "  </div>\n",
              "  "
            ]
          },
          "metadata": {},
          "execution_count": 64
        }
      ]
    },
    {
      "cell_type": "code",
      "source": [
        "gender_dataset_Male = IT_gender_Male.iloc[0:101,10:18]\n",
        "gender_dataset_Male.head()"
      ],
      "metadata": {
        "colab": {
          "base_uri": "https://localhost:8080/"
        },
        "id": "VgX_9lNU3Azj",
        "outputId": "a76db792-9b1a-4002-fa8d-42e1f5abd9e0"
      },
      "execution_count": null,
      "outputs": [
        {
          "output_type": "execute_result",
          "data": {
            "text/plain": [
              "    STRESS_LEVEL_IN_A_PROJECT  ENGAGEMENT_WITH_FAMILY  \\\n",
              "0                    1.245171                2.392829   \n",
              "5                   -1.733373               -1.261577   \n",
              "7                    0.691427                0.565626   \n",
              "9                    0.586515                1.300183   \n",
              "12                  -0.520973                0.565626   \n",
              "\n",
              "    ENGAGEMENT_WITH_SOCIETY  SATISFACTION_ABOUT_COUNTRY  \\\n",
              "0                  2.419291                   -0.286974   \n",
              "5                 -0.857222                   -0.633938   \n",
              "7                  0.082087                   -1.262893   \n",
              "9                  0.540673                   -0.730473   \n",
              "12                 1.479982                    0.258343   \n",
              "\n",
              "    SATISFACTION_ABOUT_COMPANY  SATISFACTION_ABOUT_SALARY  \\\n",
              "0                     0.683161                   0.713838   \n",
              "5                     0.191437                   0.372056   \n",
              "7                    -1.727944                  -0.988981   \n",
              "9                     0.683161                   0.970158   \n",
              "12                   -0.768253                  -0.707536   \n",
              "\n",
              "    SATISFACTION_ABOUT_JOB_POSITION  SATISFACTION_ABOUT_IT_FIELD  \n",
              "0                          0.126900                            1  \n",
              "5                          0.690355                            1  \n",
              "7                         -0.910113                            1  \n",
              "9                         -0.955062                            1  \n",
              "12                        -2.037024                            1  "
            ],
            "text/html": [
              "\n",
              "  <div id=\"df-37a64d71-7657-4121-967e-d351222b6a8b\">\n",
              "    <div class=\"colab-df-container\">\n",
              "      <div>\n",
              "<style scoped>\n",
              "    .dataframe tbody tr th:only-of-type {\n",
              "        vertical-align: middle;\n",
              "    }\n",
              "\n",
              "    .dataframe tbody tr th {\n",
              "        vertical-align: top;\n",
              "    }\n",
              "\n",
              "    .dataframe thead th {\n",
              "        text-align: right;\n",
              "    }\n",
              "</style>\n",
              "<table border=\"1\" class=\"dataframe\">\n",
              "  <thead>\n",
              "    <tr style=\"text-align: right;\">\n",
              "      <th></th>\n",
              "      <th>STRESS_LEVEL_IN_A_PROJECT</th>\n",
              "      <th>ENGAGEMENT_WITH_FAMILY</th>\n",
              "      <th>ENGAGEMENT_WITH_SOCIETY</th>\n",
              "      <th>SATISFACTION_ABOUT_COUNTRY</th>\n",
              "      <th>SATISFACTION_ABOUT_COMPANY</th>\n",
              "      <th>SATISFACTION_ABOUT_SALARY</th>\n",
              "      <th>SATISFACTION_ABOUT_JOB_POSITION</th>\n",
              "      <th>SATISFACTION_ABOUT_IT_FIELD</th>\n",
              "    </tr>\n",
              "  </thead>\n",
              "  <tbody>\n",
              "    <tr>\n",
              "      <th>0</th>\n",
              "      <td>1.245171</td>\n",
              "      <td>2.392829</td>\n",
              "      <td>2.419291</td>\n",
              "      <td>-0.286974</td>\n",
              "      <td>0.683161</td>\n",
              "      <td>0.713838</td>\n",
              "      <td>0.126900</td>\n",
              "      <td>1</td>\n",
              "    </tr>\n",
              "    <tr>\n",
              "      <th>5</th>\n",
              "      <td>-1.733373</td>\n",
              "      <td>-1.261577</td>\n",
              "      <td>-0.857222</td>\n",
              "      <td>-0.633938</td>\n",
              "      <td>0.191437</td>\n",
              "      <td>0.372056</td>\n",
              "      <td>0.690355</td>\n",
              "      <td>1</td>\n",
              "    </tr>\n",
              "    <tr>\n",
              "      <th>7</th>\n",
              "      <td>0.691427</td>\n",
              "      <td>0.565626</td>\n",
              "      <td>0.082087</td>\n",
              "      <td>-1.262893</td>\n",
              "      <td>-1.727944</td>\n",
              "      <td>-0.988981</td>\n",
              "      <td>-0.910113</td>\n",
              "      <td>1</td>\n",
              "    </tr>\n",
              "    <tr>\n",
              "      <th>9</th>\n",
              "      <td>0.586515</td>\n",
              "      <td>1.300183</td>\n",
              "      <td>0.540673</td>\n",
              "      <td>-0.730473</td>\n",
              "      <td>0.683161</td>\n",
              "      <td>0.970158</td>\n",
              "      <td>-0.955062</td>\n",
              "      <td>1</td>\n",
              "    </tr>\n",
              "    <tr>\n",
              "      <th>12</th>\n",
              "      <td>-0.520973</td>\n",
              "      <td>0.565626</td>\n",
              "      <td>1.479982</td>\n",
              "      <td>0.258343</td>\n",
              "      <td>-0.768253</td>\n",
              "      <td>-0.707536</td>\n",
              "      <td>-2.037024</td>\n",
              "      <td>1</td>\n",
              "    </tr>\n",
              "  </tbody>\n",
              "</table>\n",
              "</div>\n",
              "      <button class=\"colab-df-convert\" onclick=\"convertToInteractive('df-37a64d71-7657-4121-967e-d351222b6a8b')\"\n",
              "              title=\"Convert this dataframe to an interactive table.\"\n",
              "              style=\"display:none;\">\n",
              "        \n",
              "  <svg xmlns=\"http://www.w3.org/2000/svg\" height=\"24px\"viewBox=\"0 0 24 24\"\n",
              "       width=\"24px\">\n",
              "    <path d=\"M0 0h24v24H0V0z\" fill=\"none\"/>\n",
              "    <path d=\"M18.56 5.44l.94 2.06.94-2.06 2.06-.94-2.06-.94-.94-2.06-.94 2.06-2.06.94zm-11 1L8.5 8.5l.94-2.06 2.06-.94-2.06-.94L8.5 2.5l-.94 2.06-2.06.94zm10 10l.94 2.06.94-2.06 2.06-.94-2.06-.94-.94-2.06-.94 2.06-2.06.94z\"/><path d=\"M17.41 7.96l-1.37-1.37c-.4-.4-.92-.59-1.43-.59-.52 0-1.04.2-1.43.59L10.3 9.45l-7.72 7.72c-.78.78-.78 2.05 0 2.83L4 21.41c.39.39.9.59 1.41.59.51 0 1.02-.2 1.41-.59l7.78-7.78 2.81-2.81c.8-.78.8-2.07 0-2.86zM5.41 20L4 18.59l7.72-7.72 1.47 1.35L5.41 20z\"/>\n",
              "  </svg>\n",
              "      </button>\n",
              "      \n",
              "  <style>\n",
              "    .colab-df-container {\n",
              "      display:flex;\n",
              "      flex-wrap:wrap;\n",
              "      gap: 12px;\n",
              "    }\n",
              "\n",
              "    .colab-df-convert {\n",
              "      background-color: #E8F0FE;\n",
              "      border: none;\n",
              "      border-radius: 50%;\n",
              "      cursor: pointer;\n",
              "      display: none;\n",
              "      fill: #1967D2;\n",
              "      height: 32px;\n",
              "      padding: 0 0 0 0;\n",
              "      width: 32px;\n",
              "    }\n",
              "\n",
              "    .colab-df-convert:hover {\n",
              "      background-color: #E2EBFA;\n",
              "      box-shadow: 0px 1px 2px rgba(60, 64, 67, 0.3), 0px 1px 3px 1px rgba(60, 64, 67, 0.15);\n",
              "      fill: #174EA6;\n",
              "    }\n",
              "\n",
              "    [theme=dark] .colab-df-convert {\n",
              "      background-color: #3B4455;\n",
              "      fill: #D2E3FC;\n",
              "    }\n",
              "\n",
              "    [theme=dark] .colab-df-convert:hover {\n",
              "      background-color: #434B5C;\n",
              "      box-shadow: 0px 1px 3px 1px rgba(0, 0, 0, 0.15);\n",
              "      filter: drop-shadow(0px 1px 2px rgba(0, 0, 0, 0.3));\n",
              "      fill: #FFFFFF;\n",
              "    }\n",
              "  </style>\n",
              "\n",
              "      <script>\n",
              "        const buttonEl =\n",
              "          document.querySelector('#df-37a64d71-7657-4121-967e-d351222b6a8b button.colab-df-convert');\n",
              "        buttonEl.style.display =\n",
              "          google.colab.kernel.accessAllowed ? 'block' : 'none';\n",
              "\n",
              "        async function convertToInteractive(key) {\n",
              "          const element = document.querySelector('#df-37a64d71-7657-4121-967e-d351222b6a8b');\n",
              "          const dataTable =\n",
              "            await google.colab.kernel.invokeFunction('convertToInteractive',\n",
              "                                                     [key], {});\n",
              "          if (!dataTable) return;\n",
              "\n",
              "          const docLinkHtml = 'Like what you see? Visit the ' +\n",
              "            '<a target=\"_blank\" href=https://colab.research.google.com/notebooks/data_table.ipynb>data table notebook</a>'\n",
              "            + ' to learn more about interactive tables.';\n",
              "          element.innerHTML = '';\n",
              "          dataTable['output_type'] = 'display_data';\n",
              "          await google.colab.output.renderOutput(dataTable, element);\n",
              "          const docLink = document.createElement('div');\n",
              "          docLink.innerHTML = docLinkHtml;\n",
              "          element.appendChild(docLink);\n",
              "        }\n",
              "      </script>\n",
              "    </div>\n",
              "  </div>\n",
              "  "
            ]
          },
          "metadata": {},
          "execution_count": 65
        }
      ]
    },
    {
      "cell_type": "code",
      "source": [
        "data_gender_male = gender_dataset_Male[:].values\n",
        "x_male = data_gender_male[:,0:7]\n",
        "y_male= data_gender_male[:,7]"
      ],
      "metadata": {
        "id": "j5XosZSU3JMK"
      },
      "execution_count": null,
      "outputs": []
    },
    {
      "cell_type": "code",
      "source": [
        "network.evaluate(x_male, y_male)"
      ],
      "metadata": {
        "colab": {
          "base_uri": "https://localhost:8080/"
        },
        "id": "cXSeqC2R3NPB",
        "outputId": "cf593dbf-4840-45e7-943a-2755449d4771"
      },
      "execution_count": null,
      "outputs": [
        {
          "output_type": "stream",
          "name": "stdout",
          "text": [
            "4/4 [==============================] - 0s 5ms/step - loss: 0.2504 - accuracy: 0.9406\n"
          ]
        },
        {
          "output_type": "execute_result",
          "data": {
            "text/plain": [
              "[0.25042667984962463, 0.9405940771102905]"
            ]
          },
          "metadata": {},
          "execution_count": 67
        }
      ]
    },
    {
      "cell_type": "code",
      "source": [
        "predictions_male = network.predict(x_male)\n",
        "binary_predictions_male = np.where(predictions_male >= threshold, 1, 0)"
      ],
      "metadata": {
        "colab": {
          "base_uri": "https://localhost:8080/"
        },
        "id": "pWEDml3g3QxE",
        "outputId": "a0986726-15e4-427f-e07b-091bcce6b14a"
      },
      "execution_count": null,
      "outputs": [
        {
          "output_type": "stream",
          "name": "stdout",
          "text": [
            "4/4 [==============================] - 0s 3ms/step\n"
          ]
        }
      ]
    },
    {
      "cell_type": "code",
      "source": [
        "# Calculate accuracy\n",
        "accuracy_male = accuracy_score(y_male, binary_predictions_male)\n",
        "accuracy_male"
      ],
      "metadata": {
        "colab": {
          "base_uri": "https://localhost:8080/"
        },
        "id": "sxfF1FkC3WLl",
        "outputId": "d9d265fc-c54e-4c82-8368-58fc4c3c7086"
      },
      "execution_count": null,
      "outputs": [
        {
          "output_type": "execute_result",
          "data": {
            "text/plain": [
              "0.9405940594059405"
            ]
          },
          "metadata": {},
          "execution_count": 69
        }
      ]
    },
    {
      "cell_type": "markdown",
      "source": [
        "## **Analyse with age**"
      ],
      "metadata": {
        "id": "rWj4UxDV_-Hz"
      }
    },
    {
      "cell_type": "markdown",
      "source": [
        "### **Under 28**"
      ],
      "metadata": {
        "id": "ss3x9ERkAFGf"
      }
    },
    {
      "cell_type": "code",
      "source": [
        "IT_gender_under_28 = IT_job_satisfaction_data[(IT_job_satisfaction_data.age == 0) | (IT_job_satisfaction_data.age == 1)]\n",
        "IT_gender_under_28.shape"
      ],
      "metadata": {
        "colab": {
          "base_uri": "https://localhost:8080/"
        },
        "id": "kmwRVAkU4F-c",
        "outputId": "c35a559f-7584-4301-89c2-f02d14e922e8"
      },
      "execution_count": null,
      "outputs": [
        {
          "output_type": "execute_result",
          "data": {
            "text/plain": [
              "(135, 18)"
            ]
          },
          "metadata": {},
          "execution_count": 131
        }
      ]
    },
    {
      "cell_type": "code",
      "source": [
        "age_dataset_under_28 = IT_gender_under_28.iloc[0:134,10:18]"
      ],
      "metadata": {
        "id": "iUkTAgBP5opM"
      },
      "execution_count": null,
      "outputs": []
    },
    {
      "cell_type": "code",
      "source": [
        "data_age_under_28 = age_dataset_under_28[:].values\n",
        "x_under_28 = data_age_under_28[:,0:7]\n",
        "y_under_28= data_age_under_28[:,7]"
      ],
      "metadata": {
        "id": "jMLQp9hP5zeW"
      },
      "execution_count": null,
      "outputs": []
    },
    {
      "cell_type": "code",
      "source": [
        "network.evaluate(x_under_28, y_under_28)"
      ],
      "metadata": {
        "colab": {
          "base_uri": "https://localhost:8080/"
        },
        "id": "unfxwqxf6Xdj",
        "outputId": "c5c552b0-2eec-4daf-c592-594cb876b4f2"
      },
      "execution_count": null,
      "outputs": [
        {
          "output_type": "stream",
          "name": "stdout",
          "text": [
            "5/5 [==============================] - 0s 3ms/step - loss: 0.3045 - accuracy: 0.8955\n"
          ]
        },
        {
          "output_type": "execute_result",
          "data": {
            "text/plain": [
              "[0.30448660254478455, 0.89552241563797]"
            ]
          },
          "metadata": {},
          "execution_count": 83
        }
      ]
    },
    {
      "cell_type": "code",
      "source": [
        "predictions_under_28 = network.predict(x_under_28)\n",
        "binary_predictions_under_28 = np.where(predictions_under_28 >= threshold, 1, 0)"
      ],
      "metadata": {
        "colab": {
          "base_uri": "https://localhost:8080/"
        },
        "id": "Xe3UVcYJ6jla",
        "outputId": "12b62073-ec8a-4e32-c65b-b64d8683add5"
      },
      "execution_count": null,
      "outputs": [
        {
          "output_type": "stream",
          "name": "stdout",
          "text": [
            "5/5 [==============================] - 0s 4ms/step\n"
          ]
        }
      ]
    },
    {
      "cell_type": "code",
      "source": [
        "# Calculate accuracy\n",
        "accuracy_under_28 = accuracy_score(y_under_28, binary_predictions_under_28)\n",
        "accuracy_under_28"
      ],
      "metadata": {
        "colab": {
          "base_uri": "https://localhost:8080/"
        },
        "id": "QdHIkBtc6vav",
        "outputId": "4d95df76-c7ea-41db-a807-0c6141681534"
      },
      "execution_count": null,
      "outputs": [
        {
          "output_type": "execute_result",
          "data": {
            "text/plain": [
              "0.8955223880597015"
            ]
          },
          "metadata": {},
          "execution_count": 85
        }
      ]
    },
    {
      "cell_type": "markdown",
      "source": [
        "### **Upper 28**"
      ],
      "metadata": {
        "id": "t5djaPs8AMwB"
      }
    },
    {
      "cell_type": "code",
      "source": [
        "IT_gender_upper_28 = IT_job_satisfaction_data[(IT_job_satisfaction_data.age == 2) | (IT_job_satisfaction_data.age == 3) | (IT_job_satisfaction_data.age == 4)]\n",
        "IT_gender_upper_28.shape"
      ],
      "metadata": {
        "colab": {
          "base_uri": "https://localhost:8080/"
        },
        "id": "JsMDk4bL7DCI",
        "outputId": "7da21b53-b6ad-4c2d-f619-a3d030c82d2a"
      },
      "execution_count": null,
      "outputs": [
        {
          "output_type": "execute_result",
          "data": {
            "text/plain": [
              "(21, 18)"
            ]
          },
          "metadata": {},
          "execution_count": 86
        }
      ]
    },
    {
      "cell_type": "code",
      "source": [
        "IT_gender_upper_28.head()"
      ],
      "metadata": {
        "colab": {
          "base_uri": "https://localhost:8080/"
        },
        "id": "aofVVFnj7S7b",
        "outputId": "e7fccb11-f005-4c84-d693-645cff03ec6a"
      },
      "execution_count": null,
      "outputs": [
        {
          "output_type": "execute_result",
          "data": {
            "text/plain": [
              "    gender  age  country  education  experience  Job_role  working_culture  \\\n",
              "5        0    3        0          2           4         6                0   \n",
              "10       1    3        0          2           3         2                0   \n",
              "11       1    2        1          3           3         1                2   \n",
              "12       0    3        0          3           4         1                0   \n",
              "18       0    2        0          0           4         5                2   \n",
              "\n",
              "    annual_salary  is_thisFavourite_job  switch_the_job_field  \\\n",
              "5               3                     1                     2   \n",
              "10              1                     1                     0   \n",
              "11              3                     1                     0   \n",
              "12              4                     2                     0   \n",
              "18              1                     1                     2   \n",
              "\n",
              "    STRESS_LEVEL_IN_A_PROJECT  ENGAGEMENT_WITH_FAMILY  \\\n",
              "5                   -1.733373               -1.261577   \n",
              "10                   0.691427               -0.161396   \n",
              "11                   0.032771               -0.523100   \n",
              "12                  -0.520973                0.565626   \n",
              "18                  -0.625885               -0.161396   \n",
              "\n",
              "    ENGAGEMENT_WITH_SOCIETY  SATISFACTION_ABOUT_COUNTRY  \\\n",
              "5                 -0.857222                   -0.633938   \n",
              "10                -0.420776                    0.258343   \n",
              "11                 0.059948                   -2.058638   \n",
              "12                 1.479982                    0.258343   \n",
              "18                 0.540673                   -0.229616   \n",
              "\n",
              "    SATISFACTION_ABOUT_COMPANY  SATISFACTION_ABOUT_SALARY  \\\n",
              "5                     0.191437                   0.372056   \n",
              "10                    0.659404                   0.412756   \n",
              "11                   -0.276529                  -1.427740   \n",
              "12                   -0.768253                  -0.707536   \n",
              "18                   -1.236220                  -0.967917   \n",
              "\n",
              "    SATISFACTION_ABOUT_JOB_POSITION  SATISFACTION_ABOUT_IT_FIELD  \n",
              "5                          0.690355                            1  \n",
              "10                         0.126900                            1  \n",
              "11                        -0.955062                            1  \n",
              "12                        -2.037024                            1  \n",
              "18                        -0.391607                            1  "
            ],
            "text/html": [
              "\n",
              "  <div id=\"df-da67e0b1-d396-46a0-8f83-7340f0ccb9e1\">\n",
              "    <div class=\"colab-df-container\">\n",
              "      <div>\n",
              "<style scoped>\n",
              "    .dataframe tbody tr th:only-of-type {\n",
              "        vertical-align: middle;\n",
              "    }\n",
              "\n",
              "    .dataframe tbody tr th {\n",
              "        vertical-align: top;\n",
              "    }\n",
              "\n",
              "    .dataframe thead th {\n",
              "        text-align: right;\n",
              "    }\n",
              "</style>\n",
              "<table border=\"1\" class=\"dataframe\">\n",
              "  <thead>\n",
              "    <tr style=\"text-align: right;\">\n",
              "      <th></th>\n",
              "      <th>gender</th>\n",
              "      <th>age</th>\n",
              "      <th>country</th>\n",
              "      <th>education</th>\n",
              "      <th>experience</th>\n",
              "      <th>Job_role</th>\n",
              "      <th>working_culture</th>\n",
              "      <th>annual_salary</th>\n",
              "      <th>is_thisFavourite_job</th>\n",
              "      <th>switch_the_job_field</th>\n",
              "      <th>STRESS_LEVEL_IN_A_PROJECT</th>\n",
              "      <th>ENGAGEMENT_WITH_FAMILY</th>\n",
              "      <th>ENGAGEMENT_WITH_SOCIETY</th>\n",
              "      <th>SATISFACTION_ABOUT_COUNTRY</th>\n",
              "      <th>SATISFACTION_ABOUT_COMPANY</th>\n",
              "      <th>SATISFACTION_ABOUT_SALARY</th>\n",
              "      <th>SATISFACTION_ABOUT_JOB_POSITION</th>\n",
              "      <th>SATISFACTION_ABOUT_IT_FIELD</th>\n",
              "    </tr>\n",
              "  </thead>\n",
              "  <tbody>\n",
              "    <tr>\n",
              "      <th>5</th>\n",
              "      <td>0</td>\n",
              "      <td>3</td>\n",
              "      <td>0</td>\n",
              "      <td>2</td>\n",
              "      <td>4</td>\n",
              "      <td>6</td>\n",
              "      <td>0</td>\n",
              "      <td>3</td>\n",
              "      <td>1</td>\n",
              "      <td>2</td>\n",
              "      <td>-1.733373</td>\n",
              "      <td>-1.261577</td>\n",
              "      <td>-0.857222</td>\n",
              "      <td>-0.633938</td>\n",
              "      <td>0.191437</td>\n",
              "      <td>0.372056</td>\n",
              "      <td>0.690355</td>\n",
              "      <td>1</td>\n",
              "    </tr>\n",
              "    <tr>\n",
              "      <th>10</th>\n",
              "      <td>1</td>\n",
              "      <td>3</td>\n",
              "      <td>0</td>\n",
              "      <td>2</td>\n",
              "      <td>3</td>\n",
              "      <td>2</td>\n",
              "      <td>0</td>\n",
              "      <td>1</td>\n",
              "      <td>1</td>\n",
              "      <td>0</td>\n",
              "      <td>0.691427</td>\n",
              "      <td>-0.161396</td>\n",
              "      <td>-0.420776</td>\n",
              "      <td>0.258343</td>\n",
              "      <td>0.659404</td>\n",
              "      <td>0.412756</td>\n",
              "      <td>0.126900</td>\n",
              "      <td>1</td>\n",
              "    </tr>\n",
              "    <tr>\n",
              "      <th>11</th>\n",
              "      <td>1</td>\n",
              "      <td>2</td>\n",
              "      <td>1</td>\n",
              "      <td>3</td>\n",
              "      <td>3</td>\n",
              "      <td>1</td>\n",
              "      <td>2</td>\n",
              "      <td>3</td>\n",
              "      <td>1</td>\n",
              "      <td>0</td>\n",
              "      <td>0.032771</td>\n",
              "      <td>-0.523100</td>\n",
              "      <td>0.059948</td>\n",
              "      <td>-2.058638</td>\n",
              "      <td>-0.276529</td>\n",
              "      <td>-1.427740</td>\n",
              "      <td>-0.955062</td>\n",
              "      <td>1</td>\n",
              "    </tr>\n",
              "    <tr>\n",
              "      <th>12</th>\n",
              "      <td>0</td>\n",
              "      <td>3</td>\n",
              "      <td>0</td>\n",
              "      <td>3</td>\n",
              "      <td>4</td>\n",
              "      <td>1</td>\n",
              "      <td>0</td>\n",
              "      <td>4</td>\n",
              "      <td>2</td>\n",
              "      <td>0</td>\n",
              "      <td>-0.520973</td>\n",
              "      <td>0.565626</td>\n",
              "      <td>1.479982</td>\n",
              "      <td>0.258343</td>\n",
              "      <td>-0.768253</td>\n",
              "      <td>-0.707536</td>\n",
              "      <td>-2.037024</td>\n",
              "      <td>1</td>\n",
              "    </tr>\n",
              "    <tr>\n",
              "      <th>18</th>\n",
              "      <td>0</td>\n",
              "      <td>2</td>\n",
              "      <td>0</td>\n",
              "      <td>0</td>\n",
              "      <td>4</td>\n",
              "      <td>5</td>\n",
              "      <td>2</td>\n",
              "      <td>1</td>\n",
              "      <td>1</td>\n",
              "      <td>2</td>\n",
              "      <td>-0.625885</td>\n",
              "      <td>-0.161396</td>\n",
              "      <td>0.540673</td>\n",
              "      <td>-0.229616</td>\n",
              "      <td>-1.236220</td>\n",
              "      <td>-0.967917</td>\n",
              "      <td>-0.391607</td>\n",
              "      <td>1</td>\n",
              "    </tr>\n",
              "  </tbody>\n",
              "</table>\n",
              "</div>\n",
              "      <button class=\"colab-df-convert\" onclick=\"convertToInteractive('df-da67e0b1-d396-46a0-8f83-7340f0ccb9e1')\"\n",
              "              title=\"Convert this dataframe to an interactive table.\"\n",
              "              style=\"display:none;\">\n",
              "        \n",
              "  <svg xmlns=\"http://www.w3.org/2000/svg\" height=\"24px\"viewBox=\"0 0 24 24\"\n",
              "       width=\"24px\">\n",
              "    <path d=\"M0 0h24v24H0V0z\" fill=\"none\"/>\n",
              "    <path d=\"M18.56 5.44l.94 2.06.94-2.06 2.06-.94-2.06-.94-.94-2.06-.94 2.06-2.06.94zm-11 1L8.5 8.5l.94-2.06 2.06-.94-2.06-.94L8.5 2.5l-.94 2.06-2.06.94zm10 10l.94 2.06.94-2.06 2.06-.94-2.06-.94-.94-2.06-.94 2.06-2.06.94z\"/><path d=\"M17.41 7.96l-1.37-1.37c-.4-.4-.92-.59-1.43-.59-.52 0-1.04.2-1.43.59L10.3 9.45l-7.72 7.72c-.78.78-.78 2.05 0 2.83L4 21.41c.39.39.9.59 1.41.59.51 0 1.02-.2 1.41-.59l7.78-7.78 2.81-2.81c.8-.78.8-2.07 0-2.86zM5.41 20L4 18.59l7.72-7.72 1.47 1.35L5.41 20z\"/>\n",
              "  </svg>\n",
              "      </button>\n",
              "      \n",
              "  <style>\n",
              "    .colab-df-container {\n",
              "      display:flex;\n",
              "      flex-wrap:wrap;\n",
              "      gap: 12px;\n",
              "    }\n",
              "\n",
              "    .colab-df-convert {\n",
              "      background-color: #E8F0FE;\n",
              "      border: none;\n",
              "      border-radius: 50%;\n",
              "      cursor: pointer;\n",
              "      display: none;\n",
              "      fill: #1967D2;\n",
              "      height: 32px;\n",
              "      padding: 0 0 0 0;\n",
              "      width: 32px;\n",
              "    }\n",
              "\n",
              "    .colab-df-convert:hover {\n",
              "      background-color: #E2EBFA;\n",
              "      box-shadow: 0px 1px 2px rgba(60, 64, 67, 0.3), 0px 1px 3px 1px rgba(60, 64, 67, 0.15);\n",
              "      fill: #174EA6;\n",
              "    }\n",
              "\n",
              "    [theme=dark] .colab-df-convert {\n",
              "      background-color: #3B4455;\n",
              "      fill: #D2E3FC;\n",
              "    }\n",
              "\n",
              "    [theme=dark] .colab-df-convert:hover {\n",
              "      background-color: #434B5C;\n",
              "      box-shadow: 0px 1px 3px 1px rgba(0, 0, 0, 0.15);\n",
              "      filter: drop-shadow(0px 1px 2px rgba(0, 0, 0, 0.3));\n",
              "      fill: #FFFFFF;\n",
              "    }\n",
              "  </style>\n",
              "\n",
              "      <script>\n",
              "        const buttonEl =\n",
              "          document.querySelector('#df-da67e0b1-d396-46a0-8f83-7340f0ccb9e1 button.colab-df-convert');\n",
              "        buttonEl.style.display =\n",
              "          google.colab.kernel.accessAllowed ? 'block' : 'none';\n",
              "\n",
              "        async function convertToInteractive(key) {\n",
              "          const element = document.querySelector('#df-da67e0b1-d396-46a0-8f83-7340f0ccb9e1');\n",
              "          const dataTable =\n",
              "            await google.colab.kernel.invokeFunction('convertToInteractive',\n",
              "                                                     [key], {});\n",
              "          if (!dataTable) return;\n",
              "\n",
              "          const docLinkHtml = 'Like what you see? Visit the ' +\n",
              "            '<a target=\"_blank\" href=https://colab.research.google.com/notebooks/data_table.ipynb>data table notebook</a>'\n",
              "            + ' to learn more about interactive tables.';\n",
              "          element.innerHTML = '';\n",
              "          dataTable['output_type'] = 'display_data';\n",
              "          await google.colab.output.renderOutput(dataTable, element);\n",
              "          const docLink = document.createElement('div');\n",
              "          docLink.innerHTML = docLinkHtml;\n",
              "          element.appendChild(docLink);\n",
              "        }\n",
              "      </script>\n",
              "    </div>\n",
              "  </div>\n",
              "  "
            ]
          },
          "metadata": {},
          "execution_count": 87
        }
      ]
    },
    {
      "cell_type": "code",
      "source": [
        "age_dataset_upper_28 = IT_gender_upper_28.iloc[0:20,10:18]\n",
        "age_dataset_upper_28.head()"
      ],
      "metadata": {
        "colab": {
          "base_uri": "https://localhost:8080/"
        },
        "id": "NWSL6_h57YIj",
        "outputId": "854f3408-46d3-4cb2-9a08-11e9fe1d9570"
      },
      "execution_count": null,
      "outputs": [
        {
          "output_type": "execute_result",
          "data": {
            "text/plain": [
              "    STRESS_LEVEL_IN_A_PROJECT  ENGAGEMENT_WITH_FAMILY  \\\n",
              "5                   -1.733373               -1.261577   \n",
              "10                   0.691427               -0.161396   \n",
              "11                   0.032771               -0.523100   \n",
              "12                  -0.520973                0.565626   \n",
              "18                  -0.625885               -0.161396   \n",
              "\n",
              "    ENGAGEMENT_WITH_SOCIETY  SATISFACTION_ABOUT_COUNTRY  \\\n",
              "5                 -0.857222                   -0.633938   \n",
              "10                -0.420776                    0.258343   \n",
              "11                 0.059948                   -2.058638   \n",
              "12                 1.479982                    0.258343   \n",
              "18                 0.540673                   -0.229616   \n",
              "\n",
              "    SATISFACTION_ABOUT_COMPANY  SATISFACTION_ABOUT_SALARY  \\\n",
              "5                     0.191437                   0.372056   \n",
              "10                    0.659404                   0.412756   \n",
              "11                   -0.276529                  -1.427740   \n",
              "12                   -0.768253                  -0.707536   \n",
              "18                   -1.236220                  -0.967917   \n",
              "\n",
              "    SATISFACTION_ABOUT_JOB_POSITION  SATISFACTION_ABOUT_IT_FIELD  \n",
              "5                          0.690355                            1  \n",
              "10                         0.126900                            1  \n",
              "11                        -0.955062                            1  \n",
              "12                        -2.037024                            1  \n",
              "18                        -0.391607                            1  "
            ],
            "text/html": [
              "\n",
              "  <div id=\"df-bef2d0fa-c4f1-45f8-9e86-6ddb61906e0b\">\n",
              "    <div class=\"colab-df-container\">\n",
              "      <div>\n",
              "<style scoped>\n",
              "    .dataframe tbody tr th:only-of-type {\n",
              "        vertical-align: middle;\n",
              "    }\n",
              "\n",
              "    .dataframe tbody tr th {\n",
              "        vertical-align: top;\n",
              "    }\n",
              "\n",
              "    .dataframe thead th {\n",
              "        text-align: right;\n",
              "    }\n",
              "</style>\n",
              "<table border=\"1\" class=\"dataframe\">\n",
              "  <thead>\n",
              "    <tr style=\"text-align: right;\">\n",
              "      <th></th>\n",
              "      <th>STRESS_LEVEL_IN_A_PROJECT</th>\n",
              "      <th>ENGAGEMENT_WITH_FAMILY</th>\n",
              "      <th>ENGAGEMENT_WITH_SOCIETY</th>\n",
              "      <th>SATISFACTION_ABOUT_COUNTRY</th>\n",
              "      <th>SATISFACTION_ABOUT_COMPANY</th>\n",
              "      <th>SATISFACTION_ABOUT_SALARY</th>\n",
              "      <th>SATISFACTION_ABOUT_JOB_POSITION</th>\n",
              "      <th>SATISFACTION_ABOUT_IT_FIELD</th>\n",
              "    </tr>\n",
              "  </thead>\n",
              "  <tbody>\n",
              "    <tr>\n",
              "      <th>5</th>\n",
              "      <td>-1.733373</td>\n",
              "      <td>-1.261577</td>\n",
              "      <td>-0.857222</td>\n",
              "      <td>-0.633938</td>\n",
              "      <td>0.191437</td>\n",
              "      <td>0.372056</td>\n",
              "      <td>0.690355</td>\n",
              "      <td>1</td>\n",
              "    </tr>\n",
              "    <tr>\n",
              "      <th>10</th>\n",
              "      <td>0.691427</td>\n",
              "      <td>-0.161396</td>\n",
              "      <td>-0.420776</td>\n",
              "      <td>0.258343</td>\n",
              "      <td>0.659404</td>\n",
              "      <td>0.412756</td>\n",
              "      <td>0.126900</td>\n",
              "      <td>1</td>\n",
              "    </tr>\n",
              "    <tr>\n",
              "      <th>11</th>\n",
              "      <td>0.032771</td>\n",
              "      <td>-0.523100</td>\n",
              "      <td>0.059948</td>\n",
              "      <td>-2.058638</td>\n",
              "      <td>-0.276529</td>\n",
              "      <td>-1.427740</td>\n",
              "      <td>-0.955062</td>\n",
              "      <td>1</td>\n",
              "    </tr>\n",
              "    <tr>\n",
              "      <th>12</th>\n",
              "      <td>-0.520973</td>\n",
              "      <td>0.565626</td>\n",
              "      <td>1.479982</td>\n",
              "      <td>0.258343</td>\n",
              "      <td>-0.768253</td>\n",
              "      <td>-0.707536</td>\n",
              "      <td>-2.037024</td>\n",
              "      <td>1</td>\n",
              "    </tr>\n",
              "    <tr>\n",
              "      <th>18</th>\n",
              "      <td>-0.625885</td>\n",
              "      <td>-0.161396</td>\n",
              "      <td>0.540673</td>\n",
              "      <td>-0.229616</td>\n",
              "      <td>-1.236220</td>\n",
              "      <td>-0.967917</td>\n",
              "      <td>-0.391607</td>\n",
              "      <td>1</td>\n",
              "    </tr>\n",
              "  </tbody>\n",
              "</table>\n",
              "</div>\n",
              "      <button class=\"colab-df-convert\" onclick=\"convertToInteractive('df-bef2d0fa-c4f1-45f8-9e86-6ddb61906e0b')\"\n",
              "              title=\"Convert this dataframe to an interactive table.\"\n",
              "              style=\"display:none;\">\n",
              "        \n",
              "  <svg xmlns=\"http://www.w3.org/2000/svg\" height=\"24px\"viewBox=\"0 0 24 24\"\n",
              "       width=\"24px\">\n",
              "    <path d=\"M0 0h24v24H0V0z\" fill=\"none\"/>\n",
              "    <path d=\"M18.56 5.44l.94 2.06.94-2.06 2.06-.94-2.06-.94-.94-2.06-.94 2.06-2.06.94zm-11 1L8.5 8.5l.94-2.06 2.06-.94-2.06-.94L8.5 2.5l-.94 2.06-2.06.94zm10 10l.94 2.06.94-2.06 2.06-.94-2.06-.94-.94-2.06-.94 2.06-2.06.94z\"/><path d=\"M17.41 7.96l-1.37-1.37c-.4-.4-.92-.59-1.43-.59-.52 0-1.04.2-1.43.59L10.3 9.45l-7.72 7.72c-.78.78-.78 2.05 0 2.83L4 21.41c.39.39.9.59 1.41.59.51 0 1.02-.2 1.41-.59l7.78-7.78 2.81-2.81c.8-.78.8-2.07 0-2.86zM5.41 20L4 18.59l7.72-7.72 1.47 1.35L5.41 20z\"/>\n",
              "  </svg>\n",
              "      </button>\n",
              "      \n",
              "  <style>\n",
              "    .colab-df-container {\n",
              "      display:flex;\n",
              "      flex-wrap:wrap;\n",
              "      gap: 12px;\n",
              "    }\n",
              "\n",
              "    .colab-df-convert {\n",
              "      background-color: #E8F0FE;\n",
              "      border: none;\n",
              "      border-radius: 50%;\n",
              "      cursor: pointer;\n",
              "      display: none;\n",
              "      fill: #1967D2;\n",
              "      height: 32px;\n",
              "      padding: 0 0 0 0;\n",
              "      width: 32px;\n",
              "    }\n",
              "\n",
              "    .colab-df-convert:hover {\n",
              "      background-color: #E2EBFA;\n",
              "      box-shadow: 0px 1px 2px rgba(60, 64, 67, 0.3), 0px 1px 3px 1px rgba(60, 64, 67, 0.15);\n",
              "      fill: #174EA6;\n",
              "    }\n",
              "\n",
              "    [theme=dark] .colab-df-convert {\n",
              "      background-color: #3B4455;\n",
              "      fill: #D2E3FC;\n",
              "    }\n",
              "\n",
              "    [theme=dark] .colab-df-convert:hover {\n",
              "      background-color: #434B5C;\n",
              "      box-shadow: 0px 1px 3px 1px rgba(0, 0, 0, 0.15);\n",
              "      filter: drop-shadow(0px 1px 2px rgba(0, 0, 0, 0.3));\n",
              "      fill: #FFFFFF;\n",
              "    }\n",
              "  </style>\n",
              "\n",
              "      <script>\n",
              "        const buttonEl =\n",
              "          document.querySelector('#df-bef2d0fa-c4f1-45f8-9e86-6ddb61906e0b button.colab-df-convert');\n",
              "        buttonEl.style.display =\n",
              "          google.colab.kernel.accessAllowed ? 'block' : 'none';\n",
              "\n",
              "        async function convertToInteractive(key) {\n",
              "          const element = document.querySelector('#df-bef2d0fa-c4f1-45f8-9e86-6ddb61906e0b');\n",
              "          const dataTable =\n",
              "            await google.colab.kernel.invokeFunction('convertToInteractive',\n",
              "                                                     [key], {});\n",
              "          if (!dataTable) return;\n",
              "\n",
              "          const docLinkHtml = 'Like what you see? Visit the ' +\n",
              "            '<a target=\"_blank\" href=https://colab.research.google.com/notebooks/data_table.ipynb>data table notebook</a>'\n",
              "            + ' to learn more about interactive tables.';\n",
              "          element.innerHTML = '';\n",
              "          dataTable['output_type'] = 'display_data';\n",
              "          await google.colab.output.renderOutput(dataTable, element);\n",
              "          const docLink = document.createElement('div');\n",
              "          docLink.innerHTML = docLinkHtml;\n",
              "          element.appendChild(docLink);\n",
              "        }\n",
              "      </script>\n",
              "    </div>\n",
              "  </div>\n",
              "  "
            ]
          },
          "metadata": {},
          "execution_count": 88
        }
      ]
    },
    {
      "cell_type": "code",
      "source": [
        "data_age_upper_28 = age_dataset_upper_28[:].values\n",
        "x_upper_28 = data_age_upper_28[:,0:7]\n",
        "y_upper_28= data_age_upper_28[:,7]"
      ],
      "metadata": {
        "id": "z31tGkAx7jaC"
      },
      "execution_count": null,
      "outputs": []
    },
    {
      "cell_type": "code",
      "source": [
        "network.evaluate(x_upper_28, y_upper_28)"
      ],
      "metadata": {
        "colab": {
          "base_uri": "https://localhost:8080/"
        },
        "id": "nWs0Pu1R7v5o",
        "outputId": "0df0f8ef-062b-4c7a-e009-f7b5cfbcda33"
      },
      "execution_count": null,
      "outputs": [
        {
          "output_type": "stream",
          "name": "stdout",
          "text": [
            "1/1 [==============================] - 0s 61ms/step - loss: 0.3786 - accuracy: 0.9000\n"
          ]
        },
        {
          "output_type": "execute_result",
          "data": {
            "text/plain": [
              "[0.3785568177700043, 0.8999999761581421]"
            ]
          },
          "metadata": {},
          "execution_count": 90
        }
      ]
    },
    {
      "cell_type": "code",
      "source": [
        "predictions_upper_28 = network.predict(x_upper_28)\n",
        "binary_predictions_upper_28 = np.where(predictions_upper_28 >= threshold, 1, 0)"
      ],
      "metadata": {
        "colab": {
          "base_uri": "https://localhost:8080/"
        },
        "id": "XpkV8uhP71u4",
        "outputId": "894dc466-0c18-4164-b26d-46be089b9d20"
      },
      "execution_count": null,
      "outputs": [
        {
          "output_type": "stream",
          "name": "stdout",
          "text": [
            "1/1 [==============================] - 0s 25ms/step\n"
          ]
        }
      ]
    },
    {
      "cell_type": "code",
      "source": [
        "# Calculate accuracy\n",
        "accuracy_upper_28 = accuracy_score(y_upper_28, binary_predictions_upper_28)\n",
        "accuracy_upper_28"
      ],
      "metadata": {
        "colab": {
          "base_uri": "https://localhost:8080/"
        },
        "id": "KgslkTcG8BZX",
        "outputId": "f0c53cae-d715-4606-8e56-7a4bfd62d3cd"
      },
      "execution_count": null,
      "outputs": [
        {
          "output_type": "execute_result",
          "data": {
            "text/plain": [
              "0.9"
            ]
          },
          "metadata": {},
          "execution_count": 92
        }
      ]
    },
    {
      "cell_type": "markdown",
      "source": [
        "## **Analyse with working culture**"
      ],
      "metadata": {
        "id": "SE0gu_0xATFs"
      }
    },
    {
      "cell_type": "markdown",
      "source": [
        "### **Work from home**"
      ],
      "metadata": {
        "id": "31gUukCAAZf0"
      }
    },
    {
      "cell_type": "code",
      "source": [
        "IT_working_culture_Work_from_home = IT_job_satisfaction_data[(IT_job_satisfaction_data.working_culture == 0)]"
      ],
      "metadata": {
        "id": "ZcmW4Pxc9l5y"
      },
      "execution_count": null,
      "outputs": []
    },
    {
      "cell_type": "code",
      "source": [
        "IT_working_culture_Work_from_home.shape"
      ],
      "metadata": {
        "colab": {
          "base_uri": "https://localhost:8080/"
        },
        "id": "Rdnt8FNG9vnH",
        "outputId": "47cddc1a-d726-499a-be72-20369a72c0fe"
      },
      "execution_count": null,
      "outputs": [
        {
          "output_type": "execute_result",
          "data": {
            "text/plain": [
              "(80, 18)"
            ]
          },
          "metadata": {},
          "execution_count": 94
        }
      ]
    },
    {
      "cell_type": "code",
      "source": [
        "IT_working_culture_Work_from_home.head()"
      ],
      "metadata": {
        "colab": {
          "base_uri": "https://localhost:8080/"
        },
        "id": "z3YbHoh29zqd",
        "outputId": "f7b34a2f-a1ec-4985-a8e4-bb5de6ebb632"
      },
      "execution_count": null,
      "outputs": [
        {
          "output_type": "execute_result",
          "data": {
            "text/plain": [
              "   gender  age  country  education  experience  Job_role  working_culture  \\\n",
              "0       0    1        0          4           4         5                0   \n",
              "1       1    1        0          2           0         5                0   \n",
              "4       1    1        0          2           0         1                0   \n",
              "5       0    3        0          2           4         6                0   \n",
              "6       1    1        0          2           0         5                0   \n",
              "\n",
              "   annual_salary  is_thisFavourite_job  switch_the_job_field  \\\n",
              "0              6                     0                     1   \n",
              "1              1                     0                     2   \n",
              "4              0                     1                     0   \n",
              "5              3                     1                     2   \n",
              "6              2                     0                     2   \n",
              "\n",
              "   STRESS_LEVEL_IN_A_PROJECT  ENGAGEMENT_WITH_FAMILY  ENGAGEMENT_WITH_SOCIETY  \\\n",
              "0                   1.245171                2.392829                 2.419291   \n",
              "1                   0.796339                2.027511                 2.419291   \n",
              "4                   0.586515                2.031125                 0.540673   \n",
              "5                  -1.733373               -1.261577                -0.857222   \n",
              "6                   1.350083                2.027511                 2.419291   \n",
              "\n",
              "   SATISFACTION_ABOUT_COUNTRY  SATISFACTION_ABOUT_COMPANY  \\\n",
              "0                   -0.286974                    0.683161   \n",
              "1                    1.291619                    0.659404   \n",
              "4                   -1.750852                   -0.276529   \n",
              "5                   -0.633938                    0.191437   \n",
              "6                    0.746302                    0.683161   \n",
              "\n",
              "   SATISFACTION_ABOUT_SALARY  SATISFACTION_ABOUT_JOB_POSITION  \\\n",
              "0                   0.713838                         0.126900   \n",
              "1                   1.246116                        -0.865164   \n",
              "4                  -0.350178                        -1.992075   \n",
              "5                   0.372056                         0.690355   \n",
              "6                   1.568261                        -0.910113   \n",
              "\n",
              "   SATISFACTION_ABOUT_IT_FIELD  \n",
              "0                            1  \n",
              "1                            0  \n",
              "4                            1  \n",
              "5                            1  \n",
              "6                            0  "
            ],
            "text/html": [
              "\n",
              "  <div id=\"df-d214cf15-767e-47d0-8817-a7e80a4f697f\">\n",
              "    <div class=\"colab-df-container\">\n",
              "      <div>\n",
              "<style scoped>\n",
              "    .dataframe tbody tr th:only-of-type {\n",
              "        vertical-align: middle;\n",
              "    }\n",
              "\n",
              "    .dataframe tbody tr th {\n",
              "        vertical-align: top;\n",
              "    }\n",
              "\n",
              "    .dataframe thead th {\n",
              "        text-align: right;\n",
              "    }\n",
              "</style>\n",
              "<table border=\"1\" class=\"dataframe\">\n",
              "  <thead>\n",
              "    <tr style=\"text-align: right;\">\n",
              "      <th></th>\n",
              "      <th>gender</th>\n",
              "      <th>age</th>\n",
              "      <th>country</th>\n",
              "      <th>education</th>\n",
              "      <th>experience</th>\n",
              "      <th>Job_role</th>\n",
              "      <th>working_culture</th>\n",
              "      <th>annual_salary</th>\n",
              "      <th>is_thisFavourite_job</th>\n",
              "      <th>switch_the_job_field</th>\n",
              "      <th>STRESS_LEVEL_IN_A_PROJECT</th>\n",
              "      <th>ENGAGEMENT_WITH_FAMILY</th>\n",
              "      <th>ENGAGEMENT_WITH_SOCIETY</th>\n",
              "      <th>SATISFACTION_ABOUT_COUNTRY</th>\n",
              "      <th>SATISFACTION_ABOUT_COMPANY</th>\n",
              "      <th>SATISFACTION_ABOUT_SALARY</th>\n",
              "      <th>SATISFACTION_ABOUT_JOB_POSITION</th>\n",
              "      <th>SATISFACTION_ABOUT_IT_FIELD</th>\n",
              "    </tr>\n",
              "  </thead>\n",
              "  <tbody>\n",
              "    <tr>\n",
              "      <th>0</th>\n",
              "      <td>0</td>\n",
              "      <td>1</td>\n",
              "      <td>0</td>\n",
              "      <td>4</td>\n",
              "      <td>4</td>\n",
              "      <td>5</td>\n",
              "      <td>0</td>\n",
              "      <td>6</td>\n",
              "      <td>0</td>\n",
              "      <td>1</td>\n",
              "      <td>1.245171</td>\n",
              "      <td>2.392829</td>\n",
              "      <td>2.419291</td>\n",
              "      <td>-0.286974</td>\n",
              "      <td>0.683161</td>\n",
              "      <td>0.713838</td>\n",
              "      <td>0.126900</td>\n",
              "      <td>1</td>\n",
              "    </tr>\n",
              "    <tr>\n",
              "      <th>1</th>\n",
              "      <td>1</td>\n",
              "      <td>1</td>\n",
              "      <td>0</td>\n",
              "      <td>2</td>\n",
              "      <td>0</td>\n",
              "      <td>5</td>\n",
              "      <td>0</td>\n",
              "      <td>1</td>\n",
              "      <td>0</td>\n",
              "      <td>2</td>\n",
              "      <td>0.796339</td>\n",
              "      <td>2.027511</td>\n",
              "      <td>2.419291</td>\n",
              "      <td>1.291619</td>\n",
              "      <td>0.659404</td>\n",
              "      <td>1.246116</td>\n",
              "      <td>-0.865164</td>\n",
              "      <td>0</td>\n",
              "    </tr>\n",
              "    <tr>\n",
              "      <th>4</th>\n",
              "      <td>1</td>\n",
              "      <td>1</td>\n",
              "      <td>0</td>\n",
              "      <td>2</td>\n",
              "      <td>0</td>\n",
              "      <td>1</td>\n",
              "      <td>0</td>\n",
              "      <td>0</td>\n",
              "      <td>1</td>\n",
              "      <td>0</td>\n",
              "      <td>0.586515</td>\n",
              "      <td>2.031125</td>\n",
              "      <td>0.540673</td>\n",
              "      <td>-1.750852</td>\n",
              "      <td>-0.276529</td>\n",
              "      <td>-0.350178</td>\n",
              "      <td>-1.992075</td>\n",
              "      <td>1</td>\n",
              "    </tr>\n",
              "    <tr>\n",
              "      <th>5</th>\n",
              "      <td>0</td>\n",
              "      <td>3</td>\n",
              "      <td>0</td>\n",
              "      <td>2</td>\n",
              "      <td>4</td>\n",
              "      <td>6</td>\n",
              "      <td>0</td>\n",
              "      <td>3</td>\n",
              "      <td>1</td>\n",
              "      <td>2</td>\n",
              "      <td>-1.733373</td>\n",
              "      <td>-1.261577</td>\n",
              "      <td>-0.857222</td>\n",
              "      <td>-0.633938</td>\n",
              "      <td>0.191437</td>\n",
              "      <td>0.372056</td>\n",
              "      <td>0.690355</td>\n",
              "      <td>1</td>\n",
              "    </tr>\n",
              "    <tr>\n",
              "      <th>6</th>\n",
              "      <td>1</td>\n",
              "      <td>1</td>\n",
              "      <td>0</td>\n",
              "      <td>2</td>\n",
              "      <td>0</td>\n",
              "      <td>5</td>\n",
              "      <td>0</td>\n",
              "      <td>2</td>\n",
              "      <td>0</td>\n",
              "      <td>2</td>\n",
              "      <td>1.350083</td>\n",
              "      <td>2.027511</td>\n",
              "      <td>2.419291</td>\n",
              "      <td>0.746302</td>\n",
              "      <td>0.683161</td>\n",
              "      <td>1.568261</td>\n",
              "      <td>-0.910113</td>\n",
              "      <td>0</td>\n",
              "    </tr>\n",
              "  </tbody>\n",
              "</table>\n",
              "</div>\n",
              "      <button class=\"colab-df-convert\" onclick=\"convertToInteractive('df-d214cf15-767e-47d0-8817-a7e80a4f697f')\"\n",
              "              title=\"Convert this dataframe to an interactive table.\"\n",
              "              style=\"display:none;\">\n",
              "        \n",
              "  <svg xmlns=\"http://www.w3.org/2000/svg\" height=\"24px\"viewBox=\"0 0 24 24\"\n",
              "       width=\"24px\">\n",
              "    <path d=\"M0 0h24v24H0V0z\" fill=\"none\"/>\n",
              "    <path d=\"M18.56 5.44l.94 2.06.94-2.06 2.06-.94-2.06-.94-.94-2.06-.94 2.06-2.06.94zm-11 1L8.5 8.5l.94-2.06 2.06-.94-2.06-.94L8.5 2.5l-.94 2.06-2.06.94zm10 10l.94 2.06.94-2.06 2.06-.94-2.06-.94-.94-2.06-.94 2.06-2.06.94z\"/><path d=\"M17.41 7.96l-1.37-1.37c-.4-.4-.92-.59-1.43-.59-.52 0-1.04.2-1.43.59L10.3 9.45l-7.72 7.72c-.78.78-.78 2.05 0 2.83L4 21.41c.39.39.9.59 1.41.59.51 0 1.02-.2 1.41-.59l7.78-7.78 2.81-2.81c.8-.78.8-2.07 0-2.86zM5.41 20L4 18.59l7.72-7.72 1.47 1.35L5.41 20z\"/>\n",
              "  </svg>\n",
              "      </button>\n",
              "      \n",
              "  <style>\n",
              "    .colab-df-container {\n",
              "      display:flex;\n",
              "      flex-wrap:wrap;\n",
              "      gap: 12px;\n",
              "    }\n",
              "\n",
              "    .colab-df-convert {\n",
              "      background-color: #E8F0FE;\n",
              "      border: none;\n",
              "      border-radius: 50%;\n",
              "      cursor: pointer;\n",
              "      display: none;\n",
              "      fill: #1967D2;\n",
              "      height: 32px;\n",
              "      padding: 0 0 0 0;\n",
              "      width: 32px;\n",
              "    }\n",
              "\n",
              "    .colab-df-convert:hover {\n",
              "      background-color: #E2EBFA;\n",
              "      box-shadow: 0px 1px 2px rgba(60, 64, 67, 0.3), 0px 1px 3px 1px rgba(60, 64, 67, 0.15);\n",
              "      fill: #174EA6;\n",
              "    }\n",
              "\n",
              "    [theme=dark] .colab-df-convert {\n",
              "      background-color: #3B4455;\n",
              "      fill: #D2E3FC;\n",
              "    }\n",
              "\n",
              "    [theme=dark] .colab-df-convert:hover {\n",
              "      background-color: #434B5C;\n",
              "      box-shadow: 0px 1px 3px 1px rgba(0, 0, 0, 0.15);\n",
              "      filter: drop-shadow(0px 1px 2px rgba(0, 0, 0, 0.3));\n",
              "      fill: #FFFFFF;\n",
              "    }\n",
              "  </style>\n",
              "\n",
              "      <script>\n",
              "        const buttonEl =\n",
              "          document.querySelector('#df-d214cf15-767e-47d0-8817-a7e80a4f697f button.colab-df-convert');\n",
              "        buttonEl.style.display =\n",
              "          google.colab.kernel.accessAllowed ? 'block' : 'none';\n",
              "\n",
              "        async function convertToInteractive(key) {\n",
              "          const element = document.querySelector('#df-d214cf15-767e-47d0-8817-a7e80a4f697f');\n",
              "          const dataTable =\n",
              "            await google.colab.kernel.invokeFunction('convertToInteractive',\n",
              "                                                     [key], {});\n",
              "          if (!dataTable) return;\n",
              "\n",
              "          const docLinkHtml = 'Like what you see? Visit the ' +\n",
              "            '<a target=\"_blank\" href=https://colab.research.google.com/notebooks/data_table.ipynb>data table notebook</a>'\n",
              "            + ' to learn more about interactive tables.';\n",
              "          element.innerHTML = '';\n",
              "          dataTable['output_type'] = 'display_data';\n",
              "          await google.colab.output.renderOutput(dataTable, element);\n",
              "          const docLink = document.createElement('div');\n",
              "          docLink.innerHTML = docLinkHtml;\n",
              "          element.appendChild(docLink);\n",
              "        }\n",
              "      </script>\n",
              "    </div>\n",
              "  </div>\n",
              "  "
            ]
          },
          "metadata": {},
          "execution_count": 95
        }
      ]
    },
    {
      "cell_type": "code",
      "source": [
        "working_culture_dataset_Work_from_home = IT_working_culture_Work_from_home.iloc[0:79,10:18]"
      ],
      "metadata": {
        "id": "rsLpSlbZ91VN"
      },
      "execution_count": null,
      "outputs": []
    },
    {
      "cell_type": "code",
      "source": [
        "working_culture_dataset_Work_from_home.head()"
      ],
      "metadata": {
        "colab": {
          "base_uri": "https://localhost:8080/"
        },
        "id": "cmn_a7Ur9-oc",
        "outputId": "04f21969-3d13-4e6f-f31f-489e3de1f88d"
      },
      "execution_count": null,
      "outputs": [
        {
          "output_type": "execute_result",
          "data": {
            "text/plain": [
              "   STRESS_LEVEL_IN_A_PROJECT  ENGAGEMENT_WITH_FAMILY  ENGAGEMENT_WITH_SOCIETY  \\\n",
              "0                   1.245171                2.392829                 2.419291   \n",
              "1                   0.796339                2.027511                 2.419291   \n",
              "4                   0.586515                2.031125                 0.540673   \n",
              "5                  -1.733373               -1.261577                -0.857222   \n",
              "6                   1.350083                2.027511                 2.419291   \n",
              "\n",
              "   SATISFACTION_ABOUT_COUNTRY  SATISFACTION_ABOUT_COMPANY  \\\n",
              "0                   -0.286974                    0.683161   \n",
              "1                    1.291619                    0.659404   \n",
              "4                   -1.750852                   -0.276529   \n",
              "5                   -0.633938                    0.191437   \n",
              "6                    0.746302                    0.683161   \n",
              "\n",
              "   SATISFACTION_ABOUT_SALARY  SATISFACTION_ABOUT_JOB_POSITION  \\\n",
              "0                   0.713838                         0.126900   \n",
              "1                   1.246116                        -0.865164   \n",
              "4                  -0.350178                        -1.992075   \n",
              "5                   0.372056                         0.690355   \n",
              "6                   1.568261                        -0.910113   \n",
              "\n",
              "   SATISFACTION_ABOUT_IT_FIELD  \n",
              "0                            1  \n",
              "1                            0  \n",
              "4                            1  \n",
              "5                            1  \n",
              "6                            0  "
            ],
            "text/html": [
              "\n",
              "  <div id=\"df-05ee5a74-15fe-452a-9f3f-073773098683\">\n",
              "    <div class=\"colab-df-container\">\n",
              "      <div>\n",
              "<style scoped>\n",
              "    .dataframe tbody tr th:only-of-type {\n",
              "        vertical-align: middle;\n",
              "    }\n",
              "\n",
              "    .dataframe tbody tr th {\n",
              "        vertical-align: top;\n",
              "    }\n",
              "\n",
              "    .dataframe thead th {\n",
              "        text-align: right;\n",
              "    }\n",
              "</style>\n",
              "<table border=\"1\" class=\"dataframe\">\n",
              "  <thead>\n",
              "    <tr style=\"text-align: right;\">\n",
              "      <th></th>\n",
              "      <th>STRESS_LEVEL_IN_A_PROJECT</th>\n",
              "      <th>ENGAGEMENT_WITH_FAMILY</th>\n",
              "      <th>ENGAGEMENT_WITH_SOCIETY</th>\n",
              "      <th>SATISFACTION_ABOUT_COUNTRY</th>\n",
              "      <th>SATISFACTION_ABOUT_COMPANY</th>\n",
              "      <th>SATISFACTION_ABOUT_SALARY</th>\n",
              "      <th>SATISFACTION_ABOUT_JOB_POSITION</th>\n",
              "      <th>SATISFACTION_ABOUT_IT_FIELD</th>\n",
              "    </tr>\n",
              "  </thead>\n",
              "  <tbody>\n",
              "    <tr>\n",
              "      <th>0</th>\n",
              "      <td>1.245171</td>\n",
              "      <td>2.392829</td>\n",
              "      <td>2.419291</td>\n",
              "      <td>-0.286974</td>\n",
              "      <td>0.683161</td>\n",
              "      <td>0.713838</td>\n",
              "      <td>0.126900</td>\n",
              "      <td>1</td>\n",
              "    </tr>\n",
              "    <tr>\n",
              "      <th>1</th>\n",
              "      <td>0.796339</td>\n",
              "      <td>2.027511</td>\n",
              "      <td>2.419291</td>\n",
              "      <td>1.291619</td>\n",
              "      <td>0.659404</td>\n",
              "      <td>1.246116</td>\n",
              "      <td>-0.865164</td>\n",
              "      <td>0</td>\n",
              "    </tr>\n",
              "    <tr>\n",
              "      <th>4</th>\n",
              "      <td>0.586515</td>\n",
              "      <td>2.031125</td>\n",
              "      <td>0.540673</td>\n",
              "      <td>-1.750852</td>\n",
              "      <td>-0.276529</td>\n",
              "      <td>-0.350178</td>\n",
              "      <td>-1.992075</td>\n",
              "      <td>1</td>\n",
              "    </tr>\n",
              "    <tr>\n",
              "      <th>5</th>\n",
              "      <td>-1.733373</td>\n",
              "      <td>-1.261577</td>\n",
              "      <td>-0.857222</td>\n",
              "      <td>-0.633938</td>\n",
              "      <td>0.191437</td>\n",
              "      <td>0.372056</td>\n",
              "      <td>0.690355</td>\n",
              "      <td>1</td>\n",
              "    </tr>\n",
              "    <tr>\n",
              "      <th>6</th>\n",
              "      <td>1.350083</td>\n",
              "      <td>2.027511</td>\n",
              "      <td>2.419291</td>\n",
              "      <td>0.746302</td>\n",
              "      <td>0.683161</td>\n",
              "      <td>1.568261</td>\n",
              "      <td>-0.910113</td>\n",
              "      <td>0</td>\n",
              "    </tr>\n",
              "  </tbody>\n",
              "</table>\n",
              "</div>\n",
              "      <button class=\"colab-df-convert\" onclick=\"convertToInteractive('df-05ee5a74-15fe-452a-9f3f-073773098683')\"\n",
              "              title=\"Convert this dataframe to an interactive table.\"\n",
              "              style=\"display:none;\">\n",
              "        \n",
              "  <svg xmlns=\"http://www.w3.org/2000/svg\" height=\"24px\"viewBox=\"0 0 24 24\"\n",
              "       width=\"24px\">\n",
              "    <path d=\"M0 0h24v24H0V0z\" fill=\"none\"/>\n",
              "    <path d=\"M18.56 5.44l.94 2.06.94-2.06 2.06-.94-2.06-.94-.94-2.06-.94 2.06-2.06.94zm-11 1L8.5 8.5l.94-2.06 2.06-.94-2.06-.94L8.5 2.5l-.94 2.06-2.06.94zm10 10l.94 2.06.94-2.06 2.06-.94-2.06-.94-.94-2.06-.94 2.06-2.06.94z\"/><path d=\"M17.41 7.96l-1.37-1.37c-.4-.4-.92-.59-1.43-.59-.52 0-1.04.2-1.43.59L10.3 9.45l-7.72 7.72c-.78.78-.78 2.05 0 2.83L4 21.41c.39.39.9.59 1.41.59.51 0 1.02-.2 1.41-.59l7.78-7.78 2.81-2.81c.8-.78.8-2.07 0-2.86zM5.41 20L4 18.59l7.72-7.72 1.47 1.35L5.41 20z\"/>\n",
              "  </svg>\n",
              "      </button>\n",
              "      \n",
              "  <style>\n",
              "    .colab-df-container {\n",
              "      display:flex;\n",
              "      flex-wrap:wrap;\n",
              "      gap: 12px;\n",
              "    }\n",
              "\n",
              "    .colab-df-convert {\n",
              "      background-color: #E8F0FE;\n",
              "      border: none;\n",
              "      border-radius: 50%;\n",
              "      cursor: pointer;\n",
              "      display: none;\n",
              "      fill: #1967D2;\n",
              "      height: 32px;\n",
              "      padding: 0 0 0 0;\n",
              "      width: 32px;\n",
              "    }\n",
              "\n",
              "    .colab-df-convert:hover {\n",
              "      background-color: #E2EBFA;\n",
              "      box-shadow: 0px 1px 2px rgba(60, 64, 67, 0.3), 0px 1px 3px 1px rgba(60, 64, 67, 0.15);\n",
              "      fill: #174EA6;\n",
              "    }\n",
              "\n",
              "    [theme=dark] .colab-df-convert {\n",
              "      background-color: #3B4455;\n",
              "      fill: #D2E3FC;\n",
              "    }\n",
              "\n",
              "    [theme=dark] .colab-df-convert:hover {\n",
              "      background-color: #434B5C;\n",
              "      box-shadow: 0px 1px 3px 1px rgba(0, 0, 0, 0.15);\n",
              "      filter: drop-shadow(0px 1px 2px rgba(0, 0, 0, 0.3));\n",
              "      fill: #FFFFFF;\n",
              "    }\n",
              "  </style>\n",
              "\n",
              "      <script>\n",
              "        const buttonEl =\n",
              "          document.querySelector('#df-05ee5a74-15fe-452a-9f3f-073773098683 button.colab-df-convert');\n",
              "        buttonEl.style.display =\n",
              "          google.colab.kernel.accessAllowed ? 'block' : 'none';\n",
              "\n",
              "        async function convertToInteractive(key) {\n",
              "          const element = document.querySelector('#df-05ee5a74-15fe-452a-9f3f-073773098683');\n",
              "          const dataTable =\n",
              "            await google.colab.kernel.invokeFunction('convertToInteractive',\n",
              "                                                     [key], {});\n",
              "          if (!dataTable) return;\n",
              "\n",
              "          const docLinkHtml = 'Like what you see? Visit the ' +\n",
              "            '<a target=\"_blank\" href=https://colab.research.google.com/notebooks/data_table.ipynb>data table notebook</a>'\n",
              "            + ' to learn more about interactive tables.';\n",
              "          element.innerHTML = '';\n",
              "          dataTable['output_type'] = 'display_data';\n",
              "          await google.colab.output.renderOutput(dataTable, element);\n",
              "          const docLink = document.createElement('div');\n",
              "          docLink.innerHTML = docLinkHtml;\n",
              "          element.appendChild(docLink);\n",
              "        }\n",
              "      </script>\n",
              "    </div>\n",
              "  </div>\n",
              "  "
            ]
          },
          "metadata": {},
          "execution_count": 97
        }
      ]
    },
    {
      "cell_type": "code",
      "source": [
        "data_working_culture_Work_from_home = working_culture_dataset_Work_from_home[:].values\n",
        "x_Work_from_home = data_working_culture_Work_from_home[:,0:7]\n",
        "y_Work_from_home= data_working_culture_Work_from_home[:,7]"
      ],
      "metadata": {
        "id": "NNFn63nf-CDB"
      },
      "execution_count": null,
      "outputs": []
    },
    {
      "cell_type": "code",
      "source": [
        "network.evaluate(x_Work_from_home, y_Work_from_home)"
      ],
      "metadata": {
        "colab": {
          "base_uri": "https://localhost:8080/"
        },
        "id": "pv1j7STn-FKS",
        "outputId": "37b3eda0-7f7c-4e37-f375-30f26f3f4939"
      },
      "execution_count": null,
      "outputs": [
        {
          "output_type": "stream",
          "name": "stdout",
          "text": [
            "3/3 [==============================] - 0s 5ms/step - loss: 0.2969 - accuracy: 0.8861\n"
          ]
        },
        {
          "output_type": "execute_result",
          "data": {
            "text/plain": [
              "[0.2969166338443756, 0.8860759735107422]"
            ]
          },
          "metadata": {},
          "execution_count": 99
        }
      ]
    },
    {
      "cell_type": "code",
      "source": [
        "predictions_Work_from_home = network.predict(x_Work_from_home)"
      ],
      "metadata": {
        "colab": {
          "base_uri": "https://localhost:8080/"
        },
        "id": "K85VYQVV-I6Z",
        "outputId": "5d501945-36dd-440d-e852-8aa95de3bee8"
      },
      "execution_count": null,
      "outputs": [
        {
          "output_type": "stream",
          "name": "stdout",
          "text": [
            "3/3 [==============================] - 0s 5ms/step\n"
          ]
        }
      ]
    },
    {
      "cell_type": "code",
      "source": [
        "binary_predictions_Work_from_home = np.where(predictions_Work_from_home >= threshold, 1, 0)"
      ],
      "metadata": {
        "id": "muYWJa0B-K5J"
      },
      "execution_count": null,
      "outputs": []
    },
    {
      "cell_type": "code",
      "source": [
        "# Calculate accuracy\n",
        "accuracy_Work_from_home = accuracy_score(y_Work_from_home, binary_predictions_Work_from_home)\n",
        "accuracy_Work_from_home"
      ],
      "metadata": {
        "colab": {
          "base_uri": "https://localhost:8080/"
        },
        "id": "YnhRwKD3-M5S",
        "outputId": "9a76f122-6a98-4c62-a8d4-9012aa88b93c"
      },
      "execution_count": null,
      "outputs": [
        {
          "output_type": "execute_result",
          "data": {
            "text/plain": [
              "0.8860759493670886"
            ]
          },
          "metadata": {},
          "execution_count": 102
        }
      ]
    },
    {
      "cell_type": "markdown",
      "source": [
        "### **Hybrid**"
      ],
      "metadata": {
        "id": "ped-cT2hAe8-"
      }
    },
    {
      "cell_type": "code",
      "source": [
        "IT_working_culture_Hybrid = IT_job_satisfaction_data[(IT_job_satisfaction_data.working_culture == 2)]\n",
        "IT_working_culture_Hybrid.shape\n"
      ],
      "metadata": {
        "colab": {
          "base_uri": "https://localhost:8080/"
        },
        "id": "wMQhX9ZG-div",
        "outputId": "d0b2ef79-62cf-4338-ef92-0bcde30977db"
      },
      "execution_count": null,
      "outputs": [
        {
          "output_type": "execute_result",
          "data": {
            "text/plain": [
              "(58, 18)"
            ]
          },
          "metadata": {},
          "execution_count": 105
        }
      ]
    },
    {
      "cell_type": "code",
      "source": [
        "IT_working_culture_Hybrid.head()"
      ],
      "metadata": {
        "colab": {
          "base_uri": "https://localhost:8080/"
        },
        "id": "txXTJJ4x-fFs",
        "outputId": "8bd52b45-3b76-4356-e9b5-57a626713519"
      },
      "execution_count": null,
      "outputs": [
        {
          "output_type": "execute_result",
          "data": {
            "text/plain": [
              "    gender  age  country  education  experience  Job_role  working_culture  \\\n",
              "2        1    0        0          2           0         2                2   \n",
              "7        0    1        0          2           0         2                2   \n",
              "9        0    0        0          2           0         2                2   \n",
              "11       1    2        1          3           3         1                2   \n",
              "18       0    2        0          0           4         5                2   \n",
              "\n",
              "    annual_salary  is_thisFavourite_job  switch_the_job_field  \\\n",
              "2               0                     1                     1   \n",
              "7               0                     0                     1   \n",
              "9               1                     2                     1   \n",
              "11              3                     1                     0   \n",
              "18              1                     1                     2   \n",
              "\n",
              "    STRESS_LEVEL_IN_A_PROJECT  ENGAGEMENT_WITH_FAMILY  \\\n",
              "2                   -1.628461               -0.530939   \n",
              "7                    0.691427                0.565626   \n",
              "9                    0.586515                1.300183   \n",
              "11                   0.032771               -0.523100   \n",
              "18                  -0.625885               -0.161396   \n",
              "\n",
              "    ENGAGEMENT_WITH_SOCIETY  SATISFACTION_ABOUT_COUNTRY  \\\n",
              "2                 -1.337946                   -0.405740   \n",
              "7                  0.082087                   -1.262893   \n",
              "9                  0.540673                   -0.730473   \n",
              "11                 0.059948                   -2.058638   \n",
              "18                 0.540673                   -0.229616   \n",
              "\n",
              "    SATISFACTION_ABOUT_COMPANY  SATISFACTION_ABOUT_SALARY  \\\n",
              "2                     0.191437                  -0.171197   \n",
              "7                    -1.727944                  -0.988981   \n",
              "9                     0.683161                   0.970158   \n",
              "11                   -0.276529                  -1.427740   \n",
              "18                   -1.236220                  -0.967917   \n",
              "\n",
              "    SATISFACTION_ABOUT_JOB_POSITION  SATISFACTION_ABOUT_IT_FIELD  \n",
              "2                          0.690355                            1  \n",
              "7                         -0.910113                            1  \n",
              "9                         -0.955062                            1  \n",
              "11                        -0.955062                            1  \n",
              "18                        -0.391607                            1  "
            ],
            "text/html": [
              "\n",
              "  <div id=\"df-1665b16c-4b6d-43c8-a874-430c4a51bc6e\">\n",
              "    <div class=\"colab-df-container\">\n",
              "      <div>\n",
              "<style scoped>\n",
              "    .dataframe tbody tr th:only-of-type {\n",
              "        vertical-align: middle;\n",
              "    }\n",
              "\n",
              "    .dataframe tbody tr th {\n",
              "        vertical-align: top;\n",
              "    }\n",
              "\n",
              "    .dataframe thead th {\n",
              "        text-align: right;\n",
              "    }\n",
              "</style>\n",
              "<table border=\"1\" class=\"dataframe\">\n",
              "  <thead>\n",
              "    <tr style=\"text-align: right;\">\n",
              "      <th></th>\n",
              "      <th>gender</th>\n",
              "      <th>age</th>\n",
              "      <th>country</th>\n",
              "      <th>education</th>\n",
              "      <th>experience</th>\n",
              "      <th>Job_role</th>\n",
              "      <th>working_culture</th>\n",
              "      <th>annual_salary</th>\n",
              "      <th>is_thisFavourite_job</th>\n",
              "      <th>switch_the_job_field</th>\n",
              "      <th>STRESS_LEVEL_IN_A_PROJECT</th>\n",
              "      <th>ENGAGEMENT_WITH_FAMILY</th>\n",
              "      <th>ENGAGEMENT_WITH_SOCIETY</th>\n",
              "      <th>SATISFACTION_ABOUT_COUNTRY</th>\n",
              "      <th>SATISFACTION_ABOUT_COMPANY</th>\n",
              "      <th>SATISFACTION_ABOUT_SALARY</th>\n",
              "      <th>SATISFACTION_ABOUT_JOB_POSITION</th>\n",
              "      <th>SATISFACTION_ABOUT_IT_FIELD</th>\n",
              "    </tr>\n",
              "  </thead>\n",
              "  <tbody>\n",
              "    <tr>\n",
              "      <th>2</th>\n",
              "      <td>1</td>\n",
              "      <td>0</td>\n",
              "      <td>0</td>\n",
              "      <td>2</td>\n",
              "      <td>0</td>\n",
              "      <td>2</td>\n",
              "      <td>2</td>\n",
              "      <td>0</td>\n",
              "      <td>1</td>\n",
              "      <td>1</td>\n",
              "      <td>-1.628461</td>\n",
              "      <td>-0.530939</td>\n",
              "      <td>-1.337946</td>\n",
              "      <td>-0.405740</td>\n",
              "      <td>0.191437</td>\n",
              "      <td>-0.171197</td>\n",
              "      <td>0.690355</td>\n",
              "      <td>1</td>\n",
              "    </tr>\n",
              "    <tr>\n",
              "      <th>7</th>\n",
              "      <td>0</td>\n",
              "      <td>1</td>\n",
              "      <td>0</td>\n",
              "      <td>2</td>\n",
              "      <td>0</td>\n",
              "      <td>2</td>\n",
              "      <td>2</td>\n",
              "      <td>0</td>\n",
              "      <td>0</td>\n",
              "      <td>1</td>\n",
              "      <td>0.691427</td>\n",
              "      <td>0.565626</td>\n",
              "      <td>0.082087</td>\n",
              "      <td>-1.262893</td>\n",
              "      <td>-1.727944</td>\n",
              "      <td>-0.988981</td>\n",
              "      <td>-0.910113</td>\n",
              "      <td>1</td>\n",
              "    </tr>\n",
              "    <tr>\n",
              "      <th>9</th>\n",
              "      <td>0</td>\n",
              "      <td>0</td>\n",
              "      <td>0</td>\n",
              "      <td>2</td>\n",
              "      <td>0</td>\n",
              "      <td>2</td>\n",
              "      <td>2</td>\n",
              "      <td>1</td>\n",
              "      <td>2</td>\n",
              "      <td>1</td>\n",
              "      <td>0.586515</td>\n",
              "      <td>1.300183</td>\n",
              "      <td>0.540673</td>\n",
              "      <td>-0.730473</td>\n",
              "      <td>0.683161</td>\n",
              "      <td>0.970158</td>\n",
              "      <td>-0.955062</td>\n",
              "      <td>1</td>\n",
              "    </tr>\n",
              "    <tr>\n",
              "      <th>11</th>\n",
              "      <td>1</td>\n",
              "      <td>2</td>\n",
              "      <td>1</td>\n",
              "      <td>3</td>\n",
              "      <td>3</td>\n",
              "      <td>1</td>\n",
              "      <td>2</td>\n",
              "      <td>3</td>\n",
              "      <td>1</td>\n",
              "      <td>0</td>\n",
              "      <td>0.032771</td>\n",
              "      <td>-0.523100</td>\n",
              "      <td>0.059948</td>\n",
              "      <td>-2.058638</td>\n",
              "      <td>-0.276529</td>\n",
              "      <td>-1.427740</td>\n",
              "      <td>-0.955062</td>\n",
              "      <td>1</td>\n",
              "    </tr>\n",
              "    <tr>\n",
              "      <th>18</th>\n",
              "      <td>0</td>\n",
              "      <td>2</td>\n",
              "      <td>0</td>\n",
              "      <td>0</td>\n",
              "      <td>4</td>\n",
              "      <td>5</td>\n",
              "      <td>2</td>\n",
              "      <td>1</td>\n",
              "      <td>1</td>\n",
              "      <td>2</td>\n",
              "      <td>-0.625885</td>\n",
              "      <td>-0.161396</td>\n",
              "      <td>0.540673</td>\n",
              "      <td>-0.229616</td>\n",
              "      <td>-1.236220</td>\n",
              "      <td>-0.967917</td>\n",
              "      <td>-0.391607</td>\n",
              "      <td>1</td>\n",
              "    </tr>\n",
              "  </tbody>\n",
              "</table>\n",
              "</div>\n",
              "      <button class=\"colab-df-convert\" onclick=\"convertToInteractive('df-1665b16c-4b6d-43c8-a874-430c4a51bc6e')\"\n",
              "              title=\"Convert this dataframe to an interactive table.\"\n",
              "              style=\"display:none;\">\n",
              "        \n",
              "  <svg xmlns=\"http://www.w3.org/2000/svg\" height=\"24px\"viewBox=\"0 0 24 24\"\n",
              "       width=\"24px\">\n",
              "    <path d=\"M0 0h24v24H0V0z\" fill=\"none\"/>\n",
              "    <path d=\"M18.56 5.44l.94 2.06.94-2.06 2.06-.94-2.06-.94-.94-2.06-.94 2.06-2.06.94zm-11 1L8.5 8.5l.94-2.06 2.06-.94-2.06-.94L8.5 2.5l-.94 2.06-2.06.94zm10 10l.94 2.06.94-2.06 2.06-.94-2.06-.94-.94-2.06-.94 2.06-2.06.94z\"/><path d=\"M17.41 7.96l-1.37-1.37c-.4-.4-.92-.59-1.43-.59-.52 0-1.04.2-1.43.59L10.3 9.45l-7.72 7.72c-.78.78-.78 2.05 0 2.83L4 21.41c.39.39.9.59 1.41.59.51 0 1.02-.2 1.41-.59l7.78-7.78 2.81-2.81c.8-.78.8-2.07 0-2.86zM5.41 20L4 18.59l7.72-7.72 1.47 1.35L5.41 20z\"/>\n",
              "  </svg>\n",
              "      </button>\n",
              "      \n",
              "  <style>\n",
              "    .colab-df-container {\n",
              "      display:flex;\n",
              "      flex-wrap:wrap;\n",
              "      gap: 12px;\n",
              "    }\n",
              "\n",
              "    .colab-df-convert {\n",
              "      background-color: #E8F0FE;\n",
              "      border: none;\n",
              "      border-radius: 50%;\n",
              "      cursor: pointer;\n",
              "      display: none;\n",
              "      fill: #1967D2;\n",
              "      height: 32px;\n",
              "      padding: 0 0 0 0;\n",
              "      width: 32px;\n",
              "    }\n",
              "\n",
              "    .colab-df-convert:hover {\n",
              "      background-color: #E2EBFA;\n",
              "      box-shadow: 0px 1px 2px rgba(60, 64, 67, 0.3), 0px 1px 3px 1px rgba(60, 64, 67, 0.15);\n",
              "      fill: #174EA6;\n",
              "    }\n",
              "\n",
              "    [theme=dark] .colab-df-convert {\n",
              "      background-color: #3B4455;\n",
              "      fill: #D2E3FC;\n",
              "    }\n",
              "\n",
              "    [theme=dark] .colab-df-convert:hover {\n",
              "      background-color: #434B5C;\n",
              "      box-shadow: 0px 1px 3px 1px rgba(0, 0, 0, 0.15);\n",
              "      filter: drop-shadow(0px 1px 2px rgba(0, 0, 0, 0.3));\n",
              "      fill: #FFFFFF;\n",
              "    }\n",
              "  </style>\n",
              "\n",
              "      <script>\n",
              "        const buttonEl =\n",
              "          document.querySelector('#df-1665b16c-4b6d-43c8-a874-430c4a51bc6e button.colab-df-convert');\n",
              "        buttonEl.style.display =\n",
              "          google.colab.kernel.accessAllowed ? 'block' : 'none';\n",
              "\n",
              "        async function convertToInteractive(key) {\n",
              "          const element = document.querySelector('#df-1665b16c-4b6d-43c8-a874-430c4a51bc6e');\n",
              "          const dataTable =\n",
              "            await google.colab.kernel.invokeFunction('convertToInteractive',\n",
              "                                                     [key], {});\n",
              "          if (!dataTable) return;\n",
              "\n",
              "          const docLinkHtml = 'Like what you see? Visit the ' +\n",
              "            '<a target=\"_blank\" href=https://colab.research.google.com/notebooks/data_table.ipynb>data table notebook</a>'\n",
              "            + ' to learn more about interactive tables.';\n",
              "          element.innerHTML = '';\n",
              "          dataTable['output_type'] = 'display_data';\n",
              "          await google.colab.output.renderOutput(dataTable, element);\n",
              "          const docLink = document.createElement('div');\n",
              "          docLink.innerHTML = docLinkHtml;\n",
              "          element.appendChild(docLink);\n",
              "        }\n",
              "      </script>\n",
              "    </div>\n",
              "  </div>\n",
              "  "
            ]
          },
          "metadata": {},
          "execution_count": 106
        }
      ]
    },
    {
      "cell_type": "code",
      "source": [
        "working_culture_dataset_Hybrid = IT_working_culture_Hybrid.iloc[0:57,10:18]\n",
        "working_culture_dataset_Hybrid.head()"
      ],
      "metadata": {
        "colab": {
          "base_uri": "https://localhost:8080/"
        },
        "id": "MLkF_Bf0-pOf",
        "outputId": "f8b83a32-effe-45ec-f7b5-bf7b57baf7d3"
      },
      "execution_count": null,
      "outputs": [
        {
          "output_type": "execute_result",
          "data": {
            "text/plain": [
              "    STRESS_LEVEL_IN_A_PROJECT  ENGAGEMENT_WITH_FAMILY  \\\n",
              "2                   -1.628461               -0.530939   \n",
              "7                    0.691427                0.565626   \n",
              "9                    0.586515                1.300183   \n",
              "11                   0.032771               -0.523100   \n",
              "18                  -0.625885               -0.161396   \n",
              "\n",
              "    ENGAGEMENT_WITH_SOCIETY  SATISFACTION_ABOUT_COUNTRY  \\\n",
              "2                 -1.337946                   -0.405740   \n",
              "7                  0.082087                   -1.262893   \n",
              "9                  0.540673                   -0.730473   \n",
              "11                 0.059948                   -2.058638   \n",
              "18                 0.540673                   -0.229616   \n",
              "\n",
              "    SATISFACTION_ABOUT_COMPANY  SATISFACTION_ABOUT_SALARY  \\\n",
              "2                     0.191437                  -0.171197   \n",
              "7                    -1.727944                  -0.988981   \n",
              "9                     0.683161                   0.970158   \n",
              "11                   -0.276529                  -1.427740   \n",
              "18                   -1.236220                  -0.967917   \n",
              "\n",
              "    SATISFACTION_ABOUT_JOB_POSITION  SATISFACTION_ABOUT_IT_FIELD  \n",
              "2                          0.690355                            1  \n",
              "7                         -0.910113                            1  \n",
              "9                         -0.955062                            1  \n",
              "11                        -0.955062                            1  \n",
              "18                        -0.391607                            1  "
            ],
            "text/html": [
              "\n",
              "  <div id=\"df-916c0164-e105-430b-9d57-a86396394054\">\n",
              "    <div class=\"colab-df-container\">\n",
              "      <div>\n",
              "<style scoped>\n",
              "    .dataframe tbody tr th:only-of-type {\n",
              "        vertical-align: middle;\n",
              "    }\n",
              "\n",
              "    .dataframe tbody tr th {\n",
              "        vertical-align: top;\n",
              "    }\n",
              "\n",
              "    .dataframe thead th {\n",
              "        text-align: right;\n",
              "    }\n",
              "</style>\n",
              "<table border=\"1\" class=\"dataframe\">\n",
              "  <thead>\n",
              "    <tr style=\"text-align: right;\">\n",
              "      <th></th>\n",
              "      <th>STRESS_LEVEL_IN_A_PROJECT</th>\n",
              "      <th>ENGAGEMENT_WITH_FAMILY</th>\n",
              "      <th>ENGAGEMENT_WITH_SOCIETY</th>\n",
              "      <th>SATISFACTION_ABOUT_COUNTRY</th>\n",
              "      <th>SATISFACTION_ABOUT_COMPANY</th>\n",
              "      <th>SATISFACTION_ABOUT_SALARY</th>\n",
              "      <th>SATISFACTION_ABOUT_JOB_POSITION</th>\n",
              "      <th>SATISFACTION_ABOUT_IT_FIELD</th>\n",
              "    </tr>\n",
              "  </thead>\n",
              "  <tbody>\n",
              "    <tr>\n",
              "      <th>2</th>\n",
              "      <td>-1.628461</td>\n",
              "      <td>-0.530939</td>\n",
              "      <td>-1.337946</td>\n",
              "      <td>-0.405740</td>\n",
              "      <td>0.191437</td>\n",
              "      <td>-0.171197</td>\n",
              "      <td>0.690355</td>\n",
              "      <td>1</td>\n",
              "    </tr>\n",
              "    <tr>\n",
              "      <th>7</th>\n",
              "      <td>0.691427</td>\n",
              "      <td>0.565626</td>\n",
              "      <td>0.082087</td>\n",
              "      <td>-1.262893</td>\n",
              "      <td>-1.727944</td>\n",
              "      <td>-0.988981</td>\n",
              "      <td>-0.910113</td>\n",
              "      <td>1</td>\n",
              "    </tr>\n",
              "    <tr>\n",
              "      <th>9</th>\n",
              "      <td>0.586515</td>\n",
              "      <td>1.300183</td>\n",
              "      <td>0.540673</td>\n",
              "      <td>-0.730473</td>\n",
              "      <td>0.683161</td>\n",
              "      <td>0.970158</td>\n",
              "      <td>-0.955062</td>\n",
              "      <td>1</td>\n",
              "    </tr>\n",
              "    <tr>\n",
              "      <th>11</th>\n",
              "      <td>0.032771</td>\n",
              "      <td>-0.523100</td>\n",
              "      <td>0.059948</td>\n",
              "      <td>-2.058638</td>\n",
              "      <td>-0.276529</td>\n",
              "      <td>-1.427740</td>\n",
              "      <td>-0.955062</td>\n",
              "      <td>1</td>\n",
              "    </tr>\n",
              "    <tr>\n",
              "      <th>18</th>\n",
              "      <td>-0.625885</td>\n",
              "      <td>-0.161396</td>\n",
              "      <td>0.540673</td>\n",
              "      <td>-0.229616</td>\n",
              "      <td>-1.236220</td>\n",
              "      <td>-0.967917</td>\n",
              "      <td>-0.391607</td>\n",
              "      <td>1</td>\n",
              "    </tr>\n",
              "  </tbody>\n",
              "</table>\n",
              "</div>\n",
              "      <button class=\"colab-df-convert\" onclick=\"convertToInteractive('df-916c0164-e105-430b-9d57-a86396394054')\"\n",
              "              title=\"Convert this dataframe to an interactive table.\"\n",
              "              style=\"display:none;\">\n",
              "        \n",
              "  <svg xmlns=\"http://www.w3.org/2000/svg\" height=\"24px\"viewBox=\"0 0 24 24\"\n",
              "       width=\"24px\">\n",
              "    <path d=\"M0 0h24v24H0V0z\" fill=\"none\"/>\n",
              "    <path d=\"M18.56 5.44l.94 2.06.94-2.06 2.06-.94-2.06-.94-.94-2.06-.94 2.06-2.06.94zm-11 1L8.5 8.5l.94-2.06 2.06-.94-2.06-.94L8.5 2.5l-.94 2.06-2.06.94zm10 10l.94 2.06.94-2.06 2.06-.94-2.06-.94-.94-2.06-.94 2.06-2.06.94z\"/><path d=\"M17.41 7.96l-1.37-1.37c-.4-.4-.92-.59-1.43-.59-.52 0-1.04.2-1.43.59L10.3 9.45l-7.72 7.72c-.78.78-.78 2.05 0 2.83L4 21.41c.39.39.9.59 1.41.59.51 0 1.02-.2 1.41-.59l7.78-7.78 2.81-2.81c.8-.78.8-2.07 0-2.86zM5.41 20L4 18.59l7.72-7.72 1.47 1.35L5.41 20z\"/>\n",
              "  </svg>\n",
              "      </button>\n",
              "      \n",
              "  <style>\n",
              "    .colab-df-container {\n",
              "      display:flex;\n",
              "      flex-wrap:wrap;\n",
              "      gap: 12px;\n",
              "    }\n",
              "\n",
              "    .colab-df-convert {\n",
              "      background-color: #E8F0FE;\n",
              "      border: none;\n",
              "      border-radius: 50%;\n",
              "      cursor: pointer;\n",
              "      display: none;\n",
              "      fill: #1967D2;\n",
              "      height: 32px;\n",
              "      padding: 0 0 0 0;\n",
              "      width: 32px;\n",
              "    }\n",
              "\n",
              "    .colab-df-convert:hover {\n",
              "      background-color: #E2EBFA;\n",
              "      box-shadow: 0px 1px 2px rgba(60, 64, 67, 0.3), 0px 1px 3px 1px rgba(60, 64, 67, 0.15);\n",
              "      fill: #174EA6;\n",
              "    }\n",
              "\n",
              "    [theme=dark] .colab-df-convert {\n",
              "      background-color: #3B4455;\n",
              "      fill: #D2E3FC;\n",
              "    }\n",
              "\n",
              "    [theme=dark] .colab-df-convert:hover {\n",
              "      background-color: #434B5C;\n",
              "      box-shadow: 0px 1px 3px 1px rgba(0, 0, 0, 0.15);\n",
              "      filter: drop-shadow(0px 1px 2px rgba(0, 0, 0, 0.3));\n",
              "      fill: #FFFFFF;\n",
              "    }\n",
              "  </style>\n",
              "\n",
              "      <script>\n",
              "        const buttonEl =\n",
              "          document.querySelector('#df-916c0164-e105-430b-9d57-a86396394054 button.colab-df-convert');\n",
              "        buttonEl.style.display =\n",
              "          google.colab.kernel.accessAllowed ? 'block' : 'none';\n",
              "\n",
              "        async function convertToInteractive(key) {\n",
              "          const element = document.querySelector('#df-916c0164-e105-430b-9d57-a86396394054');\n",
              "          const dataTable =\n",
              "            await google.colab.kernel.invokeFunction('convertToInteractive',\n",
              "                                                     [key], {});\n",
              "          if (!dataTable) return;\n",
              "\n",
              "          const docLinkHtml = 'Like what you see? Visit the ' +\n",
              "            '<a target=\"_blank\" href=https://colab.research.google.com/notebooks/data_table.ipynb>data table notebook</a>'\n",
              "            + ' to learn more about interactive tables.';\n",
              "          element.innerHTML = '';\n",
              "          dataTable['output_type'] = 'display_data';\n",
              "          await google.colab.output.renderOutput(dataTable, element);\n",
              "          const docLink = document.createElement('div');\n",
              "          docLink.innerHTML = docLinkHtml;\n",
              "          element.appendChild(docLink);\n",
              "        }\n",
              "      </script>\n",
              "    </div>\n",
              "  </div>\n",
              "  "
            ]
          },
          "metadata": {},
          "execution_count": 107
        }
      ]
    },
    {
      "cell_type": "code",
      "source": [
        "data_working_culture_Hybrid = working_culture_dataset_Hybrid[:].values\n",
        "x_Hybrid = data_working_culture_Hybrid[:,0:7]\n",
        "y_Hybrid= data_working_culture_Hybrid[:,7]\n"
      ],
      "metadata": {
        "id": "-1HJnjR7-tna"
      },
      "execution_count": null,
      "outputs": []
    },
    {
      "cell_type": "code",
      "source": [
        "network.evaluate(x_Hybrid, y_Hybrid)"
      ],
      "metadata": {
        "colab": {
          "base_uri": "https://localhost:8080/"
        },
        "id": "CjkQRVH7-w2P",
        "outputId": "fd416b30-8bc0-4fd4-8671-30efdc42235b"
      },
      "execution_count": null,
      "outputs": [
        {
          "output_type": "stream",
          "name": "stdout",
          "text": [
            "2/2 [==============================] - 0s 24ms/step - loss: 0.2440 - accuracy: 0.9474\n"
          ]
        },
        {
          "output_type": "execute_result",
          "data": {
            "text/plain": [
              "[0.24402473866939545, 0.9473684430122375]"
            ]
          },
          "metadata": {},
          "execution_count": 109
        }
      ]
    },
    {
      "cell_type": "code",
      "source": [
        "predictions_Hybrid = network.predict(x_Hybrid)"
      ],
      "metadata": {
        "colab": {
          "base_uri": "https://localhost:8080/"
        },
        "id": "jNreAn6y-zRr",
        "outputId": "0d3757dd-804c-43cd-f8b2-e03a8fb9f8e1"
      },
      "execution_count": null,
      "outputs": [
        {
          "output_type": "stream",
          "name": "stdout",
          "text": [
            "2/2 [==============================] - 0s 7ms/step\n"
          ]
        }
      ]
    },
    {
      "cell_type": "code",
      "source": [
        "binary_predictions_Hybrid = np.where(predictions_Hybrid >= threshold, 1, 0)"
      ],
      "metadata": {
        "id": "hxU9JOmI-2Xw"
      },
      "execution_count": null,
      "outputs": []
    },
    {
      "cell_type": "code",
      "source": [
        "# Calculate accuracy\n",
        "accuracy_Hybrid = accuracy_score(y_Hybrid, binary_predictions_Hybrid)\n",
        "accuracy_Hybrid\n"
      ],
      "metadata": {
        "colab": {
          "base_uri": "https://localhost:8080/"
        },
        "id": "EckEA1y7-5TP",
        "outputId": "3197a642-a9ce-475f-c8a6-e9041ec6a393"
      },
      "execution_count": null,
      "outputs": [
        {
          "output_type": "execute_result",
          "data": {
            "text/plain": [
              "0.9473684210526315"
            ]
          },
          "metadata": {},
          "execution_count": 112
        }
      ]
    },
    {
      "cell_type": "markdown",
      "source": [
        "### **Work from home**"
      ],
      "metadata": {
        "id": "BdzfhU3nAjbb"
      }
    },
    {
      "cell_type": "code",
      "source": [
        "IT_working_culture_Work_from_office = IT_job_satisfaction_data[(IT_job_satisfaction_data.working_culture == 1)]"
      ],
      "metadata": {
        "id": "cbW9KG9M_E0k"
      },
      "execution_count": null,
      "outputs": []
    },
    {
      "cell_type": "code",
      "source": [
        "IT_working_culture_Work_from_office.shape"
      ],
      "metadata": {
        "colab": {
          "base_uri": "https://localhost:8080/"
        },
        "id": "_Suig9Pc_I7b",
        "outputId": "8aa29407-f3f2-4f55-8edd-4f8651383505"
      },
      "execution_count": null,
      "outputs": [
        {
          "output_type": "execute_result",
          "data": {
            "text/plain": [
              "(18, 18)"
            ]
          },
          "metadata": {},
          "execution_count": 114
        }
      ]
    },
    {
      "cell_type": "code",
      "source": [
        "IT_working_culture_Work_from_office.head()"
      ],
      "metadata": {
        "colab": {
          "base_uri": "https://localhost:8080/"
        },
        "id": "sNHzCh0C_Kli",
        "outputId": "1f2babfe-9b54-495e-cc3b-4614c5111afe"
      },
      "execution_count": null,
      "outputs": [
        {
          "output_type": "execute_result",
          "data": {
            "text/plain": [
              "    gender  age  country  education  experience  Job_role  working_culture  \\\n",
              "3        1    1        0          2           0         2                1   \n",
              "19       1    1        0          1           1         0                1   \n",
              "20       0    2        0          2           4         5                1   \n",
              "21       1    0        0          2           0         5                1   \n",
              "31       1    1        0          2           0         0                1   \n",
              "\n",
              "    annual_salary  is_thisFavourite_job  switch_the_job_field  \\\n",
              "3               0                     1                     2   \n",
              "19              0                     2                     1   \n",
              "20              3                     2                     2   \n",
              "21              0                     1                     0   \n",
              "31              0                     2                     0   \n",
              "\n",
              "    STRESS_LEVEL_IN_A_PROJECT  ENGAGEMENT_WITH_FAMILY  \\\n",
              "3                   -1.628461               -0.161396   \n",
              "19                  -0.520973                0.200308   \n",
              "20                   0.137683               -0.530635   \n",
              "21                   0.032771                0.207842   \n",
              "31                  -2.392029               -0.161396   \n",
              "\n",
              "    ENGAGEMENT_WITH_SOCIETY  SATISFACTION_ABOUT_COUNTRY  \\\n",
              "3                 -0.879361                    0.161807   \n",
              "19                 0.562811                    0.236113   \n",
              "20                -0.857222                   -0.133081   \n",
              "21                -0.879361                    0.161807   \n",
              "31                -0.398637                   -1.750852   \n",
              "\n",
              "    SATISFACTION_ABOUT_COMPANY  SATISFACTION_ABOUT_SALARY  \\\n",
              "3                    -1.236220                   0.643952   \n",
              "19                   -0.276529                  -0.491916   \n",
              "20                   -2.195911                  -0.952341   \n",
              "21                    1.174885                   1.311940   \n",
              "31                   -2.195911                  -0.748236   \n",
              "\n",
              "    SATISFACTION_ABOUT_JOB_POSITION  SATISFACTION_ABOUT_IT_FIELD  \n",
              "3                          0.126900                            0  \n",
              "19                         0.171849                            1  \n",
              "20                        -0.955062                            1  \n",
              "21                         1.208861                            1  \n",
              "31                        -3.118986                            1  "
            ],
            "text/html": [
              "\n",
              "  <div id=\"df-d44bfcb7-0ba9-41e0-80ab-2f33f8a981ad\">\n",
              "    <div class=\"colab-df-container\">\n",
              "      <div>\n",
              "<style scoped>\n",
              "    .dataframe tbody tr th:only-of-type {\n",
              "        vertical-align: middle;\n",
              "    }\n",
              "\n",
              "    .dataframe tbody tr th {\n",
              "        vertical-align: top;\n",
              "    }\n",
              "\n",
              "    .dataframe thead th {\n",
              "        text-align: right;\n",
              "    }\n",
              "</style>\n",
              "<table border=\"1\" class=\"dataframe\">\n",
              "  <thead>\n",
              "    <tr style=\"text-align: right;\">\n",
              "      <th></th>\n",
              "      <th>gender</th>\n",
              "      <th>age</th>\n",
              "      <th>country</th>\n",
              "      <th>education</th>\n",
              "      <th>experience</th>\n",
              "      <th>Job_role</th>\n",
              "      <th>working_culture</th>\n",
              "      <th>annual_salary</th>\n",
              "      <th>is_thisFavourite_job</th>\n",
              "      <th>switch_the_job_field</th>\n",
              "      <th>STRESS_LEVEL_IN_A_PROJECT</th>\n",
              "      <th>ENGAGEMENT_WITH_FAMILY</th>\n",
              "      <th>ENGAGEMENT_WITH_SOCIETY</th>\n",
              "      <th>SATISFACTION_ABOUT_COUNTRY</th>\n",
              "      <th>SATISFACTION_ABOUT_COMPANY</th>\n",
              "      <th>SATISFACTION_ABOUT_SALARY</th>\n",
              "      <th>SATISFACTION_ABOUT_JOB_POSITION</th>\n",
              "      <th>SATISFACTION_ABOUT_IT_FIELD</th>\n",
              "    </tr>\n",
              "  </thead>\n",
              "  <tbody>\n",
              "    <tr>\n",
              "      <th>3</th>\n",
              "      <td>1</td>\n",
              "      <td>1</td>\n",
              "      <td>0</td>\n",
              "      <td>2</td>\n",
              "      <td>0</td>\n",
              "      <td>2</td>\n",
              "      <td>1</td>\n",
              "      <td>0</td>\n",
              "      <td>1</td>\n",
              "      <td>2</td>\n",
              "      <td>-1.628461</td>\n",
              "      <td>-0.161396</td>\n",
              "      <td>-0.879361</td>\n",
              "      <td>0.161807</td>\n",
              "      <td>-1.236220</td>\n",
              "      <td>0.643952</td>\n",
              "      <td>0.126900</td>\n",
              "      <td>0</td>\n",
              "    </tr>\n",
              "    <tr>\n",
              "      <th>19</th>\n",
              "      <td>1</td>\n",
              "      <td>1</td>\n",
              "      <td>0</td>\n",
              "      <td>1</td>\n",
              "      <td>1</td>\n",
              "      <td>0</td>\n",
              "      <td>1</td>\n",
              "      <td>0</td>\n",
              "      <td>2</td>\n",
              "      <td>1</td>\n",
              "      <td>-0.520973</td>\n",
              "      <td>0.200308</td>\n",
              "      <td>0.562811</td>\n",
              "      <td>0.236113</td>\n",
              "      <td>-0.276529</td>\n",
              "      <td>-0.491916</td>\n",
              "      <td>0.171849</td>\n",
              "      <td>1</td>\n",
              "    </tr>\n",
              "    <tr>\n",
              "      <th>20</th>\n",
              "      <td>0</td>\n",
              "      <td>2</td>\n",
              "      <td>0</td>\n",
              "      <td>2</td>\n",
              "      <td>4</td>\n",
              "      <td>5</td>\n",
              "      <td>1</td>\n",
              "      <td>3</td>\n",
              "      <td>2</td>\n",
              "      <td>2</td>\n",
              "      <td>0.137683</td>\n",
              "      <td>-0.530635</td>\n",
              "      <td>-0.857222</td>\n",
              "      <td>-0.133081</td>\n",
              "      <td>-2.195911</td>\n",
              "      <td>-0.952341</td>\n",
              "      <td>-0.955062</td>\n",
              "      <td>1</td>\n",
              "    </tr>\n",
              "    <tr>\n",
              "      <th>21</th>\n",
              "      <td>1</td>\n",
              "      <td>0</td>\n",
              "      <td>0</td>\n",
              "      <td>2</td>\n",
              "      <td>0</td>\n",
              "      <td>5</td>\n",
              "      <td>1</td>\n",
              "      <td>0</td>\n",
              "      <td>1</td>\n",
              "      <td>0</td>\n",
              "      <td>0.032771</td>\n",
              "      <td>0.207842</td>\n",
              "      <td>-0.879361</td>\n",
              "      <td>0.161807</td>\n",
              "      <td>1.174885</td>\n",
              "      <td>1.311940</td>\n",
              "      <td>1.208861</td>\n",
              "      <td>1</td>\n",
              "    </tr>\n",
              "    <tr>\n",
              "      <th>31</th>\n",
              "      <td>1</td>\n",
              "      <td>1</td>\n",
              "      <td>0</td>\n",
              "      <td>2</td>\n",
              "      <td>0</td>\n",
              "      <td>0</td>\n",
              "      <td>1</td>\n",
              "      <td>0</td>\n",
              "      <td>2</td>\n",
              "      <td>0</td>\n",
              "      <td>-2.392029</td>\n",
              "      <td>-0.161396</td>\n",
              "      <td>-0.398637</td>\n",
              "      <td>-1.750852</td>\n",
              "      <td>-2.195911</td>\n",
              "      <td>-0.748236</td>\n",
              "      <td>-3.118986</td>\n",
              "      <td>1</td>\n",
              "    </tr>\n",
              "  </tbody>\n",
              "</table>\n",
              "</div>\n",
              "      <button class=\"colab-df-convert\" onclick=\"convertToInteractive('df-d44bfcb7-0ba9-41e0-80ab-2f33f8a981ad')\"\n",
              "              title=\"Convert this dataframe to an interactive table.\"\n",
              "              style=\"display:none;\">\n",
              "        \n",
              "  <svg xmlns=\"http://www.w3.org/2000/svg\" height=\"24px\"viewBox=\"0 0 24 24\"\n",
              "       width=\"24px\">\n",
              "    <path d=\"M0 0h24v24H0V0z\" fill=\"none\"/>\n",
              "    <path d=\"M18.56 5.44l.94 2.06.94-2.06 2.06-.94-2.06-.94-.94-2.06-.94 2.06-2.06.94zm-11 1L8.5 8.5l.94-2.06 2.06-.94-2.06-.94L8.5 2.5l-.94 2.06-2.06.94zm10 10l.94 2.06.94-2.06 2.06-.94-2.06-.94-.94-2.06-.94 2.06-2.06.94z\"/><path d=\"M17.41 7.96l-1.37-1.37c-.4-.4-.92-.59-1.43-.59-.52 0-1.04.2-1.43.59L10.3 9.45l-7.72 7.72c-.78.78-.78 2.05 0 2.83L4 21.41c.39.39.9.59 1.41.59.51 0 1.02-.2 1.41-.59l7.78-7.78 2.81-2.81c.8-.78.8-2.07 0-2.86zM5.41 20L4 18.59l7.72-7.72 1.47 1.35L5.41 20z\"/>\n",
              "  </svg>\n",
              "      </button>\n",
              "      \n",
              "  <style>\n",
              "    .colab-df-container {\n",
              "      display:flex;\n",
              "      flex-wrap:wrap;\n",
              "      gap: 12px;\n",
              "    }\n",
              "\n",
              "    .colab-df-convert {\n",
              "      background-color: #E8F0FE;\n",
              "      border: none;\n",
              "      border-radius: 50%;\n",
              "      cursor: pointer;\n",
              "      display: none;\n",
              "      fill: #1967D2;\n",
              "      height: 32px;\n",
              "      padding: 0 0 0 0;\n",
              "      width: 32px;\n",
              "    }\n",
              "\n",
              "    .colab-df-convert:hover {\n",
              "      background-color: #E2EBFA;\n",
              "      box-shadow: 0px 1px 2px rgba(60, 64, 67, 0.3), 0px 1px 3px 1px rgba(60, 64, 67, 0.15);\n",
              "      fill: #174EA6;\n",
              "    }\n",
              "\n",
              "    [theme=dark] .colab-df-convert {\n",
              "      background-color: #3B4455;\n",
              "      fill: #D2E3FC;\n",
              "    }\n",
              "\n",
              "    [theme=dark] .colab-df-convert:hover {\n",
              "      background-color: #434B5C;\n",
              "      box-shadow: 0px 1px 3px 1px rgba(0, 0, 0, 0.15);\n",
              "      filter: drop-shadow(0px 1px 2px rgba(0, 0, 0, 0.3));\n",
              "      fill: #FFFFFF;\n",
              "    }\n",
              "  </style>\n",
              "\n",
              "      <script>\n",
              "        const buttonEl =\n",
              "          document.querySelector('#df-d44bfcb7-0ba9-41e0-80ab-2f33f8a981ad button.colab-df-convert');\n",
              "        buttonEl.style.display =\n",
              "          google.colab.kernel.accessAllowed ? 'block' : 'none';\n",
              "\n",
              "        async function convertToInteractive(key) {\n",
              "          const element = document.querySelector('#df-d44bfcb7-0ba9-41e0-80ab-2f33f8a981ad');\n",
              "          const dataTable =\n",
              "            await google.colab.kernel.invokeFunction('convertToInteractive',\n",
              "                                                     [key], {});\n",
              "          if (!dataTable) return;\n",
              "\n",
              "          const docLinkHtml = 'Like what you see? Visit the ' +\n",
              "            '<a target=\"_blank\" href=https://colab.research.google.com/notebooks/data_table.ipynb>data table notebook</a>'\n",
              "            + ' to learn more about interactive tables.';\n",
              "          element.innerHTML = '';\n",
              "          dataTable['output_type'] = 'display_data';\n",
              "          await google.colab.output.renderOutput(dataTable, element);\n",
              "          const docLink = document.createElement('div');\n",
              "          docLink.innerHTML = docLinkHtml;\n",
              "          element.appendChild(docLink);\n",
              "        }\n",
              "      </script>\n",
              "    </div>\n",
              "  </div>\n",
              "  "
            ]
          },
          "metadata": {},
          "execution_count": 115
        }
      ]
    },
    {
      "cell_type": "code",
      "source": [
        "working_culture_dataset_Work_from_office = IT_working_culture_Work_from_office.iloc[0:17,10:18]"
      ],
      "metadata": {
        "id": "e3Q2Fwpy_NBs"
      },
      "execution_count": null,
      "outputs": []
    },
    {
      "cell_type": "code",
      "source": [
        "working_culture_dataset_Work_from_office.head()"
      ],
      "metadata": {
        "colab": {
          "base_uri": "https://localhost:8080/"
        },
        "id": "tE_ZfaFh_SE8",
        "outputId": "04a729be-00ac-469b-f6fb-e395af886356"
      },
      "execution_count": null,
      "outputs": [
        {
          "output_type": "execute_result",
          "data": {
            "text/plain": [
              "    STRESS_LEVEL_IN_A_PROJECT  ENGAGEMENT_WITH_FAMILY  \\\n",
              "3                   -1.628461               -0.161396   \n",
              "19                  -0.520973                0.200308   \n",
              "20                   0.137683               -0.530635   \n",
              "21                   0.032771                0.207842   \n",
              "31                  -2.392029               -0.161396   \n",
              "\n",
              "    ENGAGEMENT_WITH_SOCIETY  SATISFACTION_ABOUT_COUNTRY  \\\n",
              "3                 -0.879361                    0.161807   \n",
              "19                 0.562811                    0.236113   \n",
              "20                -0.857222                   -0.133081   \n",
              "21                -0.879361                    0.161807   \n",
              "31                -0.398637                   -1.750852   \n",
              "\n",
              "    SATISFACTION_ABOUT_COMPANY  SATISFACTION_ABOUT_SALARY  \\\n",
              "3                    -1.236220                   0.643952   \n",
              "19                   -0.276529                  -0.491916   \n",
              "20                   -2.195911                  -0.952341   \n",
              "21                    1.174885                   1.311940   \n",
              "31                   -2.195911                  -0.748236   \n",
              "\n",
              "    SATISFACTION_ABOUT_JOB_POSITION  SATISFACTION_ABOUT_IT_FIELD  \n",
              "3                          0.126900                            0  \n",
              "19                         0.171849                            1  \n",
              "20                        -0.955062                            1  \n",
              "21                         1.208861                            1  \n",
              "31                        -3.118986                            1  "
            ],
            "text/html": [
              "\n",
              "  <div id=\"df-e8600999-2c8b-460b-a94f-c373c6bc55a7\">\n",
              "    <div class=\"colab-df-container\">\n",
              "      <div>\n",
              "<style scoped>\n",
              "    .dataframe tbody tr th:only-of-type {\n",
              "        vertical-align: middle;\n",
              "    }\n",
              "\n",
              "    .dataframe tbody tr th {\n",
              "        vertical-align: top;\n",
              "    }\n",
              "\n",
              "    .dataframe thead th {\n",
              "        text-align: right;\n",
              "    }\n",
              "</style>\n",
              "<table border=\"1\" class=\"dataframe\">\n",
              "  <thead>\n",
              "    <tr style=\"text-align: right;\">\n",
              "      <th></th>\n",
              "      <th>STRESS_LEVEL_IN_A_PROJECT</th>\n",
              "      <th>ENGAGEMENT_WITH_FAMILY</th>\n",
              "      <th>ENGAGEMENT_WITH_SOCIETY</th>\n",
              "      <th>SATISFACTION_ABOUT_COUNTRY</th>\n",
              "      <th>SATISFACTION_ABOUT_COMPANY</th>\n",
              "      <th>SATISFACTION_ABOUT_SALARY</th>\n",
              "      <th>SATISFACTION_ABOUT_JOB_POSITION</th>\n",
              "      <th>SATISFACTION_ABOUT_IT_FIELD</th>\n",
              "    </tr>\n",
              "  </thead>\n",
              "  <tbody>\n",
              "    <tr>\n",
              "      <th>3</th>\n",
              "      <td>-1.628461</td>\n",
              "      <td>-0.161396</td>\n",
              "      <td>-0.879361</td>\n",
              "      <td>0.161807</td>\n",
              "      <td>-1.236220</td>\n",
              "      <td>0.643952</td>\n",
              "      <td>0.126900</td>\n",
              "      <td>0</td>\n",
              "    </tr>\n",
              "    <tr>\n",
              "      <th>19</th>\n",
              "      <td>-0.520973</td>\n",
              "      <td>0.200308</td>\n",
              "      <td>0.562811</td>\n",
              "      <td>0.236113</td>\n",
              "      <td>-0.276529</td>\n",
              "      <td>-0.491916</td>\n",
              "      <td>0.171849</td>\n",
              "      <td>1</td>\n",
              "    </tr>\n",
              "    <tr>\n",
              "      <th>20</th>\n",
              "      <td>0.137683</td>\n",
              "      <td>-0.530635</td>\n",
              "      <td>-0.857222</td>\n",
              "      <td>-0.133081</td>\n",
              "      <td>-2.195911</td>\n",
              "      <td>-0.952341</td>\n",
              "      <td>-0.955062</td>\n",
              "      <td>1</td>\n",
              "    </tr>\n",
              "    <tr>\n",
              "      <th>21</th>\n",
              "      <td>0.032771</td>\n",
              "      <td>0.207842</td>\n",
              "      <td>-0.879361</td>\n",
              "      <td>0.161807</td>\n",
              "      <td>1.174885</td>\n",
              "      <td>1.311940</td>\n",
              "      <td>1.208861</td>\n",
              "      <td>1</td>\n",
              "    </tr>\n",
              "    <tr>\n",
              "      <th>31</th>\n",
              "      <td>-2.392029</td>\n",
              "      <td>-0.161396</td>\n",
              "      <td>-0.398637</td>\n",
              "      <td>-1.750852</td>\n",
              "      <td>-2.195911</td>\n",
              "      <td>-0.748236</td>\n",
              "      <td>-3.118986</td>\n",
              "      <td>1</td>\n",
              "    </tr>\n",
              "  </tbody>\n",
              "</table>\n",
              "</div>\n",
              "      <button class=\"colab-df-convert\" onclick=\"convertToInteractive('df-e8600999-2c8b-460b-a94f-c373c6bc55a7')\"\n",
              "              title=\"Convert this dataframe to an interactive table.\"\n",
              "              style=\"display:none;\">\n",
              "        \n",
              "  <svg xmlns=\"http://www.w3.org/2000/svg\" height=\"24px\"viewBox=\"0 0 24 24\"\n",
              "       width=\"24px\">\n",
              "    <path d=\"M0 0h24v24H0V0z\" fill=\"none\"/>\n",
              "    <path d=\"M18.56 5.44l.94 2.06.94-2.06 2.06-.94-2.06-.94-.94-2.06-.94 2.06-2.06.94zm-11 1L8.5 8.5l.94-2.06 2.06-.94-2.06-.94L8.5 2.5l-.94 2.06-2.06.94zm10 10l.94 2.06.94-2.06 2.06-.94-2.06-.94-.94-2.06-.94 2.06-2.06.94z\"/><path d=\"M17.41 7.96l-1.37-1.37c-.4-.4-.92-.59-1.43-.59-.52 0-1.04.2-1.43.59L10.3 9.45l-7.72 7.72c-.78.78-.78 2.05 0 2.83L4 21.41c.39.39.9.59 1.41.59.51 0 1.02-.2 1.41-.59l7.78-7.78 2.81-2.81c.8-.78.8-2.07 0-2.86zM5.41 20L4 18.59l7.72-7.72 1.47 1.35L5.41 20z\"/>\n",
              "  </svg>\n",
              "      </button>\n",
              "      \n",
              "  <style>\n",
              "    .colab-df-container {\n",
              "      display:flex;\n",
              "      flex-wrap:wrap;\n",
              "      gap: 12px;\n",
              "    }\n",
              "\n",
              "    .colab-df-convert {\n",
              "      background-color: #E8F0FE;\n",
              "      border: none;\n",
              "      border-radius: 50%;\n",
              "      cursor: pointer;\n",
              "      display: none;\n",
              "      fill: #1967D2;\n",
              "      height: 32px;\n",
              "      padding: 0 0 0 0;\n",
              "      width: 32px;\n",
              "    }\n",
              "\n",
              "    .colab-df-convert:hover {\n",
              "      background-color: #E2EBFA;\n",
              "      box-shadow: 0px 1px 2px rgba(60, 64, 67, 0.3), 0px 1px 3px 1px rgba(60, 64, 67, 0.15);\n",
              "      fill: #174EA6;\n",
              "    }\n",
              "\n",
              "    [theme=dark] .colab-df-convert {\n",
              "      background-color: #3B4455;\n",
              "      fill: #D2E3FC;\n",
              "    }\n",
              "\n",
              "    [theme=dark] .colab-df-convert:hover {\n",
              "      background-color: #434B5C;\n",
              "      box-shadow: 0px 1px 3px 1px rgba(0, 0, 0, 0.15);\n",
              "      filter: drop-shadow(0px 1px 2px rgba(0, 0, 0, 0.3));\n",
              "      fill: #FFFFFF;\n",
              "    }\n",
              "  </style>\n",
              "\n",
              "      <script>\n",
              "        const buttonEl =\n",
              "          document.querySelector('#df-e8600999-2c8b-460b-a94f-c373c6bc55a7 button.colab-df-convert');\n",
              "        buttonEl.style.display =\n",
              "          google.colab.kernel.accessAllowed ? 'block' : 'none';\n",
              "\n",
              "        async function convertToInteractive(key) {\n",
              "          const element = document.querySelector('#df-e8600999-2c8b-460b-a94f-c373c6bc55a7');\n",
              "          const dataTable =\n",
              "            await google.colab.kernel.invokeFunction('convertToInteractive',\n",
              "                                                     [key], {});\n",
              "          if (!dataTable) return;\n",
              "\n",
              "          const docLinkHtml = 'Like what you see? Visit the ' +\n",
              "            '<a target=\"_blank\" href=https://colab.research.google.com/notebooks/data_table.ipynb>data table notebook</a>'\n",
              "            + ' to learn more about interactive tables.';\n",
              "          element.innerHTML = '';\n",
              "          dataTable['output_type'] = 'display_data';\n",
              "          await google.colab.output.renderOutput(dataTable, element);\n",
              "          const docLink = document.createElement('div');\n",
              "          docLink.innerHTML = docLinkHtml;\n",
              "          element.appendChild(docLink);\n",
              "        }\n",
              "      </script>\n",
              "    </div>\n",
              "  </div>\n",
              "  "
            ]
          },
          "metadata": {},
          "execution_count": 117
        }
      ]
    },
    {
      "cell_type": "code",
      "source": [
        "data_working_culture_Work_from_office = working_culture_dataset_Work_from_office[:].values\n",
        "x_Work_from_office = data_working_culture_Work_from_office[:,0:7]\n",
        "y_Work_from_office= data_working_culture_Work_from_office[:,7]\n"
      ],
      "metadata": {
        "id": "XTjZU8AM_Uaa"
      },
      "execution_count": null,
      "outputs": []
    },
    {
      "cell_type": "code",
      "source": [
        "network.evaluate(x_Work_from_office, y_Work_from_office)"
      ],
      "metadata": {
        "colab": {
          "base_uri": "https://localhost:8080/"
        },
        "id": "8pWlsg4m_Wlb",
        "outputId": "0ec24da8-7669-4fd3-e424-9f32d7f70868"
      },
      "execution_count": null,
      "outputs": [
        {
          "output_type": "stream",
          "name": "stdout",
          "text": [
            "1/1 [==============================] - 0s 62ms/step - loss: 0.5732 - accuracy: 0.8235\n"
          ]
        },
        {
          "output_type": "execute_result",
          "data": {
            "text/plain": [
              "[0.573215126991272, 0.8235294222831726]"
            ]
          },
          "metadata": {},
          "execution_count": 119
        }
      ]
    },
    {
      "cell_type": "code",
      "source": [
        "predictions_Work_from_office = network.predict(x_Work_from_office)"
      ],
      "metadata": {
        "colab": {
          "base_uri": "https://localhost:8080/"
        },
        "id": "LNA510Mf_dxP",
        "outputId": "4a0f3607-3f58-45cb-b477-9a490d97a98a"
      },
      "execution_count": null,
      "outputs": [
        {
          "output_type": "stream",
          "name": "stdout",
          "text": [
            "1/1 [==============================] - 0s 21ms/step\n"
          ]
        }
      ]
    },
    {
      "cell_type": "code",
      "source": [
        "binary_predictions_Work_from_office = np.where(predictions_Work_from_office >= threshold, 1, 0)"
      ],
      "metadata": {
        "id": "H85k0nsf_Zvi"
      },
      "execution_count": null,
      "outputs": []
    },
    {
      "cell_type": "code",
      "source": [
        "# Calculate accuracy\n",
        "accuracy_Work_from_office = accuracy_score(y_Work_from_office, binary_predictions_Work_from_office)\n",
        "accuracy_Work_from_office\n"
      ],
      "metadata": {
        "colab": {
          "base_uri": "https://localhost:8080/"
        },
        "id": "10DZjF3o_hfj",
        "outputId": "2b53db10-cb94-496b-bd41-a892c7a1510b"
      },
      "execution_count": null,
      "outputs": [
        {
          "output_type": "execute_result",
          "data": {
            "text/plain": [
              "0.8235294117647058"
            ]
          },
          "metadata": {},
          "execution_count": 123
        }
      ]
    }
  ],
  "metadata": {
    "colab": {
      "provenance": []
    },
    "kernelspec": {
      "display_name": "Python 3",
      "name": "python3"
    },
    "language_info": {
      "name": "python"
    }
  },
  "nbformat": 4,
  "nbformat_minor": 0
}